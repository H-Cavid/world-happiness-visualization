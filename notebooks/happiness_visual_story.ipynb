{
 "cells": [
  {
   "cell_type": "markdown",
   "metadata": {},
   "source": [
    "# <b>Introduction: Goal and Motivation</b>\n"
   ]
  },
  {
   "cell_type": "markdown",
   "metadata": {},
   "source": [
    "## <b>Goal of the Project</b>\n",
    "The primary goal of this project is to analyze the World Happiness Report data from 2015 to 2019 to discern evolving global happiness trends. Through comprehensive examination of this dataset, the project aims to identify key factors influencing happiness levels among different countries and regions. By comparing and contrasting happiness scores over time and across nations, the objective is to uncover insights that illuminate the variations in happiness and the underlying factors driving these differences."
   ]
  },
  {
   "cell_type": "markdown",
   "metadata": {},
   "source": [
    "## <b>Motivation for Exploring World Happiness Report Data</b>\n",
    "The motivation behind exploring the World Happiness Report data lies in its comprehensive survey methodology that evaluates happiness based on multiple factors such as economic stability, social support, health, freedom, and perceptions of corruption. These metrics not only provide a snapshot of well-being but also offer insights into societal and economic conditions that influence happiness levels globally."
   ]
  },
  {
   "cell_type": "markdown",
   "metadata": {},
   "source": [
    "Through this exploration, I aim to:\n",
    "\n",
    "1. Analyze and interpret patterns and trends in global happiness scores from 2015 to 2019.\n",
    "2. Assess the varying importance of economic stability, social support, health, freedom, and perceptions of corruption in contributing to happiness.\n",
    "3. Examine the impact of geopolitical shifts and socio-economic changes on happiness levels across different regions and countries."
   ]
  },
  {
   "cell_type": "markdown",
   "metadata": {},
   "source": [
    "# <b>About Dataset</b>"
   ]
  },
  {
   "cell_type": "markdown",
   "metadata": {},
   "source": [
    "#  Key Features:\n",
    "The dataset used for this project includes the following variables:\n",
    "\n",
    "- Country: The country name.\n",
    "- Region: The geographical region to which the country belongs (if available).\n",
    "- Year: The year of the data observation.\n",
    "- Happiness_Rank: The rank of the country based on its Happiness Score.\n",
    "- Happiness_Score: A metric indicating the perceived happiness of a country's citizens.\n",
    "- Economy_GDP_per_Capita: The GDP per capita of the country, a proxy for economic well-being.\n",
    "- Family: The strength of social support available to citizens of the country.\n",
    "- Health_Life_Expectancy: Life expectancy and overall health measures in the country.\n",
    "- Freedom: The degree of personal freedom enjoyed by citizens.\n",
    "- Trust_Government_Corruption: Perceptions of government transparency and trustworthiness.\n",
    "- Generosity: The extent to which individuals in the country are generous.\n"
   ]
  },
  {
   "cell_type": "code",
   "execution_count": 12,
   "metadata": {},
   "outputs": [],
   "source": [
    "import pandas as pd\n",
    "import plotly.express as px\n",
    "import plotly.graph_objects as go\n",
    "import seaborn as sns\n",
    "import matplotlib.pyplot as plt"
   ]
  },
  {
   "cell_type": "code",
   "execution_count": 13,
   "metadata": {},
   "outputs": [
    {
     "data": {
      "text/html": [
       "<div>\n",
       "<style scoped>\n",
       "    .dataframe tbody tr th:only-of-type {\n",
       "        vertical-align: middle;\n",
       "    }\n",
       "\n",
       "    .dataframe tbody tr th {\n",
       "        vertical-align: top;\n",
       "    }\n",
       "\n",
       "    .dataframe thead th {\n",
       "        text-align: right;\n",
       "    }\n",
       "</style>\n",
       "<table border=\"1\" class=\"dataframe\">\n",
       "  <thead>\n",
       "    <tr style=\"text-align: right;\">\n",
       "      <th></th>\n",
       "      <th>Country</th>\n",
       "      <th>Region</th>\n",
       "      <th>Year</th>\n",
       "      <th>Happiness_Rank</th>\n",
       "      <th>Happiness_Score</th>\n",
       "      <th>Economy_GDP_per_Capita</th>\n",
       "      <th>Family</th>\n",
       "      <th>Health_Life_Expectancy</th>\n",
       "      <th>Freedom</th>\n",
       "      <th>Trust_Government_Corruption</th>\n",
       "      <th>Generosity</th>\n",
       "    </tr>\n",
       "  </thead>\n",
       "  <tbody>\n",
       "    <tr>\n",
       "      <th>0</th>\n",
       "      <td>Afghanistan</td>\n",
       "      <td>Southern Asia</td>\n",
       "      <td>2015</td>\n",
       "      <td>153</td>\n",
       "      <td>3.575</td>\n",
       "      <td>0.319820</td>\n",
       "      <td>0.302850</td>\n",
       "      <td>0.303350</td>\n",
       "      <td>0.23414</td>\n",
       "      <td>0.097190</td>\n",
       "      <td>0.365100</td>\n",
       "    </tr>\n",
       "    <tr>\n",
       "      <th>1</th>\n",
       "      <td>Afghanistan</td>\n",
       "      <td>Southern Asia</td>\n",
       "      <td>2016</td>\n",
       "      <td>154</td>\n",
       "      <td>3.360</td>\n",
       "      <td>0.382270</td>\n",
       "      <td>0.110370</td>\n",
       "      <td>0.173440</td>\n",
       "      <td>0.16430</td>\n",
       "      <td>0.071120</td>\n",
       "      <td>0.312680</td>\n",
       "    </tr>\n",
       "    <tr>\n",
       "      <th>2</th>\n",
       "      <td>Afghanistan</td>\n",
       "      <td>Southern Asia</td>\n",
       "      <td>2017</td>\n",
       "      <td>141</td>\n",
       "      <td>3.794</td>\n",
       "      <td>0.401477</td>\n",
       "      <td>0.581543</td>\n",
       "      <td>0.180747</td>\n",
       "      <td>0.10618</td>\n",
       "      <td>0.061158</td>\n",
       "      <td>0.311871</td>\n",
       "    </tr>\n",
       "    <tr>\n",
       "      <th>3</th>\n",
       "      <td>Afghanistan</td>\n",
       "      <td>Southern Asia</td>\n",
       "      <td>2018</td>\n",
       "      <td>145</td>\n",
       "      <td>3.632</td>\n",
       "      <td>0.332000</td>\n",
       "      <td>0.537000</td>\n",
       "      <td>0.255000</td>\n",
       "      <td>0.08500</td>\n",
       "      <td>0.036000</td>\n",
       "      <td>0.191000</td>\n",
       "    </tr>\n",
       "    <tr>\n",
       "      <th>4</th>\n",
       "      <td>Afghanistan</td>\n",
       "      <td>Southern Asia</td>\n",
       "      <td>2019</td>\n",
       "      <td>154</td>\n",
       "      <td>3.203</td>\n",
       "      <td>0.350000</td>\n",
       "      <td>0.517000</td>\n",
       "      <td>0.361000</td>\n",
       "      <td>0.00000</td>\n",
       "      <td>0.025000</td>\n",
       "      <td>0.158000</td>\n",
       "    </tr>\n",
       "  </tbody>\n",
       "</table>\n",
       "</div>"
      ],
      "text/plain": [
       "       Country         Region  Year  Happiness_Rank  Happiness_Score  \\\n",
       "0  Afghanistan  Southern Asia  2015             153            3.575   \n",
       "1  Afghanistan  Southern Asia  2016             154            3.360   \n",
       "2  Afghanistan  Southern Asia  2017             141            3.794   \n",
       "3  Afghanistan  Southern Asia  2018             145            3.632   \n",
       "4  Afghanistan  Southern Asia  2019             154            3.203   \n",
       "\n",
       "   Economy_GDP_per_Capita    Family  Health_Life_Expectancy  Freedom  \\\n",
       "0                0.319820  0.302850                0.303350  0.23414   \n",
       "1                0.382270  0.110370                0.173440  0.16430   \n",
       "2                0.401477  0.581543                0.180747  0.10618   \n",
       "3                0.332000  0.537000                0.255000  0.08500   \n",
       "4                0.350000  0.517000                0.361000  0.00000   \n",
       "\n",
       "   Trust_Government_Corruption  Generosity  \n",
       "0                     0.097190    0.365100  \n",
       "1                     0.071120    0.312680  \n",
       "2                     0.061158    0.311871  \n",
       "3                     0.036000    0.191000  \n",
       "4                     0.025000    0.158000  "
      ]
     },
     "execution_count": 13,
     "metadata": {},
     "output_type": "execute_result"
    }
   ],
   "source": [
    "data = pd.read_csv('../data/all_happiness_data.csv')\n",
    "data.head()"
   ]
  },
  {
   "cell_type": "code",
   "execution_count": 14,
   "metadata": {},
   "outputs": [
    {
     "data": {
      "text/plain": [
       "Index(['Country', 'Region', 'Year', 'Happiness_Rank', 'Happiness_Score',\n",
       "       'Economy_GDP_per_Capita', 'Family', 'Health_Life_Expectancy', 'Freedom',\n",
       "       'Trust_Government_Corruption', 'Generosity'],\n",
       "      dtype='object')"
      ]
     },
     "execution_count": 14,
     "metadata": {},
     "output_type": "execute_result"
    }
   ],
   "source": [
    "data.columns"
   ]
  },
  {
   "cell_type": "markdown",
   "metadata": {},
   "source": [
    "# <b>Visualization 1: How Have Global Happiness Scores Changed Over Time (2015-2019)?</b>"
   ]
  },
  {
   "cell_type": "code",
   "execution_count": 15,
   "metadata": {},
   "outputs": [
    {
     "data": {
      "application/vnd.plotly.v1+json": {
       "config": {
        "plotlyServerURL": "https://plot.ly"
       },
       "data": [
        {
         "hovertemplate": "Year=%{x}<br>Average Happiness Score=%{y}<extra></extra>",
         "legendgroup": "",
         "line": {
          "color": "#636efa",
          "dash": "solid"
         },
         "marker": {
          "symbol": "circle"
         },
         "mode": "lines+markers",
         "name": "",
         "orientation": "v",
         "showlegend": false,
         "type": "scatter",
         "x": {
          "bdata": "3wfgB+EH4gfjBw==",
          "dtype": "i2"
         },
         "xaxis": "x",
         "y": {
          "bdata": "zIPMdcCAFUC06/NtW4cVQM3MzAyEahVALmt1TPCAFUDvYmzQ3aAVQA==",
          "dtype": "f8"
         },
         "yaxis": "y"
        }
       ],
       "layout": {
        "annotations": [
         {
          "arrowhead": 2,
          "ax": 0,
          "ay": -40,
          "bgcolor": "blue",
          "bordercolor": "#c7c7c7",
          "borderpad": 4,
          "borderwidth": 2,
          "font": {
           "color": "#ffffff",
           "family": "Courier New, monospace",
           "size": 16
          },
          "opacity": 0.8,
          "showarrow": true,
          "text": "Highest: 5.41",
          "x": 2019,
          "y": 5.407096153846154
         },
         {
          "arrowhead": 2,
          "ax": 0,
          "ay": 40,
          "bgcolor": "red",
          "bordercolor": "#c7c7c7",
          "borderpad": 4,
          "borderwidth": 2,
          "font": {
           "color": "#ffffff",
           "family": "Courier New, monospace",
           "size": 16
          },
          "opacity": 0.8,
          "showarrow": true,
          "text": "Lowest: 5.35",
          "x": 2017,
          "y": 5.354019355773926
         }
        ],
        "legend": {
         "tracegroupgap": 0
        },
        "template": {
         "data": {
          "bar": [
           {
            "error_x": {
             "color": "#2a3f5f"
            },
            "error_y": {
             "color": "#2a3f5f"
            },
            "marker": {
             "line": {
              "color": "#E5ECF6",
              "width": 0.5
             },
             "pattern": {
              "fillmode": "overlay",
              "size": 10,
              "solidity": 0.2
             }
            },
            "type": "bar"
           }
          ],
          "barpolar": [
           {
            "marker": {
             "line": {
              "color": "#E5ECF6",
              "width": 0.5
             },
             "pattern": {
              "fillmode": "overlay",
              "size": 10,
              "solidity": 0.2
             }
            },
            "type": "barpolar"
           }
          ],
          "carpet": [
           {
            "aaxis": {
             "endlinecolor": "#2a3f5f",
             "gridcolor": "white",
             "linecolor": "white",
             "minorgridcolor": "white",
             "startlinecolor": "#2a3f5f"
            },
            "baxis": {
             "endlinecolor": "#2a3f5f",
             "gridcolor": "white",
             "linecolor": "white",
             "minorgridcolor": "white",
             "startlinecolor": "#2a3f5f"
            },
            "type": "carpet"
           }
          ],
          "choropleth": [
           {
            "colorbar": {
             "outlinewidth": 0,
             "ticks": ""
            },
            "type": "choropleth"
           }
          ],
          "contour": [
           {
            "colorbar": {
             "outlinewidth": 0,
             "ticks": ""
            },
            "colorscale": [
             [
              0,
              "#0d0887"
             ],
             [
              0.1111111111111111,
              "#46039f"
             ],
             [
              0.2222222222222222,
              "#7201a8"
             ],
             [
              0.3333333333333333,
              "#9c179e"
             ],
             [
              0.4444444444444444,
              "#bd3786"
             ],
             [
              0.5555555555555556,
              "#d8576b"
             ],
             [
              0.6666666666666666,
              "#ed7953"
             ],
             [
              0.7777777777777778,
              "#fb9f3a"
             ],
             [
              0.8888888888888888,
              "#fdca26"
             ],
             [
              1,
              "#f0f921"
             ]
            ],
            "type": "contour"
           }
          ],
          "contourcarpet": [
           {
            "colorbar": {
             "outlinewidth": 0,
             "ticks": ""
            },
            "type": "contourcarpet"
           }
          ],
          "heatmap": [
           {
            "colorbar": {
             "outlinewidth": 0,
             "ticks": ""
            },
            "colorscale": [
             [
              0,
              "#0d0887"
             ],
             [
              0.1111111111111111,
              "#46039f"
             ],
             [
              0.2222222222222222,
              "#7201a8"
             ],
             [
              0.3333333333333333,
              "#9c179e"
             ],
             [
              0.4444444444444444,
              "#bd3786"
             ],
             [
              0.5555555555555556,
              "#d8576b"
             ],
             [
              0.6666666666666666,
              "#ed7953"
             ],
             [
              0.7777777777777778,
              "#fb9f3a"
             ],
             [
              0.8888888888888888,
              "#fdca26"
             ],
             [
              1,
              "#f0f921"
             ]
            ],
            "type": "heatmap"
           }
          ],
          "histogram": [
           {
            "marker": {
             "pattern": {
              "fillmode": "overlay",
              "size": 10,
              "solidity": 0.2
             }
            },
            "type": "histogram"
           }
          ],
          "histogram2d": [
           {
            "colorbar": {
             "outlinewidth": 0,
             "ticks": ""
            },
            "colorscale": [
             [
              0,
              "#0d0887"
             ],
             [
              0.1111111111111111,
              "#46039f"
             ],
             [
              0.2222222222222222,
              "#7201a8"
             ],
             [
              0.3333333333333333,
              "#9c179e"
             ],
             [
              0.4444444444444444,
              "#bd3786"
             ],
             [
              0.5555555555555556,
              "#d8576b"
             ],
             [
              0.6666666666666666,
              "#ed7953"
             ],
             [
              0.7777777777777778,
              "#fb9f3a"
             ],
             [
              0.8888888888888888,
              "#fdca26"
             ],
             [
              1,
              "#f0f921"
             ]
            ],
            "type": "histogram2d"
           }
          ],
          "histogram2dcontour": [
           {
            "colorbar": {
             "outlinewidth": 0,
             "ticks": ""
            },
            "colorscale": [
             [
              0,
              "#0d0887"
             ],
             [
              0.1111111111111111,
              "#46039f"
             ],
             [
              0.2222222222222222,
              "#7201a8"
             ],
             [
              0.3333333333333333,
              "#9c179e"
             ],
             [
              0.4444444444444444,
              "#bd3786"
             ],
             [
              0.5555555555555556,
              "#d8576b"
             ],
             [
              0.6666666666666666,
              "#ed7953"
             ],
             [
              0.7777777777777778,
              "#fb9f3a"
             ],
             [
              0.8888888888888888,
              "#fdca26"
             ],
             [
              1,
              "#f0f921"
             ]
            ],
            "type": "histogram2dcontour"
           }
          ],
          "mesh3d": [
           {
            "colorbar": {
             "outlinewidth": 0,
             "ticks": ""
            },
            "type": "mesh3d"
           }
          ],
          "parcoords": [
           {
            "line": {
             "colorbar": {
              "outlinewidth": 0,
              "ticks": ""
             }
            },
            "type": "parcoords"
           }
          ],
          "pie": [
           {
            "automargin": true,
            "type": "pie"
           }
          ],
          "scatter": [
           {
            "fillpattern": {
             "fillmode": "overlay",
             "size": 10,
             "solidity": 0.2
            },
            "type": "scatter"
           }
          ],
          "scatter3d": [
           {
            "line": {
             "colorbar": {
              "outlinewidth": 0,
              "ticks": ""
             }
            },
            "marker": {
             "colorbar": {
              "outlinewidth": 0,
              "ticks": ""
             }
            },
            "type": "scatter3d"
           }
          ],
          "scattercarpet": [
           {
            "marker": {
             "colorbar": {
              "outlinewidth": 0,
              "ticks": ""
             }
            },
            "type": "scattercarpet"
           }
          ],
          "scattergeo": [
           {
            "marker": {
             "colorbar": {
              "outlinewidth": 0,
              "ticks": ""
             }
            },
            "type": "scattergeo"
           }
          ],
          "scattergl": [
           {
            "marker": {
             "colorbar": {
              "outlinewidth": 0,
              "ticks": ""
             }
            },
            "type": "scattergl"
           }
          ],
          "scattermap": [
           {
            "marker": {
             "colorbar": {
              "outlinewidth": 0,
              "ticks": ""
             }
            },
            "type": "scattermap"
           }
          ],
          "scattermapbox": [
           {
            "marker": {
             "colorbar": {
              "outlinewidth": 0,
              "ticks": ""
             }
            },
            "type": "scattermapbox"
           }
          ],
          "scatterpolar": [
           {
            "marker": {
             "colorbar": {
              "outlinewidth": 0,
              "ticks": ""
             }
            },
            "type": "scatterpolar"
           }
          ],
          "scatterpolargl": [
           {
            "marker": {
             "colorbar": {
              "outlinewidth": 0,
              "ticks": ""
             }
            },
            "type": "scatterpolargl"
           }
          ],
          "scatterternary": [
           {
            "marker": {
             "colorbar": {
              "outlinewidth": 0,
              "ticks": ""
             }
            },
            "type": "scatterternary"
           }
          ],
          "surface": [
           {
            "colorbar": {
             "outlinewidth": 0,
             "ticks": ""
            },
            "colorscale": [
             [
              0,
              "#0d0887"
             ],
             [
              0.1111111111111111,
              "#46039f"
             ],
             [
              0.2222222222222222,
              "#7201a8"
             ],
             [
              0.3333333333333333,
              "#9c179e"
             ],
             [
              0.4444444444444444,
              "#bd3786"
             ],
             [
              0.5555555555555556,
              "#d8576b"
             ],
             [
              0.6666666666666666,
              "#ed7953"
             ],
             [
              0.7777777777777778,
              "#fb9f3a"
             ],
             [
              0.8888888888888888,
              "#fdca26"
             ],
             [
              1,
              "#f0f921"
             ]
            ],
            "type": "surface"
           }
          ],
          "table": [
           {
            "cells": {
             "fill": {
              "color": "#EBF0F8"
             },
             "line": {
              "color": "white"
             }
            },
            "header": {
             "fill": {
              "color": "#C8D4E3"
             },
             "line": {
              "color": "white"
             }
            },
            "type": "table"
           }
          ]
         },
         "layout": {
          "annotationdefaults": {
           "arrowcolor": "#2a3f5f",
           "arrowhead": 0,
           "arrowwidth": 1
          },
          "autotypenumbers": "strict",
          "coloraxis": {
           "colorbar": {
            "outlinewidth": 0,
            "ticks": ""
           }
          },
          "colorscale": {
           "diverging": [
            [
             0,
             "#8e0152"
            ],
            [
             0.1,
             "#c51b7d"
            ],
            [
             0.2,
             "#de77ae"
            ],
            [
             0.3,
             "#f1b6da"
            ],
            [
             0.4,
             "#fde0ef"
            ],
            [
             0.5,
             "#f7f7f7"
            ],
            [
             0.6,
             "#e6f5d0"
            ],
            [
             0.7,
             "#b8e186"
            ],
            [
             0.8,
             "#7fbc41"
            ],
            [
             0.9,
             "#4d9221"
            ],
            [
             1,
             "#276419"
            ]
           ],
           "sequential": [
            [
             0,
             "#0d0887"
            ],
            [
             0.1111111111111111,
             "#46039f"
            ],
            [
             0.2222222222222222,
             "#7201a8"
            ],
            [
             0.3333333333333333,
             "#9c179e"
            ],
            [
             0.4444444444444444,
             "#bd3786"
            ],
            [
             0.5555555555555556,
             "#d8576b"
            ],
            [
             0.6666666666666666,
             "#ed7953"
            ],
            [
             0.7777777777777778,
             "#fb9f3a"
            ],
            [
             0.8888888888888888,
             "#fdca26"
            ],
            [
             1,
             "#f0f921"
            ]
           ],
           "sequentialminus": [
            [
             0,
             "#0d0887"
            ],
            [
             0.1111111111111111,
             "#46039f"
            ],
            [
             0.2222222222222222,
             "#7201a8"
            ],
            [
             0.3333333333333333,
             "#9c179e"
            ],
            [
             0.4444444444444444,
             "#bd3786"
            ],
            [
             0.5555555555555556,
             "#d8576b"
            ],
            [
             0.6666666666666666,
             "#ed7953"
            ],
            [
             0.7777777777777778,
             "#fb9f3a"
            ],
            [
             0.8888888888888888,
             "#fdca26"
            ],
            [
             1,
             "#f0f921"
            ]
           ]
          },
          "colorway": [
           "#636efa",
           "#EF553B",
           "#00cc96",
           "#ab63fa",
           "#FFA15A",
           "#19d3f3",
           "#FF6692",
           "#B6E880",
           "#FF97FF",
           "#FECB52"
          ],
          "font": {
           "color": "#2a3f5f"
          },
          "geo": {
           "bgcolor": "white",
           "lakecolor": "white",
           "landcolor": "#E5ECF6",
           "showlakes": true,
           "showland": true,
           "subunitcolor": "white"
          },
          "hoverlabel": {
           "align": "left"
          },
          "hovermode": "closest",
          "mapbox": {
           "style": "light"
          },
          "paper_bgcolor": "white",
          "plot_bgcolor": "#E5ECF6",
          "polar": {
           "angularaxis": {
            "gridcolor": "white",
            "linecolor": "white",
            "ticks": ""
           },
           "bgcolor": "#E5ECF6",
           "radialaxis": {
            "gridcolor": "white",
            "linecolor": "white",
            "ticks": ""
           }
          },
          "scene": {
           "xaxis": {
            "backgroundcolor": "#E5ECF6",
            "gridcolor": "white",
            "gridwidth": 2,
            "linecolor": "white",
            "showbackground": true,
            "ticks": "",
            "zerolinecolor": "white"
           },
           "yaxis": {
            "backgroundcolor": "#E5ECF6",
            "gridcolor": "white",
            "gridwidth": 2,
            "linecolor": "white",
            "showbackground": true,
            "ticks": "",
            "zerolinecolor": "white"
           },
           "zaxis": {
            "backgroundcolor": "#E5ECF6",
            "gridcolor": "white",
            "gridwidth": 2,
            "linecolor": "white",
            "showbackground": true,
            "ticks": "",
            "zerolinecolor": "white"
           }
          },
          "shapedefaults": {
           "line": {
            "color": "#2a3f5f"
           }
          },
          "ternary": {
           "aaxis": {
            "gridcolor": "white",
            "linecolor": "white",
            "ticks": ""
           },
           "baxis": {
            "gridcolor": "white",
            "linecolor": "white",
            "ticks": ""
           },
           "bgcolor": "#E5ECF6",
           "caxis": {
            "gridcolor": "white",
            "linecolor": "white",
            "ticks": ""
           }
          },
          "title": {
           "x": 0.05
          },
          "xaxis": {
           "automargin": true,
           "gridcolor": "white",
           "linecolor": "white",
           "ticks": "",
           "title": {
            "standoff": 15
           },
           "zerolinecolor": "white",
           "zerolinewidth": 2
          },
          "yaxis": {
           "automargin": true,
           "gridcolor": "white",
           "linecolor": "white",
           "ticks": "",
           "title": {
            "standoff": 15
           },
           "zerolinecolor": "white",
           "zerolinewidth": 2
          }
         }
        },
        "title": {
         "text": "How Have Global Happiness Scores Changed Over Time (2015-2019)?"
        },
        "xaxis": {
         "anchor": "y",
         "domain": [
          0,
          1
         ],
         "title": {
          "text": "Year"
         }
        },
        "yaxis": {
         "anchor": "x",
         "domain": [
          0,
          1
         ],
         "title": {
          "text": "Average Happiness Score"
         }
        }
       }
      }
     },
     "metadata": {},
     "output_type": "display_data"
    }
   ],
   "source": [
    "average_happiness_per_year = data.groupby('Year')['Happiness_Score'].mean().reset_index() # Calculating the average happiness score for each year\n",
    "\n",
    "\n",
    "max_year = average_happiness_per_year.loc[average_happiness_per_year['Happiness_Score'].idxmax()]# years with the highest and lowest average happiness score\n",
    "min_year = average_happiness_per_year.loc[average_happiness_per_year['Happiness_Score'].idxmin()]\n",
    "\n",
    "fig = px.line(average_happiness_per_year, x='Year', y='Happiness_Score', \n",
    "              title='How Have Global Happiness Scores Changed Over Time (2015-2019)?',\n",
    "              labels={'Happiness_Score': 'Average Happiness Score', 'Year': 'Year'},\n",
    "              markers=True)# Creation of the line plot \n",
    "\n",
    "\n",
    "fig.add_annotation(\n",
    "    x=max_year['Year'], \n",
    "    y=max_year['Happiness_Score'],\n",
    "    text=f\"Highest: {max_year['Happiness_Score']:.2f}\",\n",
    "    showarrow=True,\n",
    "    arrowhead=2,\n",
    "    ax=0,\n",
    "    ay=-40,\n",
    "    font=dict(family=\"Courier New, monospace\", size=16, color=\"#ffffff\"),\n",
    "    bordercolor=\"#c7c7c7\",\n",
    "    borderwidth=2,\n",
    "    borderpad=4,\n",
    "    bgcolor=\"blue\",\n",
    "    opacity=0.8\n",
    "            \n",
    ")# Adding annotation for the highest points\n",
    "\n",
    "\n",
    "fig.add_annotation(\n",
    "    x=min_year['Year'], \n",
    "    y=min_year['Happiness_Score'],\n",
    "    text=f\"Lowest: {min_year['Happiness_Score']:.2f}\",\n",
    "    showarrow=True,\n",
    "    arrowhead=2,\n",
    "    ax=0,\n",
    "    ay=40,\n",
    "    font=dict(family=\"Courier New, monospace\", size=16, color=\"#ffffff\"),\n",
    "    bordercolor=\"#c7c7c7\",\n",
    "    borderwidth=2,\n",
    "    borderpad=4,\n",
    "    bgcolor=\"red\",\n",
    "    opacity=0.8\n",
    ")# Adding annotation for the lowest points\n",
    "\n",
    "\n",
    "fig.show()\n"
   ]
  },
  {
   "cell_type": "markdown",
   "metadata": {},
   "source": [
    "* From the plot above, we can observe that happiness scores fluctuated between 2015 and 2019. Until 2016, the average happiness score increased, but then it started to decrease sharply, reaching its lowest point of 5.35 in 2017. After 2017, the score increased, reaching its highest value of 5.41 in 2019. Overall, the happiness score increased over the five years, peaking in 2019. However, with the onset of the COVID-19 pandemic, it is likely that the happiness score has significantly decreased since then."
   ]
  },
  {
   "cell_type": "markdown",
   "metadata": {},
   "source": [
    "# <b>Visualization 2: How Do Average Happiness Scores Differ Across Countries Over the Years (2015-2019)?</b>\n"
   ]
  },
  {
   "cell_type": "code",
   "execution_count": 16,
   "metadata": {},
   "outputs": [
    {
     "data": {
      "application/vnd.plotly.v1+json": {
       "config": {
        "plotlyServerURL": "https://plot.ly"
       },
       "data": [
        {
         "coloraxis": "coloraxis",
         "customdata": [
          [
           "Southern Asia",
           2015,
           3.575
          ],
          [
           "Central and Eastern Europe",
           2015,
           4.959
          ],
          [
           "Middle East and Northern Africa",
           2015,
           5.605
          ],
          [
           "Sub-Saharan Africa",
           2015,
           4.033
          ],
          [
           "Latin America and Caribbean",
           2015,
           6.574
          ],
          [
           "Central and Eastern Europe",
           2015,
           4.35
          ],
          [
           "Australia and New Zealand",
           2015,
           7.284
          ],
          [
           "Western Europe",
           2015,
           7.2
          ],
          [
           "Central and Eastern Europe",
           2015,
           5.212
          ],
          [
           "Middle East and Northern Africa",
           2015,
           5.96
          ],
          [
           "Southern Asia",
           2015,
           4.694
          ],
          [
           "Central and Eastern Europe",
           2015,
           5.813
          ],
          [
           "Western Europe",
           2015,
           6.937
          ],
          [
           "Sub-Saharan Africa",
           2015,
           3.34
          ],
          [
           "Southern Asia",
           2015,
           5.253
          ],
          [
           "Latin America and Caribbean",
           2015,
           5.89
          ],
          [
           "Central and Eastern Europe",
           2015,
           4.949
          ],
          [
           "Sub-Saharan Africa",
           2015,
           4.332
          ],
          [
           "Latin America and Caribbean",
           2015,
           6.983
          ],
          [
           "Central and Eastern Europe",
           2015,
           4.218
          ],
          [
           "Sub-Saharan Africa",
           2015,
           3.587
          ],
          [
           "Sub-Saharan Africa",
           2015,
           2.905
          ],
          [
           "Southeastern Asia",
           2015,
           3.819
          ],
          [
           "Sub-Saharan Africa",
           2015,
           4.252
          ],
          [
           "North America",
           2015,
           7.427
          ],
          [
           "Sub-Saharan Africa",
           2015,
           3.678
          ],
          [
           "Sub-Saharan Africa",
           2015,
           3.667
          ],
          [
           "Latin America and Caribbean",
           2015,
           6.67
          ],
          [
           "Eastern Asia",
           2015,
           5.14
          ],
          [
           "Latin America and Caribbean",
           2015,
           6.477
          ],
          [
           "Sub-Saharan Africa",
           2015,
           3.956
          ],
          [
           "Sub-Saharan Africa",
           2015,
           3.989
          ],
          [
           "Sub-Saharan Africa",
           2015,
           4.517
          ],
          [
           "Latin America and Caribbean",
           2015,
           7.226
          ],
          [
           "Central and Eastern Europe",
           2015,
           5.759
          ],
          [
           "Western Europe",
           2015,
           5.689
          ],
          [
           "Central and Eastern Europe",
           2015,
           6.505
          ],
          [
           "Western Europe",
           2015,
           7.527
          ],
          [
           "Sub-Saharan Africa",
           2015,
           4.369
          ],
          [
           "Latin America and Caribbean",
           2015,
           4.885
          ],
          [
           "Latin America and Caribbean",
           2015,
           5.975
          ],
          [
           "Middle East and Northern Africa",
           2015,
           4.194
          ],
          [
           "Latin America and Caribbean",
           2015,
           6.13
          ],
          [
           "Central and Eastern Europe",
           2015,
           5.429
          ],
          [
           "Sub-Saharan Africa",
           2015,
           4.512
          ],
          [
           "Western Europe",
           2015,
           7.406
          ],
          [
           "Western Europe",
           2015,
           6.575
          ],
          [
           "Sub-Saharan Africa",
           2015,
           3.896
          ],
          [
           "Central and Eastern Europe",
           2015,
           4.297
          ],
          [
           "Western Europe",
           2015,
           6.75
          ],
          [
           "Sub-Saharan Africa",
           2015,
           4.633
          ],
          [
           "Western Europe",
           2015,
           4.857
          ],
          [
           "Latin America and Caribbean",
           2015,
           6.123
          ],
          [
           "Sub-Saharan Africa",
           2015,
           3.656
          ],
          [
           "Latin America and Caribbean",
           2015,
           4.518
          ],
          [
           "Latin America and Caribbean",
           2015,
           4.788
          ],
          [
           "Eastern Asia",
           2015,
           5.474
          ],
          [
           "Central and Eastern Europe",
           2015,
           4.8
          ],
          [
           "Western Europe",
           2015,
           7.561
          ],
          [
           "Southern Asia",
           2015,
           4.565
          ],
          [
           "Southeastern Asia",
           2015,
           5.399
          ],
          [
           "Middle East and Northern Africa",
           2015,
           4.686
          ],
          [
           "Middle East and Northern Africa",
           2015,
           4.677
          ],
          [
           "Western Europe",
           2015,
           6.94
          ],
          [
           "Middle East and Northern Africa",
           2015,
           7.278
          ],
          [
           "Western Europe",
           2015,
           5.948
          ],
          [
           "Sub-Saharan Africa",
           2015,
           3.655
          ],
          [
           "Latin America and Caribbean",
           2015,
           5.709
          ],
          [
           "Eastern Asia",
           2015,
           5.987
          ],
          [
           "Middle East and Northern Africa",
           2015,
           5.192
          ],
          [
           "Central and Eastern Europe",
           2015,
           5.855
          ],
          [
           "Sub-Saharan Africa",
           2015,
           4.419
          ],
          [
           "Central and Eastern Europe",
           2015,
           5.589
          ],
          [
           "Middle East and Northern Africa",
           2015,
           6.295
          ],
          [
           "Central and Eastern Europe",
           2015,
           5.286
          ],
          [
           "Southeastern Asia",
           2015,
           4.876
          ],
          [
           "Central and Eastern Europe",
           2015,
           5.098
          ],
          [
           "Middle East and Northern Africa",
           2015,
           4.839
          ],
          [
           "Sub-Saharan Africa",
           2015,
           4.898
          ],
          [
           "Sub-Saharan Africa",
           2015,
           4.571
          ],
          [
           "Middle East and Northern Africa",
           2015,
           5.754
          ],
          [
           "Central and Eastern Europe",
           2015,
           5.833
          ],
          [
           "Western Europe",
           2015,
           6.946
          ],
          [
           "Central and Eastern Europe",
           2015,
           5.007
          ],
          [
           "Sub-Saharan Africa",
           2015,
           3.681
          ],
          [
           "Sub-Saharan Africa",
           2015,
           4.292
          ],
          [
           "Southeastern Asia",
           2015,
           5.77
          ],
          [
           "Sub-Saharan Africa",
           2015,
           3.995
          ],
          [
           "Western Europe",
           2015,
           6.302
          ],
          [
           "Sub-Saharan Africa",
           2015,
           4.436
          ],
          [
           "Sub-Saharan Africa",
           2015,
           5.477
          ],
          [
           "Latin America and Caribbean",
           2015,
           7.187
          ],
          [
           "Central and Eastern Europe",
           2015,
           5.889
          ],
          [
           "Eastern Asia",
           2015,
           4.874
          ],
          [
           "Central and Eastern Europe",
           2015,
           5.192
          ],
          [
           "Middle East and Northern Africa",
           2015,
           5.013
          ],
          [
           "Sub-Saharan Africa",
           2015,
           4.971
          ],
          [
           "Southeastern Asia",
           2015,
           4.307
          ],
          [
           "Southern Asia",
           2015,
           4.514
          ],
          [
           "Western Europe",
           2015,
           7.378
          ],
          [
           "Australia and New Zealand",
           2015,
           7.286
          ],
          [
           "Latin America and Caribbean",
           2015,
           5.828
          ],
          [
           "Sub-Saharan Africa",
           2015,
           3.845
          ],
          [
           "Sub-Saharan Africa",
           2015,
           5.268
          ],
          [
           "Western Europe",
           2015,
           5.695
          ],
          [
           "Western Europe",
           2015,
           7.522
          ],
          [
           "Middle East and Northern Africa",
           2015,
           6.853
          ],
          [
           "Southern Asia",
           2015,
           5.194
          ],
          [
           "Middle East and Northern Africa",
           2015,
           4.715
          ],
          [
           "Latin America and Caribbean",
           2015,
           6.786
          ],
          [
           "Latin America and Caribbean",
           2015,
           5.878
          ],
          [
           "Latin America and Caribbean",
           2015,
           5.824
          ],
          [
           "Southeastern Asia",
           2015,
           5.073
          ],
          [
           "Central and Eastern Europe",
           2015,
           5.791
          ],
          [
           "Western Europe",
           2015,
           5.102
          ],
          [
           "Middle East and Northern Africa",
           2015,
           6.611
          ],
          [
           "Central and Eastern Europe",
           2015,
           5.124
          ],
          [
           "Central and Eastern Europe",
           2015,
           5.716
          ],
          [
           "Sub-Saharan Africa",
           2015,
           3.465
          ],
          [
           "Middle East and Northern Africa",
           2015,
           6.411
          ],
          [
           "Sub-Saharan Africa",
           2015,
           3.904
          ],
          [
           "Central and Eastern Europe",
           2015,
           5.123
          ],
          [
           "Sub-Saharan Africa",
           2015,
           4.507
          ],
          [
           "Southeastern Asia",
           2015,
           6.798
          ],
          [
           "Central and Eastern Europe",
           2015,
           5.995
          ],
          [
           "Central and Eastern Europe",
           2015,
           5.848
          ],
          [
           "Sub-Saharan Africa",
           2015,
           5.057
          ],
          [
           "Sub-Saharan Africa",
           2015,
           4.642
          ],
          [
           "Eastern Asia",
           2015,
           5.984
          ],
          [
           "Western Europe",
           2015,
           6.329
          ],
          [
           "Southern Asia",
           2015,
           4.271
          ],
          [
           "Sub-Saharan Africa",
           2015,
           4.55
          ],
          [
           "Latin America and Caribbean",
           2015,
           6.269
          ],
          [
           "Sub-Saharan Africa",
           2015,
           4.867
          ],
          [
           "Western Europe",
           2015,
           7.364
          ],
          [
           "Western Europe",
           2015,
           7.587
          ],
          [
           "Middle East and Northern Africa",
           2015,
           3.006
          ],
          [
           "Eastern Asia",
           2015,
           6.298
          ],
          [
           "Central and Eastern Europe",
           2015,
           4.786
          ],
          [
           "Sub-Saharan Africa",
           2015,
           3.781
          ],
          [
           "Southeastern Asia",
           2015,
           6.455
          ],
          [
           "Sub-Saharan Africa",
           2015,
           2.839
          ],
          [
           "Latin America and Caribbean",
           2015,
           6.168
          ],
          [
           "Middle East and Northern Africa",
           2015,
           4.739
          ],
          [
           "Middle East and Northern Africa",
           2015,
           5.332
          ],
          [
           "Central and Eastern Europe",
           2015,
           5.548
          ],
          [
           "Sub-Saharan Africa",
           2015,
           3.931
          ],
          [
           "Central and Eastern Europe",
           2015,
           4.681
          ],
          [
           "Middle East and Northern Africa",
           2015,
           6.901
          ],
          [
           "Western Europe",
           2015,
           6.867
          ],
          [
           "North America",
           2015,
           7.119
          ],
          [
           "Latin America and Caribbean",
           2015,
           6.485
          ],
          [
           "Central and Eastern Europe",
           2015,
           6.003
          ],
          [
           "Latin America and Caribbean",
           2015,
           6.81
          ],
          [
           "Southeastern Asia",
           2015,
           5.36
          ],
          [
           "Middle East and Northern Africa",
           2015,
           4.077
          ],
          [
           "Sub-Saharan Africa",
           2015,
           5.129
          ],
          [
           "Sub-Saharan Africa",
           2015,
           4.61
          ]
         ],
         "geo": "geo",
         "hovertemplate": "<b>%{hovertext}</b><br><br>Year=%{customdata[1]}<br>Country=%{location}<br>Region=%{customdata[0]}<br>Average Happiness Score=%{z}<extra></extra>",
         "hovertext": [
          "Afghanistan",
          "Albania",
          "Algeria",
          "Angola",
          "Argentina",
          "Armenia",
          "Australia",
          "Austria",
          "Azerbaijan",
          "Bahrain",
          "Bangladesh",
          "Belarus",
          "Belgium",
          "Benin",
          "Bhutan",
          "Bolivia",
          "Bosnia and Herzegovina",
          "Botswana",
          "Brazil",
          "Bulgaria",
          "Burkina Faso",
          "Burundi",
          "Cambodia",
          "Cameroon",
          "Canada",
          "Central African Republic",
          "Chad",
          "Chile",
          "China",
          "Colombia",
          "Comoros",
          "Congo (Brazzaville)",
          "Congo (Kinshasa)",
          "Costa Rica",
          "Croatia",
          "Cyprus",
          "Czech Republic",
          "Denmark",
          "Djibouti",
          "Dominican Republic",
          "Ecuador",
          "Egypt",
          "El Salvador",
          "Estonia",
          "Ethiopia",
          "Finland",
          "France",
          "Gabon",
          "Georgia",
          "Germany",
          "Ghana",
          "Greece",
          "Guatemala",
          "Guinea",
          "Haiti",
          "Honduras",
          "Hong Kong",
          "Hungary",
          "Iceland",
          "India",
          "Indonesia",
          "Iran",
          "Iraq",
          "Ireland",
          "Israel",
          "Italy",
          "Ivory Coast",
          "Jamaica",
          "Japan",
          "Jordan",
          "Kazakhstan",
          "Kenya",
          "Kosovo",
          "Kuwait",
          "Kyrgyzstan",
          "Laos",
          "Latvia",
          "Lebanon",
          "Lesotho",
          "Liberia",
          "Libya",
          "Lithuania",
          "Luxembourg",
          "Macedonia",
          "Madagascar",
          "Malawi",
          "Malaysia",
          "Mali",
          "Malta",
          "Mauritania",
          "Mauritius",
          "Mexico",
          "Moldova",
          "Mongolia",
          "Montenegro",
          "Morocco",
          "Mozambique",
          "Myanmar",
          "Nepal",
          "Netherlands",
          "New Zealand",
          "Nicaragua",
          "Niger",
          "Nigeria",
          "North Cyprus",
          "Norway",
          "Oman",
          "Pakistan",
          "Palestinian Territories",
          "Panama",
          "Paraguay",
          "Peru",
          "Philippines",
          "Poland",
          "Portugal",
          "Qatar",
          "Romania",
          "Russia",
          "Rwanda",
          "Saudi Arabia",
          "Senegal",
          "Serbia",
          "Sierra Leone",
          "Singapore",
          "Slovakia",
          "Slovenia",
          "Somaliland region",
          "South Africa",
          "South Korea",
          "Spain",
          "Sri Lanka",
          "Sudan",
          "Suriname",
          "Swaziland",
          "Sweden",
          "Switzerland",
          "Syria",
          "Taiwan",
          "Tajikistan",
          "Tanzania",
          "Thailand",
          "Togo",
          "Trinidad and Tobago",
          "Tunisia",
          "Turkey",
          "Turkmenistan",
          "Uganda",
          "Ukraine",
          "United Arab Emirates",
          "United Kingdom",
          "United States",
          "Uruguay",
          "Uzbekistan",
          "Venezuela",
          "Vietnam",
          "Yemen",
          "Zambia",
          "Zimbabwe"
         ],
         "locationmode": "country names",
         "locations": [
          "Afghanistan",
          "Albania",
          "Algeria",
          "Angola",
          "Argentina",
          "Armenia",
          "Australia",
          "Austria",
          "Azerbaijan",
          "Bahrain",
          "Bangladesh",
          "Belarus",
          "Belgium",
          "Benin",
          "Bhutan",
          "Bolivia",
          "Bosnia and Herzegovina",
          "Botswana",
          "Brazil",
          "Bulgaria",
          "Burkina Faso",
          "Burundi",
          "Cambodia",
          "Cameroon",
          "Canada",
          "Central African Republic",
          "Chad",
          "Chile",
          "China",
          "Colombia",
          "Comoros",
          "Congo (Brazzaville)",
          "Congo (Kinshasa)",
          "Costa Rica",
          "Croatia",
          "Cyprus",
          "Czech Republic",
          "Denmark",
          "Djibouti",
          "Dominican Republic",
          "Ecuador",
          "Egypt",
          "El Salvador",
          "Estonia",
          "Ethiopia",
          "Finland",
          "France",
          "Gabon",
          "Georgia",
          "Germany",
          "Ghana",
          "Greece",
          "Guatemala",
          "Guinea",
          "Haiti",
          "Honduras",
          "Hong Kong",
          "Hungary",
          "Iceland",
          "India",
          "Indonesia",
          "Iran",
          "Iraq",
          "Ireland",
          "Israel",
          "Italy",
          "Ivory Coast",
          "Jamaica",
          "Japan",
          "Jordan",
          "Kazakhstan",
          "Kenya",
          "Kosovo",
          "Kuwait",
          "Kyrgyzstan",
          "Laos",
          "Latvia",
          "Lebanon",
          "Lesotho",
          "Liberia",
          "Libya",
          "Lithuania",
          "Luxembourg",
          "Macedonia",
          "Madagascar",
          "Malawi",
          "Malaysia",
          "Mali",
          "Malta",
          "Mauritania",
          "Mauritius",
          "Mexico",
          "Moldova",
          "Mongolia",
          "Montenegro",
          "Morocco",
          "Mozambique",
          "Myanmar",
          "Nepal",
          "Netherlands",
          "New Zealand",
          "Nicaragua",
          "Niger",
          "Nigeria",
          "North Cyprus",
          "Norway",
          "Oman",
          "Pakistan",
          "Palestinian Territories",
          "Panama",
          "Paraguay",
          "Peru",
          "Philippines",
          "Poland",
          "Portugal",
          "Qatar",
          "Romania",
          "Russia",
          "Rwanda",
          "Saudi Arabia",
          "Senegal",
          "Serbia",
          "Sierra Leone",
          "Singapore",
          "Slovakia",
          "Slovenia",
          "Somaliland region",
          "South Africa",
          "South Korea",
          "Spain",
          "Sri Lanka",
          "Sudan",
          "Suriname",
          "Swaziland",
          "Sweden",
          "Switzerland",
          "Syria",
          "Taiwan",
          "Tajikistan",
          "Tanzania",
          "Thailand",
          "Togo",
          "Trinidad and Tobago",
          "Tunisia",
          "Turkey",
          "Turkmenistan",
          "Uganda",
          "Ukraine",
          "United Arab Emirates",
          "United Kingdom",
          "United States",
          "Uruguay",
          "Uzbekistan",
          "Venezuela",
          "Vietnam",
          "Yemen",
          "Zambia",
          "Zimbabwe"
         ],
         "name": "",
         "type": "choropleth",
         "z": {
          "bdata": "mpmZmZmZDEC8dJMYBNYTQOxRuB6FaxZAbxKDwMohEECyne+nxksaQGZmZmZmZhFAiUFg5dAiHUDNzMzMzMwcQAwCK4cW2RRA16NwPQrXF0Atsp3vp8YSQI2XbhKDQBdAc2iR7Xy/G0C4HoXrUbgKQFCNl24SAxVAj8L1KFyPF0Cyne+nxssTQIcW2c73UxFAO99PjZfuG0CsHFpkO98QQBkEVg4tsgxAPQrXo3A9B0BaZDvfT40OQDVeukkMAhFAaJHtfD+1HUAGgZVDi2wNQLx0kxgEVg1ArkfhehSuGkCPwvUoXI8UQJzEILBy6BlA2c73U+OlD0C28/3UeOkPQMUgsHJoERJAgZVDi2znHEDwp8ZLNwkXQKjGSzeJwRZAhetRuB4FGkDP91PjpRseQGDl0CLbeRFACtejcD2KE0BmZmZmZuYXQC2yne+nxhBAhetRuB6FGECe76fGS7cVQD81XrpJDBJAObTIdr6fHUDNzMzMzEwaQF66SQwCKw9A46WbxCAwEUAAAAAAAAAbQNV46SYxiBJAIbByaJFtE0DLoUW2830YQHNoke18Pw1A30+Nl24SEkD0/dR46SYTQEw3iUFg5RVAMzMzMzMzE0BYObTIdj4eQMP1KFyPQhJAf2q8dJOYFUBYObTIdr4SQGiR7Xw/tRJAw/UoXI/CG0DpJjEIrBwdQJhuEoPAyhdAPQrXo3A9DUC8dJMYBNYWQKabxCCw8hdA+FPjpZvEFEDsUbgehWsXQJMYBFYOrRFAQmDl0CJbFkCuR+F6FC4ZQL6fGi/dJBVAGy/dJAaBE0AxCKwcWmQUQEJg5dAiWxNAZDvfT42XE0BiEFg5tEgSQGq8dJMYBBdAokW28/1UF0BiEFg5tMgbQLpJDAIrBxRAppvEILByDUBeukkMAisRQBSuR+F6FBdA9ihcj8L1D0Boke18PzUZQFg5tMh2vhFAnMQgsHLoFUBzaJHtfL8cQHWTGARWjhdA5dAi2/l+E0D4U+Olm8QUQFpkO99PDRRA/Knx0k3iE0DufD81XjoRQHWTGARWDhJAUI2XbhKDHUC+nxov3SQdQB1aZDvfTxdAw/UoXI/CDkDfT42XbhIVQEjhehSuxxZASgwCK4cWHkC28/3UeGkbQC2yne+nxhRAXI/C9SjcEkC+nxov3SQbQFCNl24SgxdAsp3vp8ZLF0CYbhKDwEoUQESLbOf7KRdAnMQgsHJoFECLbOf7qXEaQOXQItv5fhRAd76fGi/dFkC4HoXrUbgLQL6fGi/dpBlACKwcWmQ7D0DLoUW2830UQLpJDAIrBxJA/tR46SYxG0B7FK5H4foXQDEIrBxaZBdA7nw/NV46FEDFILByaJESQFYOLbKd7xdAN4lBYOVQGUAv3SQGgRURQDMzMzMzMxJA+n5qvHQTGUArhxbZzncTQNv5fmq8dB1ADAIrhxZZHkA/NV66SQwIQP7UeOkmMRlAvp8aL90kE0BzaJHtfD8OQFK4HoXr0RlAg8DKoUW2BkB56SYxCKwYQNv5fmq89BJAhxbZzvdTFUD+1HjpJjEWQKabxCCwcg9A001iEFi5EkC0yHa+n5obQCuHFtnOdxtAYOXQItt5HEBxPQrXo/AZQFCNl24SAxhAPQrXo3A9G0BxPQrXo3AVQAIrhxbZThBAarx0kxiEFEBxPQrXo3ASQA==",
          "dtype": "f8"
         }
        }
       ],
       "frames": [
        {
         "data": [
          {
           "coloraxis": "coloraxis",
           "customdata": [
            [
             "Southern Asia",
             2015,
             3.575
            ],
            [
             "Central and Eastern Europe",
             2015,
             4.959
            ],
            [
             "Middle East and Northern Africa",
             2015,
             5.605
            ],
            [
             "Sub-Saharan Africa",
             2015,
             4.033
            ],
            [
             "Latin America and Caribbean",
             2015,
             6.574
            ],
            [
             "Central and Eastern Europe",
             2015,
             4.35
            ],
            [
             "Australia and New Zealand",
             2015,
             7.284
            ],
            [
             "Western Europe",
             2015,
             7.2
            ],
            [
             "Central and Eastern Europe",
             2015,
             5.212
            ],
            [
             "Middle East and Northern Africa",
             2015,
             5.96
            ],
            [
             "Southern Asia",
             2015,
             4.694
            ],
            [
             "Central and Eastern Europe",
             2015,
             5.813
            ],
            [
             "Western Europe",
             2015,
             6.937
            ],
            [
             "Sub-Saharan Africa",
             2015,
             3.34
            ],
            [
             "Southern Asia",
             2015,
             5.253
            ],
            [
             "Latin America and Caribbean",
             2015,
             5.89
            ],
            [
             "Central and Eastern Europe",
             2015,
             4.949
            ],
            [
             "Sub-Saharan Africa",
             2015,
             4.332
            ],
            [
             "Latin America and Caribbean",
             2015,
             6.983
            ],
            [
             "Central and Eastern Europe",
             2015,
             4.218
            ],
            [
             "Sub-Saharan Africa",
             2015,
             3.587
            ],
            [
             "Sub-Saharan Africa",
             2015,
             2.905
            ],
            [
             "Southeastern Asia",
             2015,
             3.819
            ],
            [
             "Sub-Saharan Africa",
             2015,
             4.252
            ],
            [
             "North America",
             2015,
             7.427
            ],
            [
             "Sub-Saharan Africa",
             2015,
             3.678
            ],
            [
             "Sub-Saharan Africa",
             2015,
             3.667
            ],
            [
             "Latin America and Caribbean",
             2015,
             6.67
            ],
            [
             "Eastern Asia",
             2015,
             5.14
            ],
            [
             "Latin America and Caribbean",
             2015,
             6.477
            ],
            [
             "Sub-Saharan Africa",
             2015,
             3.956
            ],
            [
             "Sub-Saharan Africa",
             2015,
             3.989
            ],
            [
             "Sub-Saharan Africa",
             2015,
             4.517
            ],
            [
             "Latin America and Caribbean",
             2015,
             7.226
            ],
            [
             "Central and Eastern Europe",
             2015,
             5.759
            ],
            [
             "Western Europe",
             2015,
             5.689
            ],
            [
             "Central and Eastern Europe",
             2015,
             6.505
            ],
            [
             "Western Europe",
             2015,
             7.527
            ],
            [
             "Sub-Saharan Africa",
             2015,
             4.369
            ],
            [
             "Latin America and Caribbean",
             2015,
             4.885
            ],
            [
             "Latin America and Caribbean",
             2015,
             5.975
            ],
            [
             "Middle East and Northern Africa",
             2015,
             4.194
            ],
            [
             "Latin America and Caribbean",
             2015,
             6.13
            ],
            [
             "Central and Eastern Europe",
             2015,
             5.429
            ],
            [
             "Sub-Saharan Africa",
             2015,
             4.512
            ],
            [
             "Western Europe",
             2015,
             7.406
            ],
            [
             "Western Europe",
             2015,
             6.575
            ],
            [
             "Sub-Saharan Africa",
             2015,
             3.896
            ],
            [
             "Central and Eastern Europe",
             2015,
             4.297
            ],
            [
             "Western Europe",
             2015,
             6.75
            ],
            [
             "Sub-Saharan Africa",
             2015,
             4.633
            ],
            [
             "Western Europe",
             2015,
             4.857
            ],
            [
             "Latin America and Caribbean",
             2015,
             6.123
            ],
            [
             "Sub-Saharan Africa",
             2015,
             3.656
            ],
            [
             "Latin America and Caribbean",
             2015,
             4.518
            ],
            [
             "Latin America and Caribbean",
             2015,
             4.788
            ],
            [
             "Eastern Asia",
             2015,
             5.474
            ],
            [
             "Central and Eastern Europe",
             2015,
             4.8
            ],
            [
             "Western Europe",
             2015,
             7.561
            ],
            [
             "Southern Asia",
             2015,
             4.565
            ],
            [
             "Southeastern Asia",
             2015,
             5.399
            ],
            [
             "Middle East and Northern Africa",
             2015,
             4.686
            ],
            [
             "Middle East and Northern Africa",
             2015,
             4.677
            ],
            [
             "Western Europe",
             2015,
             6.94
            ],
            [
             "Middle East and Northern Africa",
             2015,
             7.278
            ],
            [
             "Western Europe",
             2015,
             5.948
            ],
            [
             "Sub-Saharan Africa",
             2015,
             3.655
            ],
            [
             "Latin America and Caribbean",
             2015,
             5.709
            ],
            [
             "Eastern Asia",
             2015,
             5.987
            ],
            [
             "Middle East and Northern Africa",
             2015,
             5.192
            ],
            [
             "Central and Eastern Europe",
             2015,
             5.855
            ],
            [
             "Sub-Saharan Africa",
             2015,
             4.419
            ],
            [
             "Central and Eastern Europe",
             2015,
             5.589
            ],
            [
             "Middle East and Northern Africa",
             2015,
             6.295
            ],
            [
             "Central and Eastern Europe",
             2015,
             5.286
            ],
            [
             "Southeastern Asia",
             2015,
             4.876
            ],
            [
             "Central and Eastern Europe",
             2015,
             5.098
            ],
            [
             "Middle East and Northern Africa",
             2015,
             4.839
            ],
            [
             "Sub-Saharan Africa",
             2015,
             4.898
            ],
            [
             "Sub-Saharan Africa",
             2015,
             4.571
            ],
            [
             "Middle East and Northern Africa",
             2015,
             5.754
            ],
            [
             "Central and Eastern Europe",
             2015,
             5.833
            ],
            [
             "Western Europe",
             2015,
             6.946
            ],
            [
             "Central and Eastern Europe",
             2015,
             5.007
            ],
            [
             "Sub-Saharan Africa",
             2015,
             3.681
            ],
            [
             "Sub-Saharan Africa",
             2015,
             4.292
            ],
            [
             "Southeastern Asia",
             2015,
             5.77
            ],
            [
             "Sub-Saharan Africa",
             2015,
             3.995
            ],
            [
             "Western Europe",
             2015,
             6.302
            ],
            [
             "Sub-Saharan Africa",
             2015,
             4.436
            ],
            [
             "Sub-Saharan Africa",
             2015,
             5.477
            ],
            [
             "Latin America and Caribbean",
             2015,
             7.187
            ],
            [
             "Central and Eastern Europe",
             2015,
             5.889
            ],
            [
             "Eastern Asia",
             2015,
             4.874
            ],
            [
             "Central and Eastern Europe",
             2015,
             5.192
            ],
            [
             "Middle East and Northern Africa",
             2015,
             5.013
            ],
            [
             "Sub-Saharan Africa",
             2015,
             4.971
            ],
            [
             "Southeastern Asia",
             2015,
             4.307
            ],
            [
             "Southern Asia",
             2015,
             4.514
            ],
            [
             "Western Europe",
             2015,
             7.378
            ],
            [
             "Australia and New Zealand",
             2015,
             7.286
            ],
            [
             "Latin America and Caribbean",
             2015,
             5.828
            ],
            [
             "Sub-Saharan Africa",
             2015,
             3.845
            ],
            [
             "Sub-Saharan Africa",
             2015,
             5.268
            ],
            [
             "Western Europe",
             2015,
             5.695
            ],
            [
             "Western Europe",
             2015,
             7.522
            ],
            [
             "Middle East and Northern Africa",
             2015,
             6.853
            ],
            [
             "Southern Asia",
             2015,
             5.194
            ],
            [
             "Middle East and Northern Africa",
             2015,
             4.715
            ],
            [
             "Latin America and Caribbean",
             2015,
             6.786
            ],
            [
             "Latin America and Caribbean",
             2015,
             5.878
            ],
            [
             "Latin America and Caribbean",
             2015,
             5.824
            ],
            [
             "Southeastern Asia",
             2015,
             5.073
            ],
            [
             "Central and Eastern Europe",
             2015,
             5.791
            ],
            [
             "Western Europe",
             2015,
             5.102
            ],
            [
             "Middle East and Northern Africa",
             2015,
             6.611
            ],
            [
             "Central and Eastern Europe",
             2015,
             5.124
            ],
            [
             "Central and Eastern Europe",
             2015,
             5.716
            ],
            [
             "Sub-Saharan Africa",
             2015,
             3.465
            ],
            [
             "Middle East and Northern Africa",
             2015,
             6.411
            ],
            [
             "Sub-Saharan Africa",
             2015,
             3.904
            ],
            [
             "Central and Eastern Europe",
             2015,
             5.123
            ],
            [
             "Sub-Saharan Africa",
             2015,
             4.507
            ],
            [
             "Southeastern Asia",
             2015,
             6.798
            ],
            [
             "Central and Eastern Europe",
             2015,
             5.995
            ],
            [
             "Central and Eastern Europe",
             2015,
             5.848
            ],
            [
             "Sub-Saharan Africa",
             2015,
             5.057
            ],
            [
             "Sub-Saharan Africa",
             2015,
             4.642
            ],
            [
             "Eastern Asia",
             2015,
             5.984
            ],
            [
             "Western Europe",
             2015,
             6.329
            ],
            [
             "Southern Asia",
             2015,
             4.271
            ],
            [
             "Sub-Saharan Africa",
             2015,
             4.55
            ],
            [
             "Latin America and Caribbean",
             2015,
             6.269
            ],
            [
             "Sub-Saharan Africa",
             2015,
             4.867
            ],
            [
             "Western Europe",
             2015,
             7.364
            ],
            [
             "Western Europe",
             2015,
             7.587
            ],
            [
             "Middle East and Northern Africa",
             2015,
             3.006
            ],
            [
             "Eastern Asia",
             2015,
             6.298
            ],
            [
             "Central and Eastern Europe",
             2015,
             4.786
            ],
            [
             "Sub-Saharan Africa",
             2015,
             3.781
            ],
            [
             "Southeastern Asia",
             2015,
             6.455
            ],
            [
             "Sub-Saharan Africa",
             2015,
             2.839
            ],
            [
             "Latin America and Caribbean",
             2015,
             6.168
            ],
            [
             "Middle East and Northern Africa",
             2015,
             4.739
            ],
            [
             "Middle East and Northern Africa",
             2015,
             5.332
            ],
            [
             "Central and Eastern Europe",
             2015,
             5.548
            ],
            [
             "Sub-Saharan Africa",
             2015,
             3.931
            ],
            [
             "Central and Eastern Europe",
             2015,
             4.681
            ],
            [
             "Middle East and Northern Africa",
             2015,
             6.901
            ],
            [
             "Western Europe",
             2015,
             6.867
            ],
            [
             "North America",
             2015,
             7.119
            ],
            [
             "Latin America and Caribbean",
             2015,
             6.485
            ],
            [
             "Central and Eastern Europe",
             2015,
             6.003
            ],
            [
             "Latin America and Caribbean",
             2015,
             6.81
            ],
            [
             "Southeastern Asia",
             2015,
             5.36
            ],
            [
             "Middle East and Northern Africa",
             2015,
             4.077
            ],
            [
             "Sub-Saharan Africa",
             2015,
             5.129
            ],
            [
             "Sub-Saharan Africa",
             2015,
             4.61
            ]
           ],
           "geo": "geo",
           "hovertemplate": "<b>%{hovertext}</b><br><br>Year=%{customdata[1]}<br>Country=%{location}<br>Region=%{customdata[0]}<br>Average Happiness Score=%{z}<extra></extra>",
           "hovertext": [
            "Afghanistan",
            "Albania",
            "Algeria",
            "Angola",
            "Argentina",
            "Armenia",
            "Australia",
            "Austria",
            "Azerbaijan",
            "Bahrain",
            "Bangladesh",
            "Belarus",
            "Belgium",
            "Benin",
            "Bhutan",
            "Bolivia",
            "Bosnia and Herzegovina",
            "Botswana",
            "Brazil",
            "Bulgaria",
            "Burkina Faso",
            "Burundi",
            "Cambodia",
            "Cameroon",
            "Canada",
            "Central African Republic",
            "Chad",
            "Chile",
            "China",
            "Colombia",
            "Comoros",
            "Congo (Brazzaville)",
            "Congo (Kinshasa)",
            "Costa Rica",
            "Croatia",
            "Cyprus",
            "Czech Republic",
            "Denmark",
            "Djibouti",
            "Dominican Republic",
            "Ecuador",
            "Egypt",
            "El Salvador",
            "Estonia",
            "Ethiopia",
            "Finland",
            "France",
            "Gabon",
            "Georgia",
            "Germany",
            "Ghana",
            "Greece",
            "Guatemala",
            "Guinea",
            "Haiti",
            "Honduras",
            "Hong Kong",
            "Hungary",
            "Iceland",
            "India",
            "Indonesia",
            "Iran",
            "Iraq",
            "Ireland",
            "Israel",
            "Italy",
            "Ivory Coast",
            "Jamaica",
            "Japan",
            "Jordan",
            "Kazakhstan",
            "Kenya",
            "Kosovo",
            "Kuwait",
            "Kyrgyzstan",
            "Laos",
            "Latvia",
            "Lebanon",
            "Lesotho",
            "Liberia",
            "Libya",
            "Lithuania",
            "Luxembourg",
            "Macedonia",
            "Madagascar",
            "Malawi",
            "Malaysia",
            "Mali",
            "Malta",
            "Mauritania",
            "Mauritius",
            "Mexico",
            "Moldova",
            "Mongolia",
            "Montenegro",
            "Morocco",
            "Mozambique",
            "Myanmar",
            "Nepal",
            "Netherlands",
            "New Zealand",
            "Nicaragua",
            "Niger",
            "Nigeria",
            "North Cyprus",
            "Norway",
            "Oman",
            "Pakistan",
            "Palestinian Territories",
            "Panama",
            "Paraguay",
            "Peru",
            "Philippines",
            "Poland",
            "Portugal",
            "Qatar",
            "Romania",
            "Russia",
            "Rwanda",
            "Saudi Arabia",
            "Senegal",
            "Serbia",
            "Sierra Leone",
            "Singapore",
            "Slovakia",
            "Slovenia",
            "Somaliland region",
            "South Africa",
            "South Korea",
            "Spain",
            "Sri Lanka",
            "Sudan",
            "Suriname",
            "Swaziland",
            "Sweden",
            "Switzerland",
            "Syria",
            "Taiwan",
            "Tajikistan",
            "Tanzania",
            "Thailand",
            "Togo",
            "Trinidad and Tobago",
            "Tunisia",
            "Turkey",
            "Turkmenistan",
            "Uganda",
            "Ukraine",
            "United Arab Emirates",
            "United Kingdom",
            "United States",
            "Uruguay",
            "Uzbekistan",
            "Venezuela",
            "Vietnam",
            "Yemen",
            "Zambia",
            "Zimbabwe"
           ],
           "locationmode": "country names",
           "locations": [
            "Afghanistan",
            "Albania",
            "Algeria",
            "Angola",
            "Argentina",
            "Armenia",
            "Australia",
            "Austria",
            "Azerbaijan",
            "Bahrain",
            "Bangladesh",
            "Belarus",
            "Belgium",
            "Benin",
            "Bhutan",
            "Bolivia",
            "Bosnia and Herzegovina",
            "Botswana",
            "Brazil",
            "Bulgaria",
            "Burkina Faso",
            "Burundi",
            "Cambodia",
            "Cameroon",
            "Canada",
            "Central African Republic",
            "Chad",
            "Chile",
            "China",
            "Colombia",
            "Comoros",
            "Congo (Brazzaville)",
            "Congo (Kinshasa)",
            "Costa Rica",
            "Croatia",
            "Cyprus",
            "Czech Republic",
            "Denmark",
            "Djibouti",
            "Dominican Republic",
            "Ecuador",
            "Egypt",
            "El Salvador",
            "Estonia",
            "Ethiopia",
            "Finland",
            "France",
            "Gabon",
            "Georgia",
            "Germany",
            "Ghana",
            "Greece",
            "Guatemala",
            "Guinea",
            "Haiti",
            "Honduras",
            "Hong Kong",
            "Hungary",
            "Iceland",
            "India",
            "Indonesia",
            "Iran",
            "Iraq",
            "Ireland",
            "Israel",
            "Italy",
            "Ivory Coast",
            "Jamaica",
            "Japan",
            "Jordan",
            "Kazakhstan",
            "Kenya",
            "Kosovo",
            "Kuwait",
            "Kyrgyzstan",
            "Laos",
            "Latvia",
            "Lebanon",
            "Lesotho",
            "Liberia",
            "Libya",
            "Lithuania",
            "Luxembourg",
            "Macedonia",
            "Madagascar",
            "Malawi",
            "Malaysia",
            "Mali",
            "Malta",
            "Mauritania",
            "Mauritius",
            "Mexico",
            "Moldova",
            "Mongolia",
            "Montenegro",
            "Morocco",
            "Mozambique",
            "Myanmar",
            "Nepal",
            "Netherlands",
            "New Zealand",
            "Nicaragua",
            "Niger",
            "Nigeria",
            "North Cyprus",
            "Norway",
            "Oman",
            "Pakistan",
            "Palestinian Territories",
            "Panama",
            "Paraguay",
            "Peru",
            "Philippines",
            "Poland",
            "Portugal",
            "Qatar",
            "Romania",
            "Russia",
            "Rwanda",
            "Saudi Arabia",
            "Senegal",
            "Serbia",
            "Sierra Leone",
            "Singapore",
            "Slovakia",
            "Slovenia",
            "Somaliland region",
            "South Africa",
            "South Korea",
            "Spain",
            "Sri Lanka",
            "Sudan",
            "Suriname",
            "Swaziland",
            "Sweden",
            "Switzerland",
            "Syria",
            "Taiwan",
            "Tajikistan",
            "Tanzania",
            "Thailand",
            "Togo",
            "Trinidad and Tobago",
            "Tunisia",
            "Turkey",
            "Turkmenistan",
            "Uganda",
            "Ukraine",
            "United Arab Emirates",
            "United Kingdom",
            "United States",
            "Uruguay",
            "Uzbekistan",
            "Venezuela",
            "Vietnam",
            "Yemen",
            "Zambia",
            "Zimbabwe"
           ],
           "name": "",
           "type": "choropleth",
           "z": {
            "bdata": "mpmZmZmZDEC8dJMYBNYTQOxRuB6FaxZAbxKDwMohEECyne+nxksaQGZmZmZmZhFAiUFg5dAiHUDNzMzMzMwcQAwCK4cW2RRA16NwPQrXF0Atsp3vp8YSQI2XbhKDQBdAc2iR7Xy/G0C4HoXrUbgKQFCNl24SAxVAj8L1KFyPF0Cyne+nxssTQIcW2c73UxFAO99PjZfuG0CsHFpkO98QQBkEVg4tsgxAPQrXo3A9B0BaZDvfT40OQDVeukkMAhFAaJHtfD+1HUAGgZVDi2wNQLx0kxgEVg1ArkfhehSuGkCPwvUoXI8UQJzEILBy6BlA2c73U+OlD0C28/3UeOkPQMUgsHJoERJAgZVDi2znHEDwp8ZLNwkXQKjGSzeJwRZAhetRuB4FGkDP91PjpRseQGDl0CLbeRFACtejcD2KE0BmZmZmZuYXQC2yne+nxhBAhetRuB6FGECe76fGS7cVQD81XrpJDBJAObTIdr6fHUDNzMzMzEwaQF66SQwCKw9A46WbxCAwEUAAAAAAAAAbQNV46SYxiBJAIbByaJFtE0DLoUW2830YQHNoke18Pw1A30+Nl24SEkD0/dR46SYTQEw3iUFg5RVAMzMzMzMzE0BYObTIdj4eQMP1KFyPQhJAf2q8dJOYFUBYObTIdr4SQGiR7Xw/tRJAw/UoXI/CG0DpJjEIrBwdQJhuEoPAyhdAPQrXo3A9DUC8dJMYBNYWQKabxCCw8hdA+FPjpZvEFEDsUbgehWsXQJMYBFYOrRFAQmDl0CJbFkCuR+F6FC4ZQL6fGi/dJBVAGy/dJAaBE0AxCKwcWmQUQEJg5dAiWxNAZDvfT42XE0BiEFg5tEgSQGq8dJMYBBdAokW28/1UF0BiEFg5tMgbQLpJDAIrBxRAppvEILByDUBeukkMAisRQBSuR+F6FBdA9ihcj8L1D0Boke18PzUZQFg5tMh2vhFAnMQgsHLoFUBzaJHtfL8cQHWTGARWjhdA5dAi2/l+E0D4U+Olm8QUQFpkO99PDRRA/Knx0k3iE0DufD81XjoRQHWTGARWDhJAUI2XbhKDHUC+nxov3SQdQB1aZDvfTxdAw/UoXI/CDkDfT42XbhIVQEjhehSuxxZASgwCK4cWHkC28/3UeGkbQC2yne+nxhRAXI/C9SjcEkC+nxov3SQbQFCNl24SgxdAsp3vp8ZLF0CYbhKDwEoUQESLbOf7KRdAnMQgsHJoFECLbOf7qXEaQOXQItv5fhRAd76fGi/dFkC4HoXrUbgLQL6fGi/dpBlACKwcWmQ7D0DLoUW2830UQLpJDAIrBxJA/tR46SYxG0B7FK5H4foXQDEIrBxaZBdA7nw/NV46FEDFILByaJESQFYOLbKd7xdAN4lBYOVQGUAv3SQGgRURQDMzMzMzMxJA+n5qvHQTGUArhxbZzncTQNv5fmq8dB1ADAIrhxZZHkA/NV66SQwIQP7UeOkmMRlAvp8aL90kE0BzaJHtfD8OQFK4HoXr0RlAg8DKoUW2BkB56SYxCKwYQNv5fmq89BJAhxbZzvdTFUD+1HjpJjEWQKabxCCwcg9A001iEFi5EkC0yHa+n5obQCuHFtnOdxtAYOXQItt5HEBxPQrXo/AZQFCNl24SAxhAPQrXo3A9G0BxPQrXo3AVQAIrhxbZThBAarx0kxiEFEBxPQrXo3ASQA==",
            "dtype": "f8"
           }
          }
         ],
         "name": "2015"
        },
        {
         "data": [
          {
           "coloraxis": "coloraxis",
           "customdata": [
            [
             "Southern Asia",
             2016,
             3.36
            ],
            [
             "Central and Eastern Europe",
             2016,
             4.655
            ],
            [
             "Middle East and Northern Africa",
             2016,
             6.355
            ],
            [
             "Sub-Saharan Africa",
             2016,
             3.866
            ],
            [
             "Latin America and Caribbean",
             2016,
             6.65
            ],
            [
             "Central and Eastern Europe",
             2016,
             4.36
            ],
            [
             "Australia and New Zealand",
             2016,
             7.313
            ],
            [
             "Western Europe",
             2016,
             7.119
            ],
            [
             "Central and Eastern Europe",
             2016,
             5.291
            ],
            [
             "Middle East and Northern Africa",
             2016,
             6.218
            ],
            [
             "Southern Asia",
             2016,
             4.643
            ],
            [
             "Central and Eastern Europe",
             2016,
             5.802
            ],
            [
             "Western Europe",
             2016,
             6.929
            ],
            [
             "Sub-Saharan Africa",
             2016,
             3.484
            ],
            [
             "Southern Asia",
             2016,
             5.196
            ],
            [
             "Latin America and Caribbean",
             2016,
             5.822
            ],
            [
             "Central and Eastern Europe",
             2016,
             5.163
            ],
            [
             "Sub-Saharan Africa",
             2016,
             3.974
            ],
            [
             "Latin America and Caribbean",
             2016,
             6.952
            ],
            [
             "Central and Eastern Europe",
             2016,
             4.217
            ],
            [
             "Sub-Saharan Africa",
             2016,
             3.739
            ],
            [
             "Sub-Saharan Africa",
             2016,
             2.905
            ],
            [
             "Southeastern Asia",
             2016,
             3.907
            ],
            [
             "Sub-Saharan Africa",
             2016,
             4.513
            ],
            [
             "North America",
             2016,
             7.404
            ],
            [
             "Sub-Saharan Africa",
             2016,
             3.763
            ],
            [
             "Latin America and Caribbean",
             2016,
             6.705
            ],
            [
             "Eastern Asia",
             2016,
             5.245
            ],
            [
             "Latin America and Caribbean",
             2016,
             6.481
            ],
            [
             "Sub-Saharan Africa",
             2016,
             3.956
            ],
            [
             "Sub-Saharan Africa",
             2016,
             4.236
            ],
            [
             "Sub-Saharan Africa",
             2016,
             4.272
            ],
            [
             "Latin America and Caribbean",
             2016,
             7.087
            ],
            [
             "Central and Eastern Europe",
             2016,
             5.488
            ],
            [
             "Western Europe",
             2016,
             5.546
            ],
            [
             "Central and Eastern Europe",
             2016,
             6.596
            ],
            [
             "Western Europe",
             2016,
             7.526
            ],
            [
             "Latin America and Caribbean",
             2016,
             5.155
            ],
            [
             "Latin America and Caribbean",
             2016,
             5.976
            ],
            [
             "Middle East and Northern Africa",
             2016,
             4.362
            ],
            [
             "Latin America and Caribbean",
             2016,
             6.068
            ],
            [
             "Central and Eastern Europe",
             2016,
             5.517
            ],
            [
             "Sub-Saharan Africa",
             2016,
             4.508
            ],
            [
             "Western Europe",
             2016,
             7.413
            ],
            [
             "Western Europe",
             2016,
             6.478
            ],
            [
             "Sub-Saharan Africa",
             2016,
             4.121
            ],
            [
             "Central and Eastern Europe",
             2016,
             4.252
            ],
            [
             "Western Europe",
             2016,
             6.994
            ],
            [
             "Sub-Saharan Africa",
             2016,
             4.276
            ],
            [
             "Western Europe",
             2016,
             5.033
            ],
            [
             "Latin America and Caribbean",
             2016,
             6.324
            ],
            [
             "Sub-Saharan Africa",
             2016,
             3.607
            ],
            [
             "Latin America and Caribbean",
             2016,
             4.028
            ],
            [
             "Latin America and Caribbean",
             2016,
             4.871
            ],
            [
             "Eastern Asia",
             2016,
             5.458
            ],
            [
             "Central and Eastern Europe",
             2016,
             5.145
            ],
            [
             "Western Europe",
             2016,
             7.501
            ],
            [
             "Southern Asia",
             2016,
             4.404
            ],
            [
             "Southeastern Asia",
             2016,
             5.314
            ],
            [
             "Middle East and Northern Africa",
             2016,
             4.813
            ],
            [
             "Middle East and Northern Africa",
             2016,
             4.575
            ],
            [
             "Western Europe",
             2016,
             6.907
            ],
            [
             "Middle East and Northern Africa",
             2016,
             7.267
            ],
            [
             "Western Europe",
             2016,
             5.977
            ],
            [
             "Sub-Saharan Africa",
             2016,
             3.916
            ],
            [
             "Latin America and Caribbean",
             2016,
             5.51
            ],
            [
             "Eastern Asia",
             2016,
             5.921
            ],
            [
             "Middle East and Northern Africa",
             2016,
             5.303
            ],
            [
             "Central and Eastern Europe",
             2016,
             5.919
            ],
            [
             "Sub-Saharan Africa",
             2016,
             4.356
            ],
            [
             "Central and Eastern Europe",
             2016,
             5.401
            ],
            [
             "Middle East and Northern Africa",
             2016,
             6.239
            ],
            [
             "Central and Eastern Europe",
             2016,
             5.185
            ],
            [
             "Southeastern Asia",
             2016,
             4.876
            ],
            [
             "Central and Eastern Europe",
             2016,
             5.56
            ],
            [
             "Middle East and Northern Africa",
             2016,
             5.129
            ],
            [
             "Sub-Saharan Africa",
             2016,
             3.622
            ],
            [
             "Middle East and Northern Africa",
             2016,
             5.615
            ],
            [
             "Central and Eastern Europe",
             2016,
             5.813
            ],
            [
             "Western Europe",
             2016,
             6.871
            ],
            [
             "Central and Eastern Europe",
             2016,
             5.121
            ],
            [
             "Sub-Saharan Africa",
             2016,
             3.695
            ],
            [
             "Sub-Saharan Africa",
             2016,
             4.156
            ],
            [
             "Southeastern Asia",
             2016,
             6.005
            ],
            [
             "Sub-Saharan Africa",
             2016,
             4.073
            ],
            [
             "Western Europe",
             2016,
             6.488
            ],
            [
             "Sub-Saharan Africa",
             2016,
             4.201
            ],
            [
             "Sub-Saharan Africa",
             2016,
             5.648
            ],
            [
             "Latin America and Caribbean",
             2016,
             6.778
            ],
            [
             "Central and Eastern Europe",
             2016,
             5.897
            ],
            [
             "Eastern Asia",
             2016,
             4.907
            ],
            [
             "Central and Eastern Europe",
             2016,
             5.161
            ],
            [
             "Middle East and Northern Africa",
             2016,
             5.151
            ],
            [
             "Southeastern Asia",
             2016,
             4.395
            ],
            [
             "Southern Asia",
             2016,
             4.793
            ],
            [
             "Western Europe",
             2016,
             7.339
            ],
            [
             "Australia and New Zealand",
             2016,
             7.334
            ],
            [
             "Latin America and Caribbean",
             2016,
             5.992
            ],
            [
             "Sub-Saharan Africa",
             2016,
             3.856
            ],
            [
             "Sub-Saharan Africa",
             2016,
             4.875
            ],
            [
             "Western Europe",
             2016,
             5.771
            ],
            [
             "Western Europe",
             2016,
             7.498
            ],
            [
             "Southern Asia",
             2016,
             5.132
            ],
            [
             "Middle East and Northern Africa",
             2016,
             4.754
            ],
            [
             "Latin America and Caribbean",
             2016,
             6.701
            ],
            [
             "Latin America and Caribbean",
             2016,
             5.538
            ],
            [
             "Latin America and Caribbean",
             2016,
             5.743
            ],
            [
             "Southeastern Asia",
             2016,
             5.279
            ],
            [
             "Central and Eastern Europe",
             2016,
             5.835
            ],
            [
             "Western Europe",
             2016,
             5.123
            ],
            [
             "Middle East and Northern Africa",
             2016,
             6.375
            ],
            [
             "Central and Eastern Europe",
             2016,
             5.528
            ],
            [
             "Central and Eastern Europe",
             2016,
             5.856
            ],
            [
             "Sub-Saharan Africa",
             2016,
             3.515
            ],
            [
             "Middle East and Northern Africa",
             2016,
             6.379
            ],
            [
             "Sub-Saharan Africa",
             2016,
             4.219
            ],
            [
             "Central and Eastern Europe",
             2016,
             5.177
            ],
            [
             "Sub-Saharan Africa",
             2016,
             4.635
            ],
            [
             "Southeastern Asia",
             2016,
             6.739
            ],
            [
             "Central and Eastern Europe",
             2016,
             6.078
            ],
            [
             "Central and Eastern Europe",
             2016,
             5.768
            ],
            [
             "Sub-Saharan Africa",
             2016,
             4.459
            ],
            [
             "Eastern Asia",
             2016,
             5.835
            ],
            [
             "Western Europe",
             2016,
             6.361
            ],
            [
             "Southern Asia",
             2016,
             4.415
            ],
            [
             "Sub-Saharan Africa",
             2016,
             4.139
            ],
            [
             "Latin America and Caribbean",
             2016,
             6.269
            ],
            [
             "Western Europe",
             2016,
             7.291
            ],
            [
             "Western Europe",
             2016,
             7.509
            ],
            [
             "Middle East and Northern Africa",
             2016,
             3.069
            ],
            [
             "Eastern Asia",
             2016,
             6.379
            ],
            [
             "Central and Eastern Europe",
             2016,
             4.996
            ],
            [
             "Sub-Saharan Africa",
             2016,
             3.666
            ],
            [
             "Southeastern Asia",
             2016,
             6.474
            ],
            [
             "Sub-Saharan Africa",
             2016,
             3.303
            ],
            [
             "Latin America and Caribbean",
             2016,
             6.168
            ],
            [
             "Middle East and Northern Africa",
             2016,
             5.045
            ],
            [
             "Middle East and Northern Africa",
             2016,
             5.389
            ],
            [
             "Central and Eastern Europe",
             2016,
             5.658
            ],
            [
             "Sub-Saharan Africa",
             2016,
             3.739
            ],
            [
             "Central and Eastern Europe",
             2016,
             4.324
            ],
            [
             "Middle East and Northern Africa",
             2016,
             6.573
            ],
            [
             "Western Europe",
             2016,
             6.725
            ],
            [
             "North America",
             2016,
             7.104
            ],
            [
             "Latin America and Caribbean",
             2016,
             6.545
            ],
            [
             "Central and Eastern Europe",
             2016,
             5.987
            ],
            [
             "Latin America and Caribbean",
             2016,
             6.084
            ],
            [
             "Southeastern Asia",
             2016,
             5.061
            ],
            [
             "Middle East and Northern Africa",
             2016,
             3.724
            ],
            [
             "Sub-Saharan Africa",
             2016,
             4.795
            ],
            [
             "Sub-Saharan Africa",
             2016,
             4.193
            ]
           ],
           "geo": "geo",
           "hovertemplate": "<b>%{hovertext}</b><br><br>Year=%{customdata[1]}<br>Country=%{location}<br>Region=%{customdata[0]}<br>Average Happiness Score=%{z}<extra></extra>",
           "hovertext": [
            "Afghanistan",
            "Albania",
            "Algeria",
            "Angola",
            "Argentina",
            "Armenia",
            "Australia",
            "Austria",
            "Azerbaijan",
            "Bahrain",
            "Bangladesh",
            "Belarus",
            "Belgium",
            "Benin",
            "Bhutan",
            "Bolivia",
            "Bosnia and Herzegovina",
            "Botswana",
            "Brazil",
            "Bulgaria",
            "Burkina Faso",
            "Burundi",
            "Cambodia",
            "Cameroon",
            "Canada",
            "Chad",
            "Chile",
            "China",
            "Colombia",
            "Comoros",
            "Congo (Brazzaville)",
            "Congo (Kinshasa)",
            "Costa Rica",
            "Croatia",
            "Cyprus",
            "Czech Republic",
            "Denmark",
            "Dominican Republic",
            "Ecuador",
            "Egypt",
            "El Salvador",
            "Estonia",
            "Ethiopia",
            "Finland",
            "France",
            "Gabon",
            "Georgia",
            "Germany",
            "Ghana",
            "Greece",
            "Guatemala",
            "Guinea",
            "Haiti",
            "Honduras",
            "Hong Kong",
            "Hungary",
            "Iceland",
            "India",
            "Indonesia",
            "Iran",
            "Iraq",
            "Ireland",
            "Israel",
            "Italy",
            "Ivory Coast",
            "Jamaica",
            "Japan",
            "Jordan",
            "Kazakhstan",
            "Kenya",
            "Kosovo",
            "Kuwait",
            "Kyrgyzstan",
            "Laos",
            "Latvia",
            "Lebanon",
            "Liberia",
            "Libya",
            "Lithuania",
            "Luxembourg",
            "Macedonia",
            "Madagascar",
            "Malawi",
            "Malaysia",
            "Mali",
            "Malta",
            "Mauritania",
            "Mauritius",
            "Mexico",
            "Moldova",
            "Mongolia",
            "Montenegro",
            "Morocco",
            "Myanmar",
            "Nepal",
            "Netherlands",
            "New Zealand",
            "Nicaragua",
            "Niger",
            "Nigeria",
            "North Cyprus",
            "Norway",
            "Pakistan",
            "Palestinian Territories",
            "Panama",
            "Paraguay",
            "Peru",
            "Philippines",
            "Poland",
            "Portugal",
            "Qatar",
            "Romania",
            "Russia",
            "Rwanda",
            "Saudi Arabia",
            "Senegal",
            "Serbia",
            "Sierra Leone",
            "Singapore",
            "Slovakia",
            "Slovenia",
            "South Africa",
            "South Korea",
            "Spain",
            "Sri Lanka",
            "Sudan",
            "Suriname",
            "Sweden",
            "Switzerland",
            "Syria",
            "Taiwan",
            "Tajikistan",
            "Tanzania",
            "Thailand",
            "Togo",
            "Trinidad and Tobago",
            "Tunisia",
            "Turkey",
            "Turkmenistan",
            "Uganda",
            "Ukraine",
            "United Arab Emirates",
            "United Kingdom",
            "United States",
            "Uruguay",
            "Uzbekistan",
            "Venezuela",
            "Vietnam",
            "Yemen",
            "Zambia",
            "Zimbabwe"
           ],
           "locationmode": "country names",
           "locations": [
            "Afghanistan",
            "Albania",
            "Algeria",
            "Angola",
            "Argentina",
            "Armenia",
            "Australia",
            "Austria",
            "Azerbaijan",
            "Bahrain",
            "Bangladesh",
            "Belarus",
            "Belgium",
            "Benin",
            "Bhutan",
            "Bolivia",
            "Bosnia and Herzegovina",
            "Botswana",
            "Brazil",
            "Bulgaria",
            "Burkina Faso",
            "Burundi",
            "Cambodia",
            "Cameroon",
            "Canada",
            "Chad",
            "Chile",
            "China",
            "Colombia",
            "Comoros",
            "Congo (Brazzaville)",
            "Congo (Kinshasa)",
            "Costa Rica",
            "Croatia",
            "Cyprus",
            "Czech Republic",
            "Denmark",
            "Dominican Republic",
            "Ecuador",
            "Egypt",
            "El Salvador",
            "Estonia",
            "Ethiopia",
            "Finland",
            "France",
            "Gabon",
            "Georgia",
            "Germany",
            "Ghana",
            "Greece",
            "Guatemala",
            "Guinea",
            "Haiti",
            "Honduras",
            "Hong Kong",
            "Hungary",
            "Iceland",
            "India",
            "Indonesia",
            "Iran",
            "Iraq",
            "Ireland",
            "Israel",
            "Italy",
            "Ivory Coast",
            "Jamaica",
            "Japan",
            "Jordan",
            "Kazakhstan",
            "Kenya",
            "Kosovo",
            "Kuwait",
            "Kyrgyzstan",
            "Laos",
            "Latvia",
            "Lebanon",
            "Liberia",
            "Libya",
            "Lithuania",
            "Luxembourg",
            "Macedonia",
            "Madagascar",
            "Malawi",
            "Malaysia",
            "Mali",
            "Malta",
            "Mauritania",
            "Mauritius",
            "Mexico",
            "Moldova",
            "Mongolia",
            "Montenegro",
            "Morocco",
            "Myanmar",
            "Nepal",
            "Netherlands",
            "New Zealand",
            "Nicaragua",
            "Niger",
            "Nigeria",
            "North Cyprus",
            "Norway",
            "Pakistan",
            "Palestinian Territories",
            "Panama",
            "Paraguay",
            "Peru",
            "Philippines",
            "Poland",
            "Portugal",
            "Qatar",
            "Romania",
            "Russia",
            "Rwanda",
            "Saudi Arabia",
            "Senegal",
            "Serbia",
            "Sierra Leone",
            "Singapore",
            "Slovakia",
            "Slovenia",
            "South Africa",
            "South Korea",
            "Spain",
            "Sri Lanka",
            "Sudan",
            "Suriname",
            "Sweden",
            "Switzerland",
            "Syria",
            "Taiwan",
            "Tajikistan",
            "Tanzania",
            "Thailand",
            "Togo",
            "Trinidad and Tobago",
            "Tunisia",
            "Turkey",
            "Turkmenistan",
            "Uganda",
            "Ukraine",
            "United Arab Emirates",
            "United Kingdom",
            "United States",
            "Uruguay",
            "Uzbekistan",
            "Venezuela",
            "Vietnam",
            "Yemen",
            "Zambia",
            "Zimbabwe"
           ],
           "name": "",
           "type": "choropleth",
           "z": {
            "bdata": "4XoUrkfhCkAfhetRuJ4SQOxRuB6FaxlAIbByaJHtDkCamZmZmZkaQHE9CtejcBFAjZduEoNAHUBg5dAi23kcQESLbOf7KRVArBxaZDvfGEDfT42XbpISQGiR7Xw/NRdAnu+nxku3G0CsHFpkO98LQGIQWDm0yBRAfT81XrpJF0D0/dR46aYUQJhuEoPAyg9AAiuHFtnOG0CR7Xw/Nd4QQLbz/dR46Q1APQrXo3A9B0Coxks3iUEPQFpkO99PDRJABFYOLbKdHUC0yHa+nxoOQFK4HoXr0RpAexSuR+H6FEAGgZVDi+wZQNnO91PjpQ9Ai2zn+6nxEEBKDAIrhxYRQAwCK4cWWRxAwcqhRbbzFUDJdr6fGi8WQPyp8dJNYhpAtMh2vp8aHkAfhetRuJ4UQIGVQ4ts5xdAppvEILByEUASg8DKoUUYQMUgsHJoERZA1XjpJjEIEkD0/dR46aYdQLbz/dR46RlAlkOLbOd7EEA1XrpJDAIRQGDl0CLb+RtAtMh2vp8aEUBvEoPAyiEUQLKd76fGSxlAQmDl0CLbDEDpJjEIrBwQQJZDi2znexNAokW28/3UFUAUrkfhepQUQBsv3SQGAR5ABFYOLbKdEUCoxks3iUEVQI2XbhKDQBNAzczMzMxMEkBU46WbxKAbQMUgsHJoER1AnMQgsHLoF0CHFtnO91MPQArXo3A9ChZAyXa+nxqvF0CDwMqhRTYVQJMYBFYOrRdABoGVQ4tsEUC0yHa+n5oVQNv5fmq89BhAPQrXo3C9FEAbL90kBoETQD0K16NwPRZAarx0kxiEFEBg5dAi2/kMQPYoXI/CdRZAjZduEoNAF0CWQ4ts53sbQJZDi2znexRAj8L1KFyPDUA5tMh2vp8QQIXrUbgeBRhAmG4Sg8BKEEDByqFFtvMZQOf7qfHSzRBAZDvfT42XFkDpJjEIrBwbQEoMAiuHlhdAVOOlm8SgE0C+nxov3aQUQLTIdr6fmhRAFK5H4XqUEUB56SYxCCwTQEJg5dAiWx1AvHSTGARWHUArhxbZzvcXQAwCK4cW2Q5AAAAAAACAE0Av3SQGgRUXQMuhRbbz/R1AukkMAiuHFEBqvHSTGAQTQOf7qfHSzRpA9P3UeOkmFkBGtvP91PgWQARWDi2yHRVA16NwPQpXF0DLoUW2830UQAAAAAAAgBlA6SYxCKwcFkAGgZVDi2wXQB+F61G4HgxAarx0kxiEGUDHSzeJQeAQQGiR7Xw/tRRACtejcD2KEkDb+X5qvPQaQB1aZDvfTxhA30+Nl24SF0C8dJMYBNYRQNejcD0KVxdAi2zn+6lxGUApXI/C9agRQHWTGARWjhBA+n5qvHQTGUBEi2zn+ykdQPCnxks3CR5AWmQ730+NCEBqvHSTGIQZQJZDi2zn+xNAhxbZzvdTDUBMN4lBYOUZQAaBlUOLbApAeekmMQisGECuR+F6FC4UQHWTGARWjhVAbxKDwMqhFkC28/3UeOkNQLKd76fGSxFAmG4Sg8BKGkBmZmZmZuYaQNEi2/l+ahxArkfhehQuGkCmm8QgsPIXQLx0kxgEVhhAWDm0yHY+FECYbhKDwMoNQK5H4XoULhNAEoPAyqHFEEA=",
            "dtype": "f8"
           }
          }
         ],
         "name": "2016"
        },
        {
         "data": [
          {
           "coloraxis": "coloraxis",
           "customdata": [
            [
             "Southern Asia",
             2017,
             3.79399991035461
            ],
            [
             "Central and Eastern Europe",
             2017,
             4.64400005340576
            ],
            [
             "Middle East and Northern Africa",
             2017,
             5.87200021743774
            ],
            [
             "Sub-Saharan Africa",
             2017,
             3.79500007629395
            ],
            [
             "Latin America and Caribbean",
             2017,
             6.59899997711182
            ],
            [
             "Central and Eastern Europe",
             2017,
             4.37599992752075
            ],
            [
             "Australia and New Zealand",
             2017,
             7.28399991989136
            ],
            [
             "Western Europe",
             2017,
             7.00600004196167
            ],
            [
             "Central and Eastern Europe",
             2017,
             5.23400020599365
            ],
            [
             "Middle East and Northern Africa",
             2017,
             6.08699989318848
            ],
            [
             "Southern Asia",
             2017,
             4.60799980163574
            ],
            [
             "Central and Eastern Europe",
             2017,
             5.56899976730347
            ],
            [
             "Western Europe",
             2017,
             6.89099979400635
            ],
            [
             "Sub-Saharan Africa",
             2017,
             3.65700006484985
            ],
            [
             "Southern Asia",
             2017,
             5.01100015640259
            ],
            [
             "Latin America and Caribbean",
             2017,
             5.82299995422363
            ],
            [
             "Central and Eastern Europe",
             2017,
             5.18200016021729
            ],
            [
             "Sub-Saharan Africa",
             2017,
             3.76600003242493
            ],
            [
             "Latin America and Caribbean",
             2017,
             6.63500022888184
            ],
            [
             "Central and Eastern Europe",
             2017,
             4.71400022506714
            ],
            [
             "Sub-Saharan Africa",
             2017,
             4.03200006484985
            ],
            [
             "Sub-Saharan Africa",
             2017,
             2.90499997138977
            ],
            [
             "Southeastern Asia",
             2017,
             4.16800022125244
            ],
            [
             "Sub-Saharan Africa",
             2017,
             4.69500017166138
            ],
            [
             "North America",
             2017,
             7.31599998474121
            ],
            [
             "Sub-Saharan Africa",
             2017,
             2.69300007820129
            ],
            [
             "Sub-Saharan Africa",
             2017,
             3.93600010871887
            ],
            [
             "Latin America and Caribbean",
             2017,
             6.65199995040894
            ],
            [
             "Eastern Asia",
             2017,
             5.27299976348877
            ],
            [
             "Latin America and Caribbean",
             2017,
             6.35699987411499
            ],
            [
             "Sub-Saharan Africa",
             2017,
             4.29099988937378
            ],
            [
             "Sub-Saharan Africa",
             2017,
             4.28000020980835
            ],
            [
             "Latin America and Caribbean",
             2017,
             7.0789999961853
            ],
            [
             "Central and Eastern Europe",
             2017,
             5.29300022125244
            ],
            [
             "Western Europe",
             2017,
             5.62099981307983
            ],
            [
             "Central and Eastern Europe",
             2017,
             6.60900020599365
            ],
            [
             "Western Europe",
             2017,
             7.52199983596802
            ],
            [
             "Latin America and Caribbean",
             2017,
             5.23000001907349
            ],
            [
             "Latin America and Caribbean",
             2017,
             6.00799989700317
            ],
            [
             "Middle East and Northern Africa",
             2017,
             4.7350001335144
            ],
            [
             "Latin America and Caribbean",
             2017,
             6.00299978256226
            ],
            [
             "Central and Eastern Europe",
             2017,
             5.61100006103516
            ],
            [
             "Sub-Saharan Africa",
             2017,
             4.46000003814697
            ],
            [
             "Western Europe",
             2017,
             7.4689998626709
            ],
            [
             "Western Europe",
             2017,
             6.44199991226196
            ],
            [
             "Sub-Saharan Africa",
             2017,
             4.46500015258789
            ],
            [
             "Central and Eastern Europe",
             2017,
             4.28599977493286
            ],
            [
             "Western Europe",
             2017,
             6.95100021362305
            ],
            [
             "Sub-Saharan Africa",
             2017,
             4.11999988555908
            ],
            [
             "Western Europe",
             2017,
             5.22700023651123
            ],
            [
             "Latin America and Caribbean",
             2017,
             6.4539999961853
            ],
            [
             "Sub-Saharan Africa",
             2017,
             3.50699996948242
            ],
            [
             "Latin America and Caribbean",
             2017,
             3.6029999256134
            ],
            [
             "Latin America and Caribbean",
             2017,
             5.18100023269653
            ],
            [
             "Central and Eastern Europe",
             2017,
             5.32399988174438
            ],
            [
             "Western Europe",
             2017,
             7.50400018692017
            ],
            [
             "Southern Asia",
             2017,
             4.31500005722046
            ],
            [
             "Southeastern Asia",
             2017,
             5.26200008392334
            ],
            [
             "Middle East and Northern Africa",
             2017,
             4.69199991226196
            ],
            [
             "Middle East and Northern Africa",
             2017,
             4.49700021743774
            ],
            [
             "Western Europe",
             2017,
             6.97700023651123
            ],
            [
             "Middle East and Northern Africa",
             2017,
             7.21299982070923
            ],
            [
             "Western Europe",
             2017,
             5.96400022506714
            ],
            [
             "Sub-Saharan Africa",
             2017,
             4.17999982833862
            ],
            [
             "Latin America and Caribbean",
             2017,
             5.31099987030029
            ],
            [
             "Eastern Asia",
             2017,
             5.92000007629395
            ],
            [
             "Middle East and Northern Africa",
             2017,
             5.33599996566772
            ],
            [
             "Central and Eastern Europe",
             2017,
             5.81899976730347
            ],
            [
             "Sub-Saharan Africa",
             2017,
             4.55299997329712
            ],
            [
             "Central and Eastern Europe",
             2017,
             5.27899980545044
            ],
            [
             "Middle East and Northern Africa",
             2017,
             6.10500001907349
            ],
            [
             "Central and Eastern Europe",
             2017,
             5.00400018692017
            ],
            [
             "Central and Eastern Europe",
             2017,
             5.84999990463257
            ],
            [
             "Middle East and Northern Africa",
             2017,
             5.22499990463257
            ],
            [
             "Sub-Saharan Africa",
             2017,
             3.80800008773804
            ],
            [
             "Sub-Saharan Africa",
             2017,
             3.53299999237061
            ],
            [
             "Middle East and Northern Africa",
             2017,
             5.52500009536743
            ],
            [
             "Central and Eastern Europe",
             2017,
             5.90199995040894
            ],
            [
             "Western Europe",
             2017,
             6.86299991607666
            ],
            [
             "Central and Eastern Europe",
             2017,
             5.17500019073486
            ],
            [
             "Sub-Saharan Africa",
             2017,
             3.64400005340576
            ],
            [
             "Sub-Saharan Africa",
             2017,
             3.97000002861023
            ],
            [
             "Southeastern Asia",
             2017,
             6.08400011062622
            ],
            [
             "Sub-Saharan Africa",
             2017,
             4.19000005722046
            ],
            [
             "Western Europe",
             2017,
             6.52699995040894
            ],
            [
             "Sub-Saharan Africa",
             2017,
             4.29199981689453
            ],
            [
             "Sub-Saharan Africa",
             2017,
             5.62900018692017
            ],
            [
             "Latin America and Caribbean",
             2017,
             6.57800006866455
            ],
            [
             "Central and Eastern Europe",
             2017,
             5.83799982070923
            ],
            [
             "Eastern Asia",
             2017,
             4.95499992370605
            ],
            [
             "Central and Eastern Europe",
             2017,
             5.23699998855591
            ],
            [
             "Middle East and Northern Africa",
             2017,
             5.2350001335144
            ],
            [
             "Sub-Saharan Africa",
             2017,
             4.55000019073486
            ],
            [
             "Southeastern Asia",
             2017,
             4.54500007629395
            ],
            [
             "Southern Asia",
             2017,
             4.96199989318848
            ],
            [
             "Western Europe",
             2017,
             7.3769998550415
            ],
            [
             "Australia and New Zealand",
             2017,
             7.31400012969971
            ],
            [
             "Latin America and Caribbean",
             2017,
             6.07100009918213
            ],
            [
             "Sub-Saharan Africa",
             2017,
             4.02799987792969
            ],
            [
             "Sub-Saharan Africa",
             2017,
             5.07399988174438
            ],
            [
             "Western Europe",
             2017,
             5.80999994277954
            ],
            [
             "Western Europe",
             2017,
             7.53700017929077
            ],
            [
             "Southern Asia",
             2017,
             5.26900005340576
            ],
            [
             "Middle East and Northern Africa",
             2017,
             4.77500009536743
            ],
            [
             "Latin America and Caribbean",
             2017,
             6.4520001411438
            ],
            [
             "Latin America and Caribbean",
             2017,
             5.49300003051758
            ],
            [
             "Latin America and Caribbean",
             2017,
             5.71500015258789
            ],
            [
             "Southeastern Asia",
             2017,
             5.42999982833862
            ],
            [
             "Central and Eastern Europe",
             2017,
             5.97300004959106
            ],
            [
             "Western Europe",
             2017,
             5.19500017166138
            ],
            [
             "Middle East and Northern Africa",
             2017,
             6.375
            ],
            [
             "Central and Eastern Europe",
             2017,
             5.82499980926514
            ],
            [
             "Central and Eastern Europe",
             2017,
             5.96299982070923
            ],
            [
             "Sub-Saharan Africa",
             2017,
             3.47099995613098
            ],
            [
             "Middle East and Northern Africa",
             2017,
             6.3439998626709
            ],
            [
             "Sub-Saharan Africa",
             2017,
             4.53499984741211
            ],
            [
             "Central and Eastern Europe",
             2017,
             5.39499998092651
            ],
            [
             "Sub-Saharan Africa",
             2017,
             4.70900011062622
            ],
            [
             "Southeastern Asia",
             2017,
             6.57200002670288
            ],
            [
             "Central and Eastern Europe",
             2017,
             6.09800004959106
            ],
            [
             "Central and Eastern Europe",
             2017,
             5.75799989700317
            ],
            [
             "Sub-Saharan Africa",
             2017,
             4.8289999961853
            ],
            [
             "Eastern Asia",
             2017,
             5.83799982070923
            ],
            [
             "Western Europe",
             2017,
             6.40299987792969
            ],
            [
             "Southern Asia",
             2017,
             4.44000005722046
            ],
            [
             "Sub-Saharan Africa",
             2017,
             4.13899993896484
            ],
            [
             "Western Europe",
             2017,
             7.28399991989136
            ],
            [
             "Western Europe",
             2017,
             7.49399995803833
            ],
            [
             "Middle East and Northern Africa",
             2017,
             3.46199989318848
            ],
            [
             "Central and Eastern Europe",
             2017,
             5.04099988937378
            ],
            [
             "Sub-Saharan Africa",
             2017,
             3.34899997711182
            ],
            [
             "Southeastern Asia",
             2017,
             6.42399978637695
            ],
            [
             "Sub-Saharan Africa",
             2017,
             3.49499988555908
            ],
            [
             "Latin America and Caribbean",
             2017,
             6.16800022125244
            ],
            [
             "Middle East and Northern Africa",
             2017,
             4.80499982833862
            ],
            [
             "Middle East and Northern Africa",
             2017,
             5.5
            ],
            [
             "Central and Eastern Europe",
             2017,
             5.82200002670288
            ],
            [
             "Sub-Saharan Africa",
             2017,
             4.08099985122681
            ],
            [
             "Central and Eastern Europe",
             2017,
             4.09600019454956
            ],
            [
             "Middle East and Northern Africa",
             2017,
             6.64799976348877
            ],
            [
             "Western Europe",
             2017,
             6.71400022506714
            ],
            [
             "North America",
             2017,
             6.99300003051758
            ],
            [
             "Latin America and Caribbean",
             2017,
             6.4539999961853
            ],
            [
             "Central and Eastern Europe",
             2017,
             5.97100019454956
            ],
            [
             "Latin America and Caribbean",
             2017,
             5.25
            ],
            [
             "Southeastern Asia",
             2017,
             5.07399988174438
            ],
            [
             "Middle East and Northern Africa",
             2017,
             3.59299993515015
            ],
            [
             "Sub-Saharan Africa",
             2017,
             4.51399993896484
            ],
            [
             "Sub-Saharan Africa",
             2017,
             3.875
            ]
           ],
           "geo": "geo",
           "hovertemplate": "<b>%{hovertext}</b><br><br>Year=%{customdata[1]}<br>Country=%{location}<br>Region=%{customdata[0]}<br>Average Happiness Score=%{z}<extra></extra>",
           "hovertext": [
            "Afghanistan",
            "Albania",
            "Algeria",
            "Angola",
            "Argentina",
            "Armenia",
            "Australia",
            "Austria",
            "Azerbaijan",
            "Bahrain",
            "Bangladesh",
            "Belarus",
            "Belgium",
            "Benin",
            "Bhutan",
            "Bolivia",
            "Bosnia and Herzegovina",
            "Botswana",
            "Brazil",
            "Bulgaria",
            "Burkina Faso",
            "Burundi",
            "Cambodia",
            "Cameroon",
            "Canada",
            "Central African Republic",
            "Chad",
            "Chile",
            "China",
            "Colombia",
            "Congo (Brazzaville)",
            "Congo (Kinshasa)",
            "Costa Rica",
            "Croatia",
            "Cyprus",
            "Czech Republic",
            "Denmark",
            "Dominican Republic",
            "Ecuador",
            "Egypt",
            "El Salvador",
            "Estonia",
            "Ethiopia",
            "Finland",
            "France",
            "Gabon",
            "Georgia",
            "Germany",
            "Ghana",
            "Greece",
            "Guatemala",
            "Guinea",
            "Haiti",
            "Honduras",
            "Hungary",
            "Iceland",
            "India",
            "Indonesia",
            "Iran",
            "Iraq",
            "Ireland",
            "Israel",
            "Italy",
            "Ivory Coast",
            "Jamaica",
            "Japan",
            "Jordan",
            "Kazakhstan",
            "Kenya",
            "Kosovo",
            "Kuwait",
            "Kyrgyzstan",
            "Latvia",
            "Lebanon",
            "Lesotho",
            "Liberia",
            "Libya",
            "Lithuania",
            "Luxembourg",
            "Macedonia",
            "Madagascar",
            "Malawi",
            "Malaysia",
            "Mali",
            "Malta",
            "Mauritania",
            "Mauritius",
            "Mexico",
            "Moldova",
            "Mongolia",
            "Montenegro",
            "Morocco",
            "Mozambique",
            "Myanmar",
            "Nepal",
            "Netherlands",
            "New Zealand",
            "Nicaragua",
            "Niger",
            "Nigeria",
            "North Cyprus",
            "Norway",
            "Pakistan",
            "Palestinian Territories",
            "Panama",
            "Paraguay",
            "Peru",
            "Philippines",
            "Poland",
            "Portugal",
            "Qatar",
            "Romania",
            "Russia",
            "Rwanda",
            "Saudi Arabia",
            "Senegal",
            "Serbia",
            "Sierra Leone",
            "Singapore",
            "Slovakia",
            "Slovenia",
            "South Africa",
            "South Korea",
            "Spain",
            "Sri Lanka",
            "Sudan",
            "Sweden",
            "Switzerland",
            "Syria",
            "Tajikistan",
            "Tanzania",
            "Thailand",
            "Togo",
            "Trinidad and Tobago",
            "Tunisia",
            "Turkey",
            "Turkmenistan",
            "Uganda",
            "Ukraine",
            "United Arab Emirates",
            "United Kingdom",
            "United States",
            "Uruguay",
            "Uzbekistan",
            "Venezuela",
            "Vietnam",
            "Yemen",
            "Zambia",
            "Zimbabwe"
           ],
           "locationmode": "country names",
           "locations": [
            "Afghanistan",
            "Albania",
            "Algeria",
            "Angola",
            "Argentina",
            "Armenia",
            "Australia",
            "Austria",
            "Azerbaijan",
            "Bahrain",
            "Bangladesh",
            "Belarus",
            "Belgium",
            "Benin",
            "Bhutan",
            "Bolivia",
            "Bosnia and Herzegovina",
            "Botswana",
            "Brazil",
            "Bulgaria",
            "Burkina Faso",
            "Burundi",
            "Cambodia",
            "Cameroon",
            "Canada",
            "Central African Republic",
            "Chad",
            "Chile",
            "China",
            "Colombia",
            "Congo (Brazzaville)",
            "Congo (Kinshasa)",
            "Costa Rica",
            "Croatia",
            "Cyprus",
            "Czech Republic",
            "Denmark",
            "Dominican Republic",
            "Ecuador",
            "Egypt",
            "El Salvador",
            "Estonia",
            "Ethiopia",
            "Finland",
            "France",
            "Gabon",
            "Georgia",
            "Germany",
            "Ghana",
            "Greece",
            "Guatemala",
            "Guinea",
            "Haiti",
            "Honduras",
            "Hungary",
            "Iceland",
            "India",
            "Indonesia",
            "Iran",
            "Iraq",
            "Ireland",
            "Israel",
            "Italy",
            "Ivory Coast",
            "Jamaica",
            "Japan",
            "Jordan",
            "Kazakhstan",
            "Kenya",
            "Kosovo",
            "Kuwait",
            "Kyrgyzstan",
            "Latvia",
            "Lebanon",
            "Lesotho",
            "Liberia",
            "Libya",
            "Lithuania",
            "Luxembourg",
            "Macedonia",
            "Madagascar",
            "Malawi",
            "Malaysia",
            "Mali",
            "Malta",
            "Mauritania",
            "Mauritius",
            "Mexico",
            "Moldova",
            "Mongolia",
            "Montenegro",
            "Morocco",
            "Mozambique",
            "Myanmar",
            "Nepal",
            "Netherlands",
            "New Zealand",
            "Nicaragua",
            "Niger",
            "Nigeria",
            "North Cyprus",
            "Norway",
            "Pakistan",
            "Palestinian Territories",
            "Panama",
            "Paraguay",
            "Peru",
            "Philippines",
            "Poland",
            "Portugal",
            "Qatar",
            "Romania",
            "Russia",
            "Rwanda",
            "Saudi Arabia",
            "Senegal",
            "Serbia",
            "Sierra Leone",
            "Singapore",
            "Slovakia",
            "Slovenia",
            "South Africa",
            "South Korea",
            "Spain",
            "Sri Lanka",
            "Sudan",
            "Sweden",
            "Switzerland",
            "Syria",
            "Tajikistan",
            "Tanzania",
            "Thailand",
            "Togo",
            "Trinidad and Tobago",
            "Tunisia",
            "Turkey",
            "Turkmenistan",
            "Uganda",
            "Ukraine",
            "United Arab Emirates",
            "United Kingdom",
            "United States",
            "Uruguay",
            "Uzbekistan",
            "Venezuela",
            "Vietnam",
            "Yemen",
            "Zambia",
            "Zimbabwe"
           ],
           "name": "",
           "type": "choropleth",
           "z": {
            "bdata": "9v//nxxaDkD+//+/dJMSQPv//5/tfBdACwAAAClcDkAEAABAYGUaQP7//x8GgRFAAwAA4NAiHUAAAADgJAYcQP3//7+d7xRABAAAgBZZGED+//9/l24SQAQAAOCnRhZAAwAAQGKQG0D4//8/iUENQAIAAKBDCxRA/f//f8BKF0AFAABAXroUQAcAAKDEIA5ABQAAgD2KGkABAADgItsSQPz//5/EIBBA////n3A9B0D+//8/CKwQQAMAACCuxxJA////f5VDHUD3//+fQ4sFQPv//5/tfA9ABQAA4KWbGkABAABAjRcVQAAAAGCRbRlAAQAA4PspEUAAAABguB4RQP3//1/lUBxA/v//PwgsFUD8//9f53sWQP3//7+dbxpAAwAAIIcWHkAEAAAghesUQPz//x8xCBhA+///36PwEkAFAABgEgMYQAQAAACqcRZA/f//PwrXEUACAACAQeAdQP3//5+bxBlA/////yjcEUD///8f3SQRQAQAAADTzRtA/v//P+F6EED///+/cugUQP3//1/l0BlA/P///1UODED5//+f8dIMQPz//x9YuRRA+///n8ZLFUAEAACgGAQeQAEAAGCPQhFAAAAAwEkMFUD9//+fm8QSQPv//5/t/BFA////v3LoG0ACAACgHNocQAEAAOAi2xdA/f//31G4EED9//+/dj4VQAUAAIAUrhdA+///XxBYFUAEAADgp0YXQAEAAKBFNhJAAQAAILIdFUAEAAAghWsYQAQAAKAYBBRAAgAAYGZmF0ACAABgZuYUQAcAAMDIdg5ACgAAgJVDDED+//+fmRkWQAUAAOClmxdAAAAAQLZzG0D8//8/M7MUQPz//3/pJg1AAQAAYI/CD0D///8fBFYYQAEAAGCPwhBABQAA4KUbGkD/////ASsRQAQAAKAYhBZA////P99PGkACAACgHFoXQPv//3/r0RNAAgAAILDyFED7///fo/AUQPz//z8zMxJABQAAgBQuEkAEAACAFtkTQPz//z8Mgh1AAwAAQIlBHUABAABAtEgYQAMAAACsHBBA+///n8ZLFED///+fcD0XQP7//1/jJR5A/v//v3QTFUD+//+fmRkTQAEAACDZzhlAAgAAANX4FUD/////KNwWQP3//99RuBVA+///H1rkF0ADAAAgrscUQAAAAAAAgBlABAAAwMxMF0ACAACgHNoXQP3//5+bxAtAAgAAgEFgGUABAAAA1yMSQPz//996lBVA////HwTWEkD///9fukkaQPv//x9aZBhA/P//HzEIF0D9//9f5VATQAIAAKAcWhdAAwAAAKycGUABAABgj8IRQPz///9VjhBAAwAA4NAiHUAAAAAg2/kdQAgAAAAtsgtAAQAA4PspFEAIAACAwMoKQPz///8sshlA+///f8L1C0D+//8/CKwYQP3//99ROBNAAAAAAAAAFkD///9fukkXQAQAAKDxUhBA////301iEEABAABAjZcaQAEAAOAi2xpAAgAAANX4G0D9//9f5dAZQP///99N4hdAAAAAAAAAFUD7//+fxksUQAgAAMB2vgxA/P///1UOEkAAAAAAAAAPQA==",
            "dtype": "f8"
           }
          }
         ],
         "name": "2017"
        },
        {
         "data": [
          {
           "coloraxis": "coloraxis",
           "customdata": [
            [
             "Southern Asia",
             2018,
             3.632
            ],
            [
             "Central and Eastern Europe",
             2018,
             4.586
            ],
            [
             "Middle East and Northern Africa",
             2018,
             5.295
            ],
            [
             "Sub-Saharan Africa",
             2018,
             3.795
            ],
            [
             "Latin America and Caribbean",
             2018,
             6.388
            ],
            [
             "Central and Eastern Europe",
             2018,
             4.321
            ],
            [
             "Australia and New Zealand",
             2018,
             7.272
            ],
            [
             "Western Europe",
             2018,
             7.139
            ],
            [
             "Central and Eastern Europe",
             2018,
             5.201
            ],
            [
             "Middle East and Northern Africa",
             2018,
             6.105
            ],
            [
             "Southern Asia",
             2018,
             4.5
            ],
            [
             "Central and Eastern Europe",
             2018,
             5.483
            ],
            [
             "Western Europe",
             2018,
             6.927
            ],
            [
             "Sub-Saharan Africa",
             2018,
             4.141
            ],
            [
             "Southern Asia",
             2018,
             5.082
            ],
            [
             "Latin America and Caribbean",
             2018,
             5.752
            ],
            [
             "Central and Eastern Europe",
             2018,
             5.129
            ],
            [
             "Sub-Saharan Africa",
             2018,
             3.59
            ],
            [
             "Latin America and Caribbean",
             2018,
             6.419
            ],
            [
             "Central and Eastern Europe",
             2018,
             4.933
            ],
            [
             "Sub-Saharan Africa",
             2018,
             4.424
            ],
            [
             "Sub-Saharan Africa",
             2018,
             2.905
            ],
            [
             "Southeastern Asia",
             2018,
             4.433
            ],
            [
             "Sub-Saharan Africa",
             2018,
             4.975
            ],
            [
             "North America",
             2018,
             7.328
            ],
            [
             "Sub-Saharan Africa",
             2018,
             3.083
            ],
            [
             "Sub-Saharan Africa",
             2018,
             4.301
            ],
            [
             "Latin America and Caribbean",
             2018,
             6.476
            ],
            [
             "Eastern Asia",
             2018,
             5.246
            ],
            [
             "Latin America and Caribbean",
             2018,
             6.26
            ],
            [
             "Sub-Saharan Africa",
             2018,
             4.559
            ],
            [
             "Sub-Saharan Africa",
             2018,
             4.245
            ],
            [
             "Latin America and Caribbean",
             2018,
             7.072
            ],
            [
             "Central and Eastern Europe",
             2018,
             5.321
            ],
            [
             "Western Europe",
             2018,
             5.762
            ],
            [
             "Central and Eastern Europe",
             2018,
             6.711
            ],
            [
             "Western Europe",
             2018,
             7.555
            ],
            [
             "Latin America and Caribbean",
             2018,
             5.302
            ],
            [
             "Latin America and Caribbean",
             2018,
             5.973
            ],
            [
             "Middle East and Northern Africa",
             2018,
             4.419
            ],
            [
             "Latin America and Caribbean",
             2018,
             6.167
            ],
            [
             "Central and Eastern Europe",
             2018,
             5.739
            ],
            [
             "Sub-Saharan Africa",
             2018,
             4.35
            ],
            [
             "Western Europe",
             2018,
             7.632
            ],
            [
             "Western Europe",
             2018,
             6.489
            ],
            [
             "Sub-Saharan Africa",
             2018,
             4.758
            ],
            [
             "Central and Eastern Europe",
             2018,
             4.34
            ],
            [
             "Western Europe",
             2018,
             6.965
            ],
            [
             "Sub-Saharan Africa",
             2018,
             4.657
            ],
            [
             "Western Europe",
             2018,
             5.358
            ],
            [
             "Latin America and Caribbean",
             2018,
             6.382
            ],
            [
             "Sub-Saharan Africa",
             2018,
             3.964
            ],
            [
             "Latin America and Caribbean",
             2018,
             3.582
            ],
            [
             "Latin America and Caribbean",
             2018,
             5.504
            ],
            [
             "Eastern Asia",
             2018,
             5.43
            ],
            [
             "Central and Eastern Europe",
             2018,
             5.62
            ],
            [
             "Western Europe",
             2018,
             7.495
            ],
            [
             "Southern Asia",
             2018,
             4.19
            ],
            [
             "Southeastern Asia",
             2018,
             5.093
            ],
            [
             "Middle East and Northern Africa",
             2018,
             4.707
            ],
            [
             "Middle East and Northern Africa",
             2018,
             4.456
            ],
            [
             "Western Europe",
             2018,
             6.977
            ],
            [
             "Middle East and Northern Africa",
             2018,
             6.814
            ],
            [
             "Western Europe",
             2018,
             6
            ],
            [
             "Sub-Saharan Africa",
             2018,
             4.671
            ],
            [
             "Latin America and Caribbean",
             2018,
             5.89
            ],
            [
             "Eastern Asia",
             2018,
             5.915
            ],
            [
             "Middle East and Northern Africa",
             2018,
             5.161
            ],
            [
             "Central and Eastern Europe",
             2018,
             5.79
            ],
            [
             "Sub-Saharan Africa",
             2018,
             4.41
            ],
            [
             "Central and Eastern Europe",
             2018,
             5.662
            ],
            [
             "Middle East and Northern Africa",
             2018,
             6.083
            ],
            [
             "Central and Eastern Europe",
             2018,
             5.131
            ],
            [
             "Southeastern Asia",
             2018,
             4.623
            ],
            [
             "Central and Eastern Europe",
             2018,
             5.933
            ],
            [
             "Middle East and Northern Africa",
             2018,
             5.358
            ],
            [
             "Sub-Saharan Africa",
             2018,
             3.808
            ],
            [
             "Sub-Saharan Africa",
             2018,
             3.495
            ],
            [
             "Middle East and Northern Africa",
             2018,
             5.566
            ],
            [
             "Central and Eastern Europe",
             2018,
             5.952
            ],
            [
             "Western Europe",
             2018,
             6.91
            ],
            [
             "Central and Eastern Europe",
             2018,
             5.185
            ],
            [
             "Sub-Saharan Africa",
             2018,
             3.774
            ],
            [
             "Sub-Saharan Africa",
             2018,
             3.587
            ],
            [
             "Southeastern Asia",
             2018,
             6.322
            ],
            [
             "Sub-Saharan Africa",
             2018,
             4.447
            ],
            [
             "Western Europe",
             2018,
             6.627
            ],
            [
             "Sub-Saharan Africa",
             2018,
             4.356
            ],
            [
             "Sub-Saharan Africa",
             2018,
             5.891
            ],
            [
             "Latin America and Caribbean",
             2018,
             6.488
            ],
            [
             "Central and Eastern Europe",
             2018,
             5.64
            ],
            [
             "Eastern Asia",
             2018,
             5.125
            ],
            [
             "Central and Eastern Europe",
             2018,
             5.347
            ],
            [
             "Middle East and Northern Africa",
             2018,
             5.254
            ],
            [
             "Sub-Saharan Africa",
             2018,
             4.417
            ],
            [
             "Southeastern Asia",
             2018,
             4.308
            ],
            [
             "Southern Asia",
             2018,
             4.88
            ],
            [
             "Western Europe",
             2018,
             7.441
            ],
            [
             "Australia and New Zealand",
             2018,
             7.324
            ],
            [
             "Latin America and Caribbean",
             2018,
             6.141
            ],
            [
             "Sub-Saharan Africa",
             2018,
             4.166
            ],
            [
             "Sub-Saharan Africa",
             2018,
             5.155
            ],
            [
             "Western Europe",
             2018,
             7.594
            ],
            [
             "Southern Asia",
             2018,
             5.472
            ],
            [
             "Middle East and Northern Africa",
             2018,
             4.743
            ],
            [
             "Latin America and Caribbean",
             2018,
             6.43
            ],
            [
             "Latin America and Caribbean",
             2018,
             5.681
            ],
            [
             "Latin America and Caribbean",
             2018,
             5.663
            ],
            [
             "Southeastern Asia",
             2018,
             5.524
            ],
            [
             "Central and Eastern Europe",
             2018,
             6.123
            ],
            [
             "Western Europe",
             2018,
             5.41
            ],
            [
             "Middle East and Northern Africa",
             2018,
             6.374
            ],
            [
             "Central and Eastern Europe",
             2018,
             5.945
            ],
            [
             "Central and Eastern Europe",
             2018,
             5.81
            ],
            [
             "Sub-Saharan Africa",
             2018,
             3.408
            ],
            [
             "Middle East and Northern Africa",
             2018,
             6.371
            ],
            [
             "Sub-Saharan Africa",
             2018,
             4.631
            ],
            [
             "Central and Eastern Europe",
             2018,
             5.398
            ],
            [
             "Sub-Saharan Africa",
             2018,
             4.571
            ],
            [
             "Southeastern Asia",
             2018,
             6.343
            ],
            [
             "Central and Eastern Europe",
             2018,
             6.173
            ],
            [
             "Central and Eastern Europe",
             2018,
             5.948
            ],
            [
             "Sub-Saharan Africa",
             2018,
             4.724
            ],
            [
             "Eastern Asia",
             2018,
             5.875
            ],
            [
             "Western Europe",
             2018,
             6.31
            ],
            [
             "Southern Asia",
             2018,
             4.471
            ],
            [
             "Sub-Saharan Africa",
             2018,
             4.139
            ],
            [
             "Western Europe",
             2018,
             7.314
            ],
            [
             "Western Europe",
             2018,
             7.487
            ],
            [
             "Middle East and Northern Africa",
             2018,
             3.462
            ],
            [
             "Eastern Asia",
             2018,
             6.441
            ],
            [
             "Central and Eastern Europe",
             2018,
             5.199
            ],
            [
             "Sub-Saharan Africa",
             2018,
             3.303
            ],
            [
             "Southeastern Asia",
             2018,
             6.072
            ],
            [
             "Sub-Saharan Africa",
             2018,
             3.999
            ],
            [
             "Middle East and Northern Africa",
             2018,
             4.592
            ],
            [
             "Middle East and Northern Africa",
             2018,
             5.483
            ],
            [
             "Central and Eastern Europe",
             2018,
             5.636
            ],
            [
             "Sub-Saharan Africa",
             2018,
             4.161
            ],
            [
             "Central and Eastern Europe",
             2018,
             4.103
            ],
            [
             "Middle East and Northern Africa",
             2018,
             6.774
            ],
            [
             "Western Europe",
             2018,
             7.19
            ],
            [
             "North America",
             2018,
             6.886
            ],
            [
             "Latin America and Caribbean",
             2018,
             6.379
            ],
            [
             "Central and Eastern Europe",
             2018,
             6.096
            ],
            [
             "Latin America and Caribbean",
             2018,
             4.806
            ],
            [
             "Southeastern Asia",
             2018,
             5.103
            ],
            [
             "Middle East and Northern Africa",
             2018,
             3.355
            ],
            [
             "Sub-Saharan Africa",
             2018,
             4.377
            ],
            [
             "Sub-Saharan Africa",
             2018,
             3.692
            ]
           ],
           "geo": "geo",
           "hovertemplate": "<b>%{hovertext}</b><br><br>Year=%{customdata[1]}<br>Country=%{location}<br>Region=%{customdata[0]}<br>Average Happiness Score=%{z}<extra></extra>",
           "hovertext": [
            "Afghanistan",
            "Albania",
            "Algeria",
            "Angola",
            "Argentina",
            "Armenia",
            "Australia",
            "Austria",
            "Azerbaijan",
            "Bahrain",
            "Bangladesh",
            "Belarus",
            "Belgium",
            "Benin",
            "Bhutan",
            "Bolivia",
            "Bosnia and Herzegovina",
            "Botswana",
            "Brazil",
            "Bulgaria",
            "Burkina Faso",
            "Burundi",
            "Cambodia",
            "Cameroon",
            "Canada",
            "Central African Republic",
            "Chad",
            "Chile",
            "China",
            "Colombia",
            "Congo (Brazzaville)",
            "Congo (Kinshasa)",
            "Costa Rica",
            "Croatia",
            "Cyprus",
            "Czech Republic",
            "Denmark",
            "Dominican Republic",
            "Ecuador",
            "Egypt",
            "El Salvador",
            "Estonia",
            "Ethiopia",
            "Finland",
            "France",
            "Gabon",
            "Georgia",
            "Germany",
            "Ghana",
            "Greece",
            "Guatemala",
            "Guinea",
            "Haiti",
            "Honduras",
            "Hong Kong",
            "Hungary",
            "Iceland",
            "India",
            "Indonesia",
            "Iran",
            "Iraq",
            "Ireland",
            "Israel",
            "Italy",
            "Ivory Coast",
            "Jamaica",
            "Japan",
            "Jordan",
            "Kazakhstan",
            "Kenya",
            "Kosovo",
            "Kuwait",
            "Kyrgyzstan",
            "Laos",
            "Latvia",
            "Lebanon",
            "Lesotho",
            "Liberia",
            "Libya",
            "Lithuania",
            "Luxembourg",
            "Macedonia",
            "Madagascar",
            "Malawi",
            "Malaysia",
            "Mali",
            "Malta",
            "Mauritania",
            "Mauritius",
            "Mexico",
            "Moldova",
            "Mongolia",
            "Montenegro",
            "Morocco",
            "Mozambique",
            "Myanmar",
            "Nepal",
            "Netherlands",
            "New Zealand",
            "Nicaragua",
            "Niger",
            "Nigeria",
            "Norway",
            "Pakistan",
            "Palestinian Territories",
            "Panama",
            "Paraguay",
            "Peru",
            "Philippines",
            "Poland",
            "Portugal",
            "Qatar",
            "Romania",
            "Russia",
            "Rwanda",
            "Saudi Arabia",
            "Senegal",
            "Serbia",
            "Sierra Leone",
            "Singapore",
            "Slovakia",
            "Slovenia",
            "South Africa",
            "South Korea",
            "Spain",
            "Sri Lanka",
            "Sudan",
            "Sweden",
            "Switzerland",
            "Syria",
            "Taiwan",
            "Tajikistan",
            "Tanzania",
            "Thailand",
            "Togo",
            "Tunisia",
            "Turkey",
            "Turkmenistan",
            "Uganda",
            "Ukraine",
            "United Arab Emirates",
            "United Kingdom",
            "United States",
            "Uruguay",
            "Uzbekistan",
            "Venezuela",
            "Vietnam",
            "Yemen",
            "Zambia",
            "Zimbabwe"
           ],
           "locationmode": "country names",
           "locations": [
            "Afghanistan",
            "Albania",
            "Algeria",
            "Angola",
            "Argentina",
            "Armenia",
            "Australia",
            "Austria",
            "Azerbaijan",
            "Bahrain",
            "Bangladesh",
            "Belarus",
            "Belgium",
            "Benin",
            "Bhutan",
            "Bolivia",
            "Bosnia and Herzegovina",
            "Botswana",
            "Brazil",
            "Bulgaria",
            "Burkina Faso",
            "Burundi",
            "Cambodia",
            "Cameroon",
            "Canada",
            "Central African Republic",
            "Chad",
            "Chile",
            "China",
            "Colombia",
            "Congo (Brazzaville)",
            "Congo (Kinshasa)",
            "Costa Rica",
            "Croatia",
            "Cyprus",
            "Czech Republic",
            "Denmark",
            "Dominican Republic",
            "Ecuador",
            "Egypt",
            "El Salvador",
            "Estonia",
            "Ethiopia",
            "Finland",
            "France",
            "Gabon",
            "Georgia",
            "Germany",
            "Ghana",
            "Greece",
            "Guatemala",
            "Guinea",
            "Haiti",
            "Honduras",
            "Hong Kong",
            "Hungary",
            "Iceland",
            "India",
            "Indonesia",
            "Iran",
            "Iraq",
            "Ireland",
            "Israel",
            "Italy",
            "Ivory Coast",
            "Jamaica",
            "Japan",
            "Jordan",
            "Kazakhstan",
            "Kenya",
            "Kosovo",
            "Kuwait",
            "Kyrgyzstan",
            "Laos",
            "Latvia",
            "Lebanon",
            "Lesotho",
            "Liberia",
            "Libya",
            "Lithuania",
            "Luxembourg",
            "Macedonia",
            "Madagascar",
            "Malawi",
            "Malaysia",
            "Mali",
            "Malta",
            "Mauritania",
            "Mauritius",
            "Mexico",
            "Moldova",
            "Mongolia",
            "Montenegro",
            "Morocco",
            "Mozambique",
            "Myanmar",
            "Nepal",
            "Netherlands",
            "New Zealand",
            "Nicaragua",
            "Niger",
            "Nigeria",
            "Norway",
            "Pakistan",
            "Palestinian Territories",
            "Panama",
            "Paraguay",
            "Peru",
            "Philippines",
            "Poland",
            "Portugal",
            "Qatar",
            "Romania",
            "Russia",
            "Rwanda",
            "Saudi Arabia",
            "Senegal",
            "Serbia",
            "Sierra Leone",
            "Singapore",
            "Slovakia",
            "Slovenia",
            "South Africa",
            "South Korea",
            "Spain",
            "Sri Lanka",
            "Sudan",
            "Sweden",
            "Switzerland",
            "Syria",
            "Taiwan",
            "Tajikistan",
            "Tanzania",
            "Thailand",
            "Togo",
            "Tunisia",
            "Turkey",
            "Turkmenistan",
            "Uganda",
            "Ukraine",
            "United Arab Emirates",
            "United Kingdom",
            "United States",
            "Uruguay",
            "Uzbekistan",
            "Venezuela",
            "Vietnam",
            "Yemen",
            "Zambia",
            "Zimbabwe"
           ],
           "name": "",
           "type": "choropleth",
           "z": {
            "bdata": "dZMYBFYODUDy0k1iEFgSQK5H4XoULhVAXI/C9ShcDkBaZDvfT40ZQGIQWDm0SBFASgwCK4cWHUB1kxgEVo4cQOf7qfHSzRRA7FG4HoVrGEAAAAAAAAASQDvfT42X7hVAaJHtfD+1G0Cq8dJNYpAQQIcW2c73UxRANV66SQwCF0BqvHSTGIQUQLgehetRuAxAkxgEVg6tGUAIrBxaZLsTQBkEVg4tshFAPQrXo3A9B0AIrBxaZLsRQGZmZmZm5hNAHVpkO99PHUBEi2zn+6kIQE5iEFg5NBFAgZVDi2znGUCWQ4ts5/sUQArXo3A9ChlAI9v5fmo8EkB7FK5H4foQQH0/NV66SRxAYhBYObRIFUA/NV66SQwXQPLSTWIQ2BpAuB6F61E4HkBoke18PzUVQDEIrBxa5BdAkxgEVg6tEUBeukkMAqsYQNv5fmq89BZAZmZmZmZmEUC6SQwCK4ceQNv5fmq89BlA1XjpJjEIE0Bcj8L1KFwRQFyPwvUo3BtAVOOlm8SgEkA730+Nl24VQLpJDAIrhxlAg8DKoUW2D0AOLbKd76cMQGq8dJMYBBZAuB6F61G4FUB7FK5H4XoWQHsUrkfh+h1Aw/UoXI/CEECsHFpkO18UQIcW2c730xJAbef7qfHSEUCcxCCwcugbQKjGSzeJQRtAAAAAAAAAGEDJdr6fGq8SQI/C9ShcjxdAKVyPwvWoF0C+nxov3aQUQClcj8L1KBdApHA9CtejEUDZzvdT46UWQKJFtvP9VBhAoBov3SSGFEDLoUW2830SQAisHFpkuxdAO99PjZduFUAQWDm0yHYOQPYoXI/C9QtA3SQGgZVDFkACK4cW2c4XQKRwPQrXoxtAPQrXo3C9FED+1HjpJjEOQBkEVg4tsgxAfT81XrpJGUB9PzVeuskRQDVeukkMghpABoGVQ4tsEUCq8dJNYpAXQMHKoUW28xlAj8L1KFyPFkAAAAAAAIAUQBfZzvdTYxVAarx0kxgEFUBeukkMAqsRQAisHFpkOxFAhetRuB6FE0DdJAaBlcMdQLKd76fGSx1AqvHSTWKQGEBEi2zn+6kQQB+F61G4nhRAx0s3iUFgHkAX2c73U+MVQEa28/3U+BJAuB6F61G4GUDTTWIQWLkWQPT91HjpphZAf2q8dJMYFkDLoUW2830YQKRwPQrXoxVA5dAi2/l+GUBI4XoUrscXQD0K16NwPRdA3SQGgZVDC0CWQ4ts53sZQKAaL90khhJAZDvfT42XFUBiEFg5tEgSQKwcWmQ7XxlA/tR46SaxGECYbhKDwMoXQEw3iUFg5RJAAAAAAACAF0A9CtejcD0ZQPyp8dJN4hFAdZMYBFaOEECoxks3iUEdQKabxCCw8h1AGQRWDi2yC0DdJAaBlcMZQLKd76fGyxRABoGVQ4tsCkB9PzVeukkYQMuhRbbz/Q9Ake18PzVeEkA730+Nl+4VQCUGgZVDixZAvp8aL92kEEC28/3UeGkQQH9qvHSTGBtAw/UoXI/CHEAlBoGVQ4sbQGq8dJMYhBlA/Knx0k1iGEDTTWIQWDkTQLbz/dR4aRRA16NwPQrXCkA1XrpJDIIRQPCnxks3iQ1A",
            "dtype": "f8"
           }
          }
         ],
         "name": "2018"
        },
        {
         "data": [
          {
           "coloraxis": "coloraxis",
           "customdata": [
            [
             "Southern Asia",
             2019,
             3.203
            ],
            [
             "Central and Eastern Europe",
             2019,
             4.719
            ],
            [
             "Middle East and Northern Africa",
             2019,
             5.211
            ],
            [
             "Latin America and Caribbean",
             2019,
             6.086
            ],
            [
             "Central and Eastern Europe",
             2019,
             4.559
            ],
            [
             "Australia and New Zealand",
             2019,
             7.228
            ],
            [
             "Western Europe",
             2019,
             7.246
            ],
            [
             "Central and Eastern Europe",
             2019,
             5.208
            ],
            [
             "Middle East and Northern Africa",
             2019,
             6.199
            ],
            [
             "Southern Asia",
             2019,
             4.456
            ],
            [
             "Central and Eastern Europe",
             2019,
             5.323
            ],
            [
             "Western Europe",
             2019,
             6.923
            ],
            [
             "Sub-Saharan Africa",
             2019,
             4.883
            ],
            [
             "Southern Asia",
             2019,
             5.082
            ],
            [
             "Latin America and Caribbean",
             2019,
             5.779
            ],
            [
             "Central and Eastern Europe",
             2019,
             5.386
            ],
            [
             "Sub-Saharan Africa",
             2019,
             3.488
            ],
            [
             "Latin America and Caribbean",
             2019,
             6.3
            ],
            [
             "Central and Eastern Europe",
             2019,
             5.011
            ],
            [
             "Sub-Saharan Africa",
             2019,
             4.587
            ],
            [
             "Sub-Saharan Africa",
             2019,
             3.775
            ],
            [
             "Southeastern Asia",
             2019,
             4.7
            ],
            [
             "Sub-Saharan Africa",
             2019,
             5.044
            ],
            [
             "North America",
             2019,
             7.278
            ],
            [
             "Sub-Saharan Africa",
             2019,
             3.083
            ],
            [
             "Sub-Saharan Africa",
             2019,
             4.35
            ],
            [
             "Latin America and Caribbean",
             2019,
             6.444
            ],
            [
             "Eastern Asia",
             2019,
             5.191
            ],
            [
             "Latin America and Caribbean",
             2019,
             6.125
            ],
            [
             "Sub-Saharan Africa",
             2019,
             3.973
            ],
            [
             "Sub-Saharan Africa",
             2019,
             4.812
            ],
            [
             "Sub-Saharan Africa",
             2019,
             4.418
            ],
            [
             "Latin America and Caribbean",
             2019,
             7.167
            ],
            [
             "Central and Eastern Europe",
             2019,
             5.432
            ],
            [
             "Western Europe",
             2019,
             6.046
            ],
            [
             "Central and Eastern Europe",
             2019,
             6.852
            ],
            [
             "Western Europe",
             2019,
             7.6
            ],
            [
             "Latin America and Caribbean",
             2019,
             5.425
            ],
            [
             "Latin America and Caribbean",
             2019,
             6.028
            ],
            [
             "Middle East and Northern Africa",
             2019,
             4.166
            ],
            [
             "Latin America and Caribbean",
             2019,
             6.253
            ],
            [
             "Central and Eastern Europe",
             2019,
             5.893
            ],
            [
             "Sub-Saharan Africa",
             2019,
             4.286
            ],
            [
             "Western Europe",
             2019,
             7.769
            ],
            [
             "Western Europe",
             2019,
             6.592
            ],
            [
             "Sub-Saharan Africa",
             2019,
             4.799
            ],
            [
             "Central and Eastern Europe",
             2019,
             4.519
            ],
            [
             "Western Europe",
             2019,
             6.985
            ],
            [
             "Sub-Saharan Africa",
             2019,
             4.996
            ],
            [
             "Western Europe",
             2019,
             5.287
            ],
            [
             "Latin America and Caribbean",
             2019,
             6.436
            ],
            [
             "Sub-Saharan Africa",
             2019,
             4.534
            ],
            [
             "Latin America and Caribbean",
             2019,
             3.597
            ],
            [
             "Latin America and Caribbean",
             2019,
             5.86
            ],
            [
             "Eastern Asia",
             2019,
             5.43
            ],
            [
             "Central and Eastern Europe",
             2019,
             5.758
            ],
            [
             "Western Europe",
             2019,
             7.494
            ],
            [
             "Southern Asia",
             2019,
             4.015
            ],
            [
             "Southeastern Asia",
             2019,
             5.192
            ],
            [
             "Middle East and Northern Africa",
             2019,
             4.548
            ],
            [
             "Middle East and Northern Africa",
             2019,
             4.437
            ],
            [
             "Western Europe",
             2019,
             7.021
            ],
            [
             "Middle East and Northern Africa",
             2019,
             7.139
            ],
            [
             "Western Europe",
             2019,
             6.223
            ],
            [
             "Sub-Saharan Africa",
             2019,
             4.944
            ],
            [
             "Latin America and Caribbean",
             2019,
             5.89
            ],
            [
             "Eastern Asia",
             2019,
             5.886
            ],
            [
             "Middle East and Northern Africa",
             2019,
             4.906
            ],
            [
             "Central and Eastern Europe",
             2019,
             5.809
            ],
            [
             "Sub-Saharan Africa",
             2019,
             4.509
            ],
            [
             "Central and Eastern Europe",
             2019,
             6.1
            ],
            [
             "Middle East and Northern Africa",
             2019,
             6.021
            ],
            [
             "Central and Eastern Europe",
             2019,
             5.261
            ],
            [
             "Southeastern Asia",
             2019,
             4.796
            ],
            [
             "Central and Eastern Europe",
             2019,
             5.94
            ],
            [
             "Middle East and Northern Africa",
             2019,
             5.197
            ],
            [
             "Sub-Saharan Africa",
             2019,
             3.802
            ],
            [
             "Sub-Saharan Africa",
             2019,
             3.975
            ],
            [
             "Middle East and Northern Africa",
             2019,
             5.525
            ],
            [
             "Central and Eastern Europe",
             2019,
             6.149
            ],
            [
             "Western Europe",
             2019,
             7.09
            ],
            [
             "Sub-Saharan Africa",
             2019,
             3.933
            ],
            [
             "Sub-Saharan Africa",
             2019,
             3.41
            ],
            [
             "Southeastern Asia",
             2019,
             5.339
            ],
            [
             "Sub-Saharan Africa",
             2019,
             4.39
            ],
            [
             "Western Europe",
             2019,
             6.726
            ],
            [
             "Sub-Saharan Africa",
             2019,
             4.49
            ],
            [
             "Sub-Saharan Africa",
             2019,
             5.888
            ],
            [
             "Latin America and Caribbean",
             2019,
             6.595
            ],
            [
             "Central and Eastern Europe",
             2019,
             5.529
            ],
            [
             "Eastern Asia",
             2019,
             5.285
            ],
            [
             "Central and Eastern Europe",
             2019,
             5.523
            ],
            [
             "Middle East and Northern Africa",
             2019,
             5.208
            ],
            [
             "Sub-Saharan Africa",
             2019,
             4.466
            ],
            [
             "Southeastern Asia",
             2019,
             4.36
            ],
            [
             "Southern Asia",
             2019,
             4.913
            ],
            [
             "Western Europe",
             2019,
             7.488
            ],
            [
             "Australia and New Zealand",
             2019,
             7.307
            ],
            [
             "Latin America and Caribbean",
             2019,
             6.105
            ],
            [
             "Sub-Saharan Africa",
             2019,
             4.628
            ],
            [
             "Sub-Saharan Africa",
             2019,
             5.265
            ],
            [
             "Western Europe",
             2019,
             7.554
            ],
            [
             "Southern Asia",
             2019,
             5.653
            ],
            [
             "Middle East and Northern Africa",
             2019,
             4.696
            ],
            [
             "Latin America and Caribbean",
             2019,
             6.321
            ],
            [
             "Latin America and Caribbean",
             2019,
             5.743
            ],
            [
             "Latin America and Caribbean",
             2019,
             5.697
            ],
            [
             "Southeastern Asia",
             2019,
             5.631
            ],
            [
             "Central and Eastern Europe",
             2019,
             6.182
            ],
            [
             "Western Europe",
             2019,
             5.693
            ],
            [
             "Middle East and Northern Africa",
             2019,
             6.374
            ],
            [
             "Central and Eastern Europe",
             2019,
             6.07
            ],
            [
             "Central and Eastern Europe",
             2019,
             5.648
            ],
            [
             "Sub-Saharan Africa",
             2019,
             3.334
            ],
            [
             "Middle East and Northern Africa",
             2019,
             6.375
            ],
            [
             "Sub-Saharan Africa",
             2019,
             4.681
            ],
            [
             "Central and Eastern Europe",
             2019,
             5.603
            ],
            [
             "Sub-Saharan Africa",
             2019,
             4.374
            ],
            [
             "Southeastern Asia",
             2019,
             6.262
            ],
            [
             "Central and Eastern Europe",
             2019,
             6.198
            ],
            [
             "Central and Eastern Europe",
             2019,
             6.118
            ],
            [
             "Sub-Saharan Africa",
             2019,
             4.722
            ],
            [
             "Eastern Asia",
             2019,
             5.895
            ],
            [
             "Western Europe",
             2019,
             6.354
            ],
            [
             "Southern Asia",
             2019,
             4.366
            ],
            [
             "Sub-Saharan Africa",
             2019,
             4.212
            ],
            [
             "Western Europe",
             2019,
             7.343
            ],
            [
             "Western Europe",
             2019,
             7.48
            ],
            [
             "Middle East and Northern Africa",
             2019,
             3.462
            ],
            [
             "Eastern Asia",
             2019,
             6.446
            ],
            [
             "Central and Eastern Europe",
             2019,
             5.467
            ],
            [
             "Sub-Saharan Africa",
             2019,
             3.231
            ],
            [
             "Southeastern Asia",
             2019,
             6.008
            ],
            [
             "Sub-Saharan Africa",
             2019,
             4.085
            ],
            [
             "Middle East and Northern Africa",
             2019,
             4.461
            ],
            [
             "Middle East and Northern Africa",
             2019,
             5.373
            ],
            [
             "Central and Eastern Europe",
             2019,
             5.247
            ],
            [
             "Sub-Saharan Africa",
             2019,
             4.189
            ],
            [
             "Central and Eastern Europe",
             2019,
             4.332
            ],
            [
             "Middle East and Northern Africa",
             2019,
             6.825
            ],
            [
             "Western Europe",
             2019,
             7.054
            ],
            [
             "North America",
             2019,
             6.892
            ],
            [
             "Latin America and Caribbean",
             2019,
             6.293
            ],
            [
             "Central and Eastern Europe",
             2019,
             6.174
            ],
            [
             "Latin America and Caribbean",
             2019,
             4.707
            ],
            [
             "Southeastern Asia",
             2019,
             5.175
            ],
            [
             "Middle East and Northern Africa",
             2019,
             3.38
            ],
            [
             "Sub-Saharan Africa",
             2019,
             4.107
            ],
            [
             "Sub-Saharan Africa",
             2019,
             3.663
            ]
           ],
           "geo": "geo",
           "hovertemplate": "<b>%{hovertext}</b><br><br>Year=%{customdata[1]}<br>Country=%{location}<br>Region=%{customdata[0]}<br>Average Happiness Score=%{z}<extra></extra>",
           "hovertext": [
            "Afghanistan",
            "Albania",
            "Algeria",
            "Argentina",
            "Armenia",
            "Australia",
            "Austria",
            "Azerbaijan",
            "Bahrain",
            "Bangladesh",
            "Belarus",
            "Belgium",
            "Benin",
            "Bhutan",
            "Bolivia",
            "Bosnia and Herzegovina",
            "Botswana",
            "Brazil",
            "Bulgaria",
            "Burkina Faso",
            "Burundi",
            "Cambodia",
            "Cameroon",
            "Canada",
            "Central African Republic",
            "Chad",
            "Chile",
            "China",
            "Colombia",
            "Comoros",
            "Congo (Brazzaville)",
            "Congo (Kinshasa)",
            "Costa Rica",
            "Croatia",
            "Cyprus",
            "Czech Republic",
            "Denmark",
            "Dominican Republic",
            "Ecuador",
            "Egypt",
            "El Salvador",
            "Estonia",
            "Ethiopia",
            "Finland",
            "France",
            "Gabon",
            "Georgia",
            "Germany",
            "Ghana",
            "Greece",
            "Guatemala",
            "Guinea",
            "Haiti",
            "Honduras",
            "Hong Kong",
            "Hungary",
            "Iceland",
            "India",
            "Indonesia",
            "Iran",
            "Iraq",
            "Ireland",
            "Israel",
            "Italy",
            "Ivory Coast",
            "Jamaica",
            "Japan",
            "Jordan",
            "Kazakhstan",
            "Kenya",
            "Kosovo",
            "Kuwait",
            "Kyrgyzstan",
            "Laos",
            "Latvia",
            "Lebanon",
            "Lesotho",
            "Liberia",
            "Libya",
            "Lithuania",
            "Luxembourg",
            "Madagascar",
            "Malawi",
            "Malaysia",
            "Mali",
            "Malta",
            "Mauritania",
            "Mauritius",
            "Mexico",
            "Moldova",
            "Mongolia",
            "Montenegro",
            "Morocco",
            "Mozambique",
            "Myanmar",
            "Nepal",
            "Netherlands",
            "New Zealand",
            "Nicaragua",
            "Niger",
            "Nigeria",
            "Norway",
            "Pakistan",
            "Palestinian Territories",
            "Panama",
            "Paraguay",
            "Peru",
            "Philippines",
            "Poland",
            "Portugal",
            "Qatar",
            "Romania",
            "Russia",
            "Rwanda",
            "Saudi Arabia",
            "Senegal",
            "Serbia",
            "Sierra Leone",
            "Singapore",
            "Slovakia",
            "Slovenia",
            "South Africa",
            "South Korea",
            "Spain",
            "Sri Lanka",
            "Swaziland",
            "Sweden",
            "Switzerland",
            "Syria",
            "Taiwan",
            "Tajikistan",
            "Tanzania",
            "Thailand",
            "Togo",
            "Tunisia",
            "Turkey",
            "Turkmenistan",
            "Uganda",
            "Ukraine",
            "United Arab Emirates",
            "United Kingdom",
            "United States",
            "Uruguay",
            "Uzbekistan",
            "Venezuela",
            "Vietnam",
            "Yemen",
            "Zambia",
            "Zimbabwe"
           ],
           "locationmode": "country names",
           "locations": [
            "Afghanistan",
            "Albania",
            "Algeria",
            "Argentina",
            "Armenia",
            "Australia",
            "Austria",
            "Azerbaijan",
            "Bahrain",
            "Bangladesh",
            "Belarus",
            "Belgium",
            "Benin",
            "Bhutan",
            "Bolivia",
            "Bosnia and Herzegovina",
            "Botswana",
            "Brazil",
            "Bulgaria",
            "Burkina Faso",
            "Burundi",
            "Cambodia",
            "Cameroon",
            "Canada",
            "Central African Republic",
            "Chad",
            "Chile",
            "China",
            "Colombia",
            "Comoros",
            "Congo (Brazzaville)",
            "Congo (Kinshasa)",
            "Costa Rica",
            "Croatia",
            "Cyprus",
            "Czech Republic",
            "Denmark",
            "Dominican Republic",
            "Ecuador",
            "Egypt",
            "El Salvador",
            "Estonia",
            "Ethiopia",
            "Finland",
            "France",
            "Gabon",
            "Georgia",
            "Germany",
            "Ghana",
            "Greece",
            "Guatemala",
            "Guinea",
            "Haiti",
            "Honduras",
            "Hong Kong",
            "Hungary",
            "Iceland",
            "India",
            "Indonesia",
            "Iran",
            "Iraq",
            "Ireland",
            "Israel",
            "Italy",
            "Ivory Coast",
            "Jamaica",
            "Japan",
            "Jordan",
            "Kazakhstan",
            "Kenya",
            "Kosovo",
            "Kuwait",
            "Kyrgyzstan",
            "Laos",
            "Latvia",
            "Lebanon",
            "Lesotho",
            "Liberia",
            "Libya",
            "Lithuania",
            "Luxembourg",
            "Madagascar",
            "Malawi",
            "Malaysia",
            "Mali",
            "Malta",
            "Mauritania",
            "Mauritius",
            "Mexico",
            "Moldova",
            "Mongolia",
            "Montenegro",
            "Morocco",
            "Mozambique",
            "Myanmar",
            "Nepal",
            "Netherlands",
            "New Zealand",
            "Nicaragua",
            "Niger",
            "Nigeria",
            "Norway",
            "Pakistan",
            "Palestinian Territories",
            "Panama",
            "Paraguay",
            "Peru",
            "Philippines",
            "Poland",
            "Portugal",
            "Qatar",
            "Romania",
            "Russia",
            "Rwanda",
            "Saudi Arabia",
            "Senegal",
            "Serbia",
            "Sierra Leone",
            "Singapore",
            "Slovakia",
            "Slovenia",
            "South Africa",
            "South Korea",
            "Spain",
            "Sri Lanka",
            "Swaziland",
            "Sweden",
            "Switzerland",
            "Syria",
            "Taiwan",
            "Tajikistan",
            "Tanzania",
            "Thailand",
            "Togo",
            "Tunisia",
            "Turkey",
            "Turkmenistan",
            "Uganda",
            "Ukraine",
            "United Arab Emirates",
            "United Kingdom",
            "United States",
            "Uruguay",
            "Uzbekistan",
            "Venezuela",
            "Vietnam",
            "Yemen",
            "Zambia",
            "Zimbabwe"
           ],
           "name": "",
           "type": "choropleth",
           "z": {
            "bdata": "ObTIdr6fCUDHSzeJQeASQPLSTWIQ2BRA8tJNYhBYGEAj2/l+ajwSQLbz/dR46RxAlkOLbOf7HECiRbbz/dQUQLKd76fGyxhAbef7qfHSEUCYbhKDwEoVQP7UeOkmsRtA1XjpJjGIE0CHFtnO91MUQARWDi2yHRdAJQaBlUOLFUCBlUOLbOcLQDMzMzMzMxlAJQaBlUMLFEAMAiuHFlkSQDMzMzMzMw5AzczMzMzMEkCTGARWDi0UQOkmMQisHB1ARIts5/upCEBmZmZmZmYRQC2yne+nxhlA3SQGgZXDFEAAAAAAAIAYQGIQWDm0yA9Ac2iR7Xw/E0B56SYxCKwRQF66SQwCqxxA7nw/NV66FUDJdr6fGi8YQJzEILByaBtAZmZmZmZmHkAzMzMzM7MVQOkmMQisHBhARIts5/upEEBQjZduEgMZQN9PjZdukhdAvp8aL90kEUD6fmq8dBMfQJHtfD81XhpAGQRWDi0yE0D6fmq8dBMSQHE9Ctej8BtAlkOLbOf7E0DZzvdT4yUVQFg5tMh2vhlAiUFg5dAiEkAtsp3vp8YMQHE9CtejcBdAuB6F61G4FUDVeOkmMQgXQGDl0CLb+R1Aj8L1KFwPEED4U+Olm8QUQP7UeOkmMRJAc2iR7Xy/EUAv3SQGgRUcQHWTGARWjhxAMQisHFrkGEAtsp3vp8YTQI/C9ShcjxdAJQaBlUOLF0A5tMh2vp8TQCPb+X5qPBdA8KfGSzcJEkBmZmZmZmYYQC/dJAaBFRhAJQaBlUMLFUDJdr6fGi8TQMP1KFyPwhdAfT81XrrJFEDRItv5fmoOQM3MzMzMzA9AmpmZmZkZFkB/arx0k5gYQFyPwvUoXBxAEFg5tMh2D0BI4XoUrkcLQEJg5dAiWxVAj8L1KFyPEUCBlUOLbOcaQPYoXI/C9RFAWmQ730+NF0DhehSuR2EaQARWDi2yHRZApHA9CtcjFUBkO99PjRcWQKJFtvP91BRAd76fGi/dEUBxPQrXo3ARQPT91HjpphNAwcqhRbbzHUDufD81XjodQOxRuB6FaxhAUI2XbhKDEkCPwvUoXA8VQJ7vp8ZLNx5A6SYxCKycFkBiEFg5tMgSQGIQWDm0SBlARrbz/dT4FkB9PzVeuskWQKAaL90khhZA7nw/NV66GEASg8DKocUWQOXQItv5fhlASOF6FK5HGEBkO99PjZcWQHnpJjEIrApAAAAAAACAGUDTTWIQWLkSQLbz/dR4aRZA5dAi2/l+EUA/NV66SQwZQJhuEoPAyhhARrbz/dR4GEAX2c73U+MSQBSuR+F6lBdA0SLb+X5qGUAQWDm0yHYRQAwCK4cW2RBArBxaZDtfHUDsUbgehesdQBkEVg4tsgtAYhBYObTIGUCR7Xw/Nd4VQAwCK4cW2QlA1XjpJjEIGEDXo3A9ClcQQPLSTWIQ2BFAy6FFtvN9FUCwcmiR7fwUQKjGSzeJwRBAhxbZzvdTEUDNzMzMzEwbQJ7vp8ZLNxxAxSCwcmiRG0B56SYxCCwZQBkEVg4tshhAhxbZzvfTEkAzMzMzM7MUQArXo3A9CgtAIbByaJFtEEDn+6nx0k0NQA==",
            "dtype": "f8"
           }
          }
         ],
         "name": "2019"
        }
       ],
       "layout": {
        "coloraxis": {
         "colorbar": {
          "title": {
           "text": "Average Happiness Score"
          }
         },
         "colorscale": [
          [
           0,
           "#FF0000"
          ],
          [
           0.5,
           "#FFFFFF"
          ],
          [
           1,
           "#0000FF"
          ]
         ]
        },
        "geo": {
         "center": {},
         "domain": {
          "x": [
           0,
           1
          ],
          "y": [
           0,
           1
          ]
         }
        },
        "height": 650,
        "legend": {
         "tracegroupgap": 0
        },
        "sliders": [
         {
          "active": 0,
          "currentvalue": {
           "prefix": "Year="
          },
          "len": 0.9,
          "pad": {
           "b": 10,
           "t": 60
          },
          "steps": [
           {
            "args": [
             [
              "2015"
             ],
             {
              "frame": {
               "duration": 0,
               "redraw": true
              },
              "fromcurrent": true,
              "mode": "immediate",
              "transition": {
               "duration": 0,
               "easing": "linear"
              }
             }
            ],
            "label": "2015",
            "method": "animate"
           },
           {
            "args": [
             [
              "2016"
             ],
             {
              "frame": {
               "duration": 0,
               "redraw": true
              },
              "fromcurrent": true,
              "mode": "immediate",
              "transition": {
               "duration": 0,
               "easing": "linear"
              }
             }
            ],
            "label": "2016",
            "method": "animate"
           },
           {
            "args": [
             [
              "2017"
             ],
             {
              "frame": {
               "duration": 0,
               "redraw": true
              },
              "fromcurrent": true,
              "mode": "immediate",
              "transition": {
               "duration": 0,
               "easing": "linear"
              }
             }
            ],
            "label": "2017",
            "method": "animate"
           },
           {
            "args": [
             [
              "2018"
             ],
             {
              "frame": {
               "duration": 0,
               "redraw": true
              },
              "fromcurrent": true,
              "mode": "immediate",
              "transition": {
               "duration": 0,
               "easing": "linear"
              }
             }
            ],
            "label": "2018",
            "method": "animate"
           },
           {
            "args": [
             [
              "2019"
             ],
             {
              "frame": {
               "duration": 0,
               "redraw": true
              },
              "fromcurrent": true,
              "mode": "immediate",
              "transition": {
               "duration": 0,
               "easing": "linear"
              }
             }
            ],
            "label": "2019",
            "method": "animate"
           }
          ],
          "x": 0.1,
          "xanchor": "left",
          "y": 0,
          "yanchor": "top"
         }
        ],
        "template": {
         "data": {
          "bar": [
           {
            "error_x": {
             "color": "#2a3f5f"
            },
            "error_y": {
             "color": "#2a3f5f"
            },
            "marker": {
             "line": {
              "color": "#E5ECF6",
              "width": 0.5
             },
             "pattern": {
              "fillmode": "overlay",
              "size": 10,
              "solidity": 0.2
             }
            },
            "type": "bar"
           }
          ],
          "barpolar": [
           {
            "marker": {
             "line": {
              "color": "#E5ECF6",
              "width": 0.5
             },
             "pattern": {
              "fillmode": "overlay",
              "size": 10,
              "solidity": 0.2
             }
            },
            "type": "barpolar"
           }
          ],
          "carpet": [
           {
            "aaxis": {
             "endlinecolor": "#2a3f5f",
             "gridcolor": "white",
             "linecolor": "white",
             "minorgridcolor": "white",
             "startlinecolor": "#2a3f5f"
            },
            "baxis": {
             "endlinecolor": "#2a3f5f",
             "gridcolor": "white",
             "linecolor": "white",
             "minorgridcolor": "white",
             "startlinecolor": "#2a3f5f"
            },
            "type": "carpet"
           }
          ],
          "choropleth": [
           {
            "colorbar": {
             "outlinewidth": 0,
             "ticks": ""
            },
            "type": "choropleth"
           }
          ],
          "contour": [
           {
            "colorbar": {
             "outlinewidth": 0,
             "ticks": ""
            },
            "colorscale": [
             [
              0,
              "#0d0887"
             ],
             [
              0.1111111111111111,
              "#46039f"
             ],
             [
              0.2222222222222222,
              "#7201a8"
             ],
             [
              0.3333333333333333,
              "#9c179e"
             ],
             [
              0.4444444444444444,
              "#bd3786"
             ],
             [
              0.5555555555555556,
              "#d8576b"
             ],
             [
              0.6666666666666666,
              "#ed7953"
             ],
             [
              0.7777777777777778,
              "#fb9f3a"
             ],
             [
              0.8888888888888888,
              "#fdca26"
             ],
             [
              1,
              "#f0f921"
             ]
            ],
            "type": "contour"
           }
          ],
          "contourcarpet": [
           {
            "colorbar": {
             "outlinewidth": 0,
             "ticks": ""
            },
            "type": "contourcarpet"
           }
          ],
          "heatmap": [
           {
            "colorbar": {
             "outlinewidth": 0,
             "ticks": ""
            },
            "colorscale": [
             [
              0,
              "#0d0887"
             ],
             [
              0.1111111111111111,
              "#46039f"
             ],
             [
              0.2222222222222222,
              "#7201a8"
             ],
             [
              0.3333333333333333,
              "#9c179e"
             ],
             [
              0.4444444444444444,
              "#bd3786"
             ],
             [
              0.5555555555555556,
              "#d8576b"
             ],
             [
              0.6666666666666666,
              "#ed7953"
             ],
             [
              0.7777777777777778,
              "#fb9f3a"
             ],
             [
              0.8888888888888888,
              "#fdca26"
             ],
             [
              1,
              "#f0f921"
             ]
            ],
            "type": "heatmap"
           }
          ],
          "histogram": [
           {
            "marker": {
             "pattern": {
              "fillmode": "overlay",
              "size": 10,
              "solidity": 0.2
             }
            },
            "type": "histogram"
           }
          ],
          "histogram2d": [
           {
            "colorbar": {
             "outlinewidth": 0,
             "ticks": ""
            },
            "colorscale": [
             [
              0,
              "#0d0887"
             ],
             [
              0.1111111111111111,
              "#46039f"
             ],
             [
              0.2222222222222222,
              "#7201a8"
             ],
             [
              0.3333333333333333,
              "#9c179e"
             ],
             [
              0.4444444444444444,
              "#bd3786"
             ],
             [
              0.5555555555555556,
              "#d8576b"
             ],
             [
              0.6666666666666666,
              "#ed7953"
             ],
             [
              0.7777777777777778,
              "#fb9f3a"
             ],
             [
              0.8888888888888888,
              "#fdca26"
             ],
             [
              1,
              "#f0f921"
             ]
            ],
            "type": "histogram2d"
           }
          ],
          "histogram2dcontour": [
           {
            "colorbar": {
             "outlinewidth": 0,
             "ticks": ""
            },
            "colorscale": [
             [
              0,
              "#0d0887"
             ],
             [
              0.1111111111111111,
              "#46039f"
             ],
             [
              0.2222222222222222,
              "#7201a8"
             ],
             [
              0.3333333333333333,
              "#9c179e"
             ],
             [
              0.4444444444444444,
              "#bd3786"
             ],
             [
              0.5555555555555556,
              "#d8576b"
             ],
             [
              0.6666666666666666,
              "#ed7953"
             ],
             [
              0.7777777777777778,
              "#fb9f3a"
             ],
             [
              0.8888888888888888,
              "#fdca26"
             ],
             [
              1,
              "#f0f921"
             ]
            ],
            "type": "histogram2dcontour"
           }
          ],
          "mesh3d": [
           {
            "colorbar": {
             "outlinewidth": 0,
             "ticks": ""
            },
            "type": "mesh3d"
           }
          ],
          "parcoords": [
           {
            "line": {
             "colorbar": {
              "outlinewidth": 0,
              "ticks": ""
             }
            },
            "type": "parcoords"
           }
          ],
          "pie": [
           {
            "automargin": true,
            "type": "pie"
           }
          ],
          "scatter": [
           {
            "fillpattern": {
             "fillmode": "overlay",
             "size": 10,
             "solidity": 0.2
            },
            "type": "scatter"
           }
          ],
          "scatter3d": [
           {
            "line": {
             "colorbar": {
              "outlinewidth": 0,
              "ticks": ""
             }
            },
            "marker": {
             "colorbar": {
              "outlinewidth": 0,
              "ticks": ""
             }
            },
            "type": "scatter3d"
           }
          ],
          "scattercarpet": [
           {
            "marker": {
             "colorbar": {
              "outlinewidth": 0,
              "ticks": ""
             }
            },
            "type": "scattercarpet"
           }
          ],
          "scattergeo": [
           {
            "marker": {
             "colorbar": {
              "outlinewidth": 0,
              "ticks": ""
             }
            },
            "type": "scattergeo"
           }
          ],
          "scattergl": [
           {
            "marker": {
             "colorbar": {
              "outlinewidth": 0,
              "ticks": ""
             }
            },
            "type": "scattergl"
           }
          ],
          "scattermap": [
           {
            "marker": {
             "colorbar": {
              "outlinewidth": 0,
              "ticks": ""
             }
            },
            "type": "scattermap"
           }
          ],
          "scattermapbox": [
           {
            "marker": {
             "colorbar": {
              "outlinewidth": 0,
              "ticks": ""
             }
            },
            "type": "scattermapbox"
           }
          ],
          "scatterpolar": [
           {
            "marker": {
             "colorbar": {
              "outlinewidth": 0,
              "ticks": ""
             }
            },
            "type": "scatterpolar"
           }
          ],
          "scatterpolargl": [
           {
            "marker": {
             "colorbar": {
              "outlinewidth": 0,
              "ticks": ""
             }
            },
            "type": "scatterpolargl"
           }
          ],
          "scatterternary": [
           {
            "marker": {
             "colorbar": {
              "outlinewidth": 0,
              "ticks": ""
             }
            },
            "type": "scatterternary"
           }
          ],
          "surface": [
           {
            "colorbar": {
             "outlinewidth": 0,
             "ticks": ""
            },
            "colorscale": [
             [
              0,
              "#0d0887"
             ],
             [
              0.1111111111111111,
              "#46039f"
             ],
             [
              0.2222222222222222,
              "#7201a8"
             ],
             [
              0.3333333333333333,
              "#9c179e"
             ],
             [
              0.4444444444444444,
              "#bd3786"
             ],
             [
              0.5555555555555556,
              "#d8576b"
             ],
             [
              0.6666666666666666,
              "#ed7953"
             ],
             [
              0.7777777777777778,
              "#fb9f3a"
             ],
             [
              0.8888888888888888,
              "#fdca26"
             ],
             [
              1,
              "#f0f921"
             ]
            ],
            "type": "surface"
           }
          ],
          "table": [
           {
            "cells": {
             "fill": {
              "color": "#EBF0F8"
             },
             "line": {
              "color": "white"
             }
            },
            "header": {
             "fill": {
              "color": "#C8D4E3"
             },
             "line": {
              "color": "white"
             }
            },
            "type": "table"
           }
          ]
         },
         "layout": {
          "annotationdefaults": {
           "arrowcolor": "#2a3f5f",
           "arrowhead": 0,
           "arrowwidth": 1
          },
          "autotypenumbers": "strict",
          "coloraxis": {
           "colorbar": {
            "outlinewidth": 0,
            "ticks": ""
           }
          },
          "colorscale": {
           "diverging": [
            [
             0,
             "#8e0152"
            ],
            [
             0.1,
             "#c51b7d"
            ],
            [
             0.2,
             "#de77ae"
            ],
            [
             0.3,
             "#f1b6da"
            ],
            [
             0.4,
             "#fde0ef"
            ],
            [
             0.5,
             "#f7f7f7"
            ],
            [
             0.6,
             "#e6f5d0"
            ],
            [
             0.7,
             "#b8e186"
            ],
            [
             0.8,
             "#7fbc41"
            ],
            [
             0.9,
             "#4d9221"
            ],
            [
             1,
             "#276419"
            ]
           ],
           "sequential": [
            [
             0,
             "#0d0887"
            ],
            [
             0.1111111111111111,
             "#46039f"
            ],
            [
             0.2222222222222222,
             "#7201a8"
            ],
            [
             0.3333333333333333,
             "#9c179e"
            ],
            [
             0.4444444444444444,
             "#bd3786"
            ],
            [
             0.5555555555555556,
             "#d8576b"
            ],
            [
             0.6666666666666666,
             "#ed7953"
            ],
            [
             0.7777777777777778,
             "#fb9f3a"
            ],
            [
             0.8888888888888888,
             "#fdca26"
            ],
            [
             1,
             "#f0f921"
            ]
           ],
           "sequentialminus": [
            [
             0,
             "#0d0887"
            ],
            [
             0.1111111111111111,
             "#46039f"
            ],
            [
             0.2222222222222222,
             "#7201a8"
            ],
            [
             0.3333333333333333,
             "#9c179e"
            ],
            [
             0.4444444444444444,
             "#bd3786"
            ],
            [
             0.5555555555555556,
             "#d8576b"
            ],
            [
             0.6666666666666666,
             "#ed7953"
            ],
            [
             0.7777777777777778,
             "#fb9f3a"
            ],
            [
             0.8888888888888888,
             "#fdca26"
            ],
            [
             1,
             "#f0f921"
            ]
           ]
          },
          "colorway": [
           "#636efa",
           "#EF553B",
           "#00cc96",
           "#ab63fa",
           "#FFA15A",
           "#19d3f3",
           "#FF6692",
           "#B6E880",
           "#FF97FF",
           "#FECB52"
          ],
          "font": {
           "color": "#2a3f5f"
          },
          "geo": {
           "bgcolor": "white",
           "lakecolor": "white",
           "landcolor": "#E5ECF6",
           "showlakes": true,
           "showland": true,
           "subunitcolor": "white"
          },
          "hoverlabel": {
           "align": "left"
          },
          "hovermode": "closest",
          "mapbox": {
           "style": "light"
          },
          "paper_bgcolor": "white",
          "plot_bgcolor": "#E5ECF6",
          "polar": {
           "angularaxis": {
            "gridcolor": "white",
            "linecolor": "white",
            "ticks": ""
           },
           "bgcolor": "#E5ECF6",
           "radialaxis": {
            "gridcolor": "white",
            "linecolor": "white",
            "ticks": ""
           }
          },
          "scene": {
           "xaxis": {
            "backgroundcolor": "#E5ECF6",
            "gridcolor": "white",
            "gridwidth": 2,
            "linecolor": "white",
            "showbackground": true,
            "ticks": "",
            "zerolinecolor": "white"
           },
           "yaxis": {
            "backgroundcolor": "#E5ECF6",
            "gridcolor": "white",
            "gridwidth": 2,
            "linecolor": "white",
            "showbackground": true,
            "ticks": "",
            "zerolinecolor": "white"
           },
           "zaxis": {
            "backgroundcolor": "#E5ECF6",
            "gridcolor": "white",
            "gridwidth": 2,
            "linecolor": "white",
            "showbackground": true,
            "ticks": "",
            "zerolinecolor": "white"
           }
          },
          "shapedefaults": {
           "line": {
            "color": "#2a3f5f"
           }
          },
          "ternary": {
           "aaxis": {
            "gridcolor": "white",
            "linecolor": "white",
            "ticks": ""
           },
           "baxis": {
            "gridcolor": "white",
            "linecolor": "white",
            "ticks": ""
           },
           "bgcolor": "#E5ECF6",
           "caxis": {
            "gridcolor": "white",
            "linecolor": "white",
            "ticks": ""
           }
          },
          "title": {
           "x": 0.05
          },
          "xaxis": {
           "automargin": true,
           "gridcolor": "white",
           "linecolor": "white",
           "ticks": "",
           "title": {
            "standoff": 15
           },
           "zerolinecolor": "white",
           "zerolinewidth": 2
          },
          "yaxis": {
           "automargin": true,
           "gridcolor": "white",
           "linecolor": "white",
           "ticks": "",
           "title": {
            "standoff": 15
           },
           "zerolinecolor": "white",
           "zerolinewidth": 2
          }
         }
        },
        "title": {
         "text": "How Do Average Happiness Scores Differ Across Countries (2015-2019)?"
        },
        "updatemenus": [
         {
          "buttons": [
           {
            "args": [
             null,
             {
              "frame": {
               "duration": 500,
               "redraw": true
              },
              "fromcurrent": true,
              "mode": "immediate",
              "transition": {
               "duration": 500,
               "easing": "linear"
              }
             }
            ],
            "label": "&#9654;",
            "method": "animate"
           },
           {
            "args": [
             [
              null
             ],
             {
              "frame": {
               "duration": 0,
               "redraw": true
              },
              "fromcurrent": true,
              "mode": "immediate",
              "transition": {
               "duration": 0,
               "easing": "linear"
              }
             }
            ],
            "label": "&#9724;",
            "method": "animate"
           }
          ],
          "direction": "left",
          "pad": {
           "r": 10,
           "t": 70
          },
          "showactive": false,
          "type": "buttons",
          "x": 0.1,
          "xanchor": "right",
          "y": 0,
          "yanchor": "top"
         }
        ],
        "width": 1300
       }
      }
     },
     "metadata": {},
     "output_type": "display_data"
    }
   ],
   "source": [
    "average_happiness_per_country_year = data.groupby(['Country', 'Region', 'Year'])['Happiness_Score'].mean().reset_index()# Calculating the average happiness score for each country and year\n",
    "\n",
    "# Custom color scale\n",
    "colorscale_custom = [\n",
    "    [0.0, '#FF0000'],  # Red\n",
    "    [0.5, '#FFFFFF'],  # White (neutral midpoint)\n",
    "    [1.0, '#0000FF']   # Blue\n",
    "]\n",
    "\n",
    "fig_map = px.choropleth(average_happiness_per_country_year, locations='Country', locationmode='country names',\n",
    "                        color='Happiness_Score', hover_name='Country', hover_data=['Region', 'Year', 'Happiness_Score'],\n",
    "                        animation_frame='Year',\n",
    "                        title='How Do Average Happiness Scores Differ Across Countries (2015-2019)?',\n",
    "                        labels={'Happiness_Score': 'Average Happiness Score'},\n",
    "                        color_continuous_scale=colorscale_custom)# interactive choropleth map  with custom color scale\n",
    "\n",
    "fig_map.update_layout(height=650, width=1300)#  adjusting width and height\n",
    "\n",
    "fig_map.show()\n"
   ]
  },
  {
   "cell_type": "markdown",
   "metadata": {},
   "source": [
    "* From the plot above, we observe that countries in North America, Latin America and the Caribbean, Australia and New Zealand, and Western Europe consistently show higher values over the years compared to countries in other regions. The sole exception within the Latin America and Caribbean region, where a decrease in value occurred over the five-year period, is Venezuela; notably, its color on the plot changed from blue to red during this time."
   ]
  },
  {
   "cell_type": "markdown",
   "metadata": {},
   "source": [
    "* In Sub-Saharan Africa, the happiness scores of many countries sharply decreased over the five-year period. This trend is noticeable in countries such as the Central African Republic, Tanzania, Zimbabwe, Botswana, and Malawi, where their colors turned dark red on the plot. Similarly, Syria and Afghanistan started with very low happiness scores in 2015, which remained consistently low over the subsequent five years, indicated by their persistent dark red color. Yemen, initially depicted in blue in 2015, experienced a significant decline in happiness score over the same period, as evidenced by its change to dark red"
   ]
  },
  {
   "cell_type": "markdown",
   "metadata": {},
   "source": [
    "* Countries in Central and Eastern Europe maintained an average happiness score over the five years, as indicated by their consistently light blue or white colors on the plot throughout the period.\""
   ]
  },
  {
   "cell_type": "markdown",
   "metadata": {},
   "source": [
    "# <b>Visualization 3: Which Countries Show the Highest and Lowest Average Happiness Scores Over the Years?</b>"
   ]
  },
  {
   "cell_type": "code",
   "execution_count": 17,
   "metadata": {},
   "outputs": [
    {
     "data": {
      "application/vnd.plotly.v1+json": {
       "config": {
        "plotlyServerURL": "https://plot.ly"
       },
       "data": [
        {
         "hovertemplate": "Year=2015<br>Average Happiness Score=%{marker.color}<br>Country=%{y}<extra></extra>",
         "legendgroup": "",
         "marker": {
          "color": {
           "bdata": "DAIrhxZZHkBYObTIdj4eQM/3U+OlGx5ASgwCK4cWHkBoke18P7UdQLgehetRuAtAuB6F61G4CkA/NV66SQwIQD0K16NwPQdAg8DKoUW2BkA=",
           "dtype": "f8"
          },
          "coloraxis": "coloraxis",
          "pattern": {
           "shape": ""
          }
         },
         "name": "",
         "orientation": "h",
         "showlegend": false,
         "textposition": "auto",
         "type": "bar",
         "x": {
          "bdata": "DAIrhxZZHkBYObTIdj4eQM/3U+OlGx5ASgwCK4cWHkBoke18P7UdQLgehetRuAtAuB6F61G4CkA/NV66SQwIQD0K16NwPQdAg8DKoUW2BkA=",
          "dtype": "f8"
         },
         "xaxis": "x",
         "y": [
          "Switzerland",
          "Iceland",
          "Denmark",
          "Norway",
          "Canada",
          "Rwanda",
          "Benin",
          "Syria",
          "Burundi",
          "Togo"
         ],
         "yaxis": "y"
        }
       ],
       "frames": [
        {
         "data": [
          {
           "hovertemplate": "Year=2015<br>Average Happiness Score=%{marker.color}<br>Country=%{y}<extra></extra>",
           "legendgroup": "",
           "marker": {
            "color": {
             "bdata": "DAIrhxZZHkBYObTIdj4eQM/3U+OlGx5ASgwCK4cWHkBoke18P7UdQLgehetRuAtAuB6F61G4CkA/NV66SQwIQD0K16NwPQdAg8DKoUW2BkA=",
             "dtype": "f8"
            },
            "coloraxis": "coloraxis",
            "pattern": {
             "shape": ""
            }
           },
           "name": "",
           "orientation": "h",
           "showlegend": false,
           "textposition": "auto",
           "type": "bar",
           "x": {
            "bdata": "DAIrhxZZHkBYObTIdj4eQM/3U+OlGx5ASgwCK4cWHkBoke18P7UdQLgehetRuAtAuB6F61G4CkA/NV66SQwIQD0K16NwPQdAg8DKoUW2BkA=",
            "dtype": "f8"
           },
           "xaxis": "x",
           "y": [
            "Switzerland",
            "Iceland",
            "Denmark",
            "Norway",
            "Canada",
            "Rwanda",
            "Benin",
            "Syria",
            "Burundi",
            "Togo"
           ],
           "yaxis": "y"
          }
         ],
         "name": "2015"
        },
        {
         "data": [
          {
           "hovertemplate": "Year=2016<br>Average Happiness Score=%{marker.color}<br>Country=%{y}<extra></extra>",
           "legendgroup": "",
           "marker": {
            "color": {
             "bdata": "tMh2vp8aHkDwp8ZLNwkeQBsv3SQGAR5Ay6FFtvP9HUD0/dR46aYdQKwcWmQ73wtA4XoUrkfhCkAGgZVDi2wKQFpkO99PjQhAPQrXo3A9B0A=",
             "dtype": "f8"
            },
            "coloraxis": "coloraxis",
            "pattern": {
             "shape": ""
            }
           },
           "name": "",
           "orientation": "h",
           "showlegend": false,
           "textposition": "auto",
           "type": "bar",
           "x": {
            "bdata": "tMh2vp8aHkDwp8ZLNwkeQBsv3SQGAR5Ay6FFtvP9HUD0/dR46aYdQKwcWmQ73wtA4XoUrkfhCkAGgZVDi2wKQFpkO99PjQhAPQrXo3A9B0A=",
            "dtype": "f8"
           },
           "xaxis": "x",
           "y": [
            "Denmark",
            "Switzerland",
            "Iceland",
            "Norway",
            "Finland",
            "Benin",
            "Afghanistan",
            "Togo",
            "Syria",
            "Burundi"
           ],
           "yaxis": "y"
          }
         ],
         "name": "2016"
        },
        {
         "data": [
          {
           "hovertemplate": "Year=2017<br>Average Happiness Score=%{marker.color}<br>Country=%{y}<extra></extra>",
           "legendgroup": "",
           "marker": {
            "color": {
             "bdata": "/v//X+MlHkADAAAghxYeQAQAAKAYBB5AAAAAINv5HUACAACAQeAdQP3//5+bxAtACAAAAC2yC0AIAACAwMoKQP///59wPQdA9///n0OLBUA=",
             "dtype": "f8"
            },
            "coloraxis": "coloraxis",
            "pattern": {
             "shape": ""
            }
           },
           "name": "",
           "orientation": "h",
           "showlegend": false,
           "textposition": "auto",
           "type": "bar",
           "x": {
            "bdata": "/v//X+MlHkADAAAghxYeQAQAAKAYBB5AAAAAINv5HUACAACAQeAdQP3//5+bxAtACAAAAC2yC0AIAACAwMoKQP///59wPQdA9///n0OLBUA=",
            "dtype": "f8"
           },
           "xaxis": "x",
           "y": [
            "Norway",
            "Denmark",
            "Iceland",
            "Switzerland",
            "Finland",
            "Rwanda",
            "Syria",
            "Tanzania",
            "Burundi",
            "Central African Republic"
           ],
           "yaxis": "y"
          }
         ],
         "name": "2017"
        },
        {
         "data": [
          {
           "hovertemplate": "Year=2018<br>Average Happiness Score=%{marker.color}<br>Country=%{y}<extra></extra>",
           "legendgroup": "",
           "marker": {
            "color": {
             "bdata": "ukkMAiuHHkDHSzeJQWAeQLgehetROB5AexSuR+H6HUCmm8QgsPIdQNejcD0K1wpABoGVQ4tsCkDVeOkmMQgKQESLbOf7qQhAPQrXo3A9B0A=",
             "dtype": "f8"
            },
            "coloraxis": "coloraxis",
            "pattern": {
             "shape": ""
            }
           },
           "name": "",
           "orientation": "h",
           "showlegend": false,
           "textposition": "auto",
           "type": "bar",
           "x": {
            "bdata": "ukkMAiuHHkDHSzeJQWAeQLgehetROB5AexSuR+H6HUCmm8QgsPIdQNejcD0K1wpABoGVQ4tsCkDVeOkmMQgKQESLbOf7qQhAPQrXo3A9B0A=",
            "dtype": "f8"
           },
           "xaxis": "x",
           "y": [
            "Finland",
            "Norway",
            "Denmark",
            "Iceland",
            "Switzerland",
            "Yemen",
            "Tanzania",
            "South Sudan",
            "Central African Republic",
            "Burundi"
           ],
           "yaxis": "y"
          }
         ],
         "name": "2018"
        },
        {
         "data": [
          {
           "hovertemplate": "Year=2019<br>Average Happiness Score=%{marker.color}<br>Country=%{y}<extra></extra>",
           "legendgroup": "",
           "marker": {
            "color": {
             "bdata": "+n5qvHQTH0BmZmZmZmYeQJ7vp8ZLNx5AYOXQItv5HUDByqFFtvMdQHnpJjEIrApADAIrhxbZCUA5tMh2vp8JQESLbOf7qQhAbef7qfHSBkA=",
             "dtype": "f8"
            },
            "coloraxis": "coloraxis",
            "pattern": {
             "shape": ""
            }
           },
           "name": "",
           "orientation": "h",
           "showlegend": false,
           "textposition": "auto",
           "type": "bar",
           "x": {
            "bdata": "+n5qvHQTH0BmZmZmZmYeQJ7vp8ZLNx5AYOXQItv5HUDByqFFtvMdQHnpJjEIrApADAIrhxbZCUA5tMh2vp8JQESLbOf7qQhAbef7qfHSBkA=",
            "dtype": "f8"
           },
           "xaxis": "x",
           "y": [
            "Finland",
            "Denmark",
            "Norway",
            "Iceland",
            "Netherlands",
            "Rwanda",
            "Tanzania",
            "Afghanistan",
            "Central African Republic",
            "South Sudan"
           ],
           "yaxis": "y"
          }
         ],
         "name": "2019"
        }
       ],
       "layout": {
        "barmode": "relative",
        "coloraxis": {
         "colorbar": {
          "title": {
           "text": "Average Happiness Score"
          }
         },
         "colorscale": [
          [
           0,
           "rgb(103,0,31)"
          ],
          [
           0.1,
           "rgb(178,24,43)"
          ],
          [
           0.2,
           "rgb(214,96,77)"
          ],
          [
           0.3,
           "rgb(244,165,130)"
          ],
          [
           0.4,
           "rgb(253,219,199)"
          ],
          [
           0.5,
           "rgb(247,247,247)"
          ],
          [
           0.6,
           "rgb(209,229,240)"
          ],
          [
           0.7,
           "rgb(146,197,222)"
          ],
          [
           0.8,
           "rgb(67,147,195)"
          ],
          [
           0.9,
           "rgb(33,102,172)"
          ],
          [
           1,
           "rgb(5,48,97)"
          ]
         ]
        },
        "height": 600,
        "legend": {
         "tracegroupgap": 0
        },
        "sliders": [
         {
          "active": 0,
          "currentvalue": {
           "prefix": "Year="
          },
          "len": 0.9,
          "pad": {
           "b": 10,
           "t": 60
          },
          "steps": [
           {
            "args": [
             [
              "2015"
             ],
             {
              "frame": {
               "duration": 0,
               "redraw": true
              },
              "fromcurrent": true,
              "mode": "immediate",
              "transition": {
               "duration": 0,
               "easing": "linear"
              }
             }
            ],
            "label": "2015",
            "method": "animate"
           },
           {
            "args": [
             [
              "2016"
             ],
             {
              "frame": {
               "duration": 0,
               "redraw": true
              },
              "fromcurrent": true,
              "mode": "immediate",
              "transition": {
               "duration": 0,
               "easing": "linear"
              }
             }
            ],
            "label": "2016",
            "method": "animate"
           },
           {
            "args": [
             [
              "2017"
             ],
             {
              "frame": {
               "duration": 0,
               "redraw": true
              },
              "fromcurrent": true,
              "mode": "immediate",
              "transition": {
               "duration": 0,
               "easing": "linear"
              }
             }
            ],
            "label": "2017",
            "method": "animate"
           },
           {
            "args": [
             [
              "2018"
             ],
             {
              "frame": {
               "duration": 0,
               "redraw": true
              },
              "fromcurrent": true,
              "mode": "immediate",
              "transition": {
               "duration": 0,
               "easing": "linear"
              }
             }
            ],
            "label": "2018",
            "method": "animate"
           },
           {
            "args": [
             [
              "2019"
             ],
             {
              "frame": {
               "duration": 0,
               "redraw": true
              },
              "fromcurrent": true,
              "mode": "immediate",
              "transition": {
               "duration": 0,
               "easing": "linear"
              }
             }
            ],
            "label": "2019",
            "method": "animate"
           }
          ],
          "x": 0.1,
          "xanchor": "left",
          "y": 0,
          "yanchor": "top"
         }
        ],
        "template": {
         "data": {
          "bar": [
           {
            "error_x": {
             "color": "#2a3f5f"
            },
            "error_y": {
             "color": "#2a3f5f"
            },
            "marker": {
             "line": {
              "color": "#E5ECF6",
              "width": 0.5
             },
             "pattern": {
              "fillmode": "overlay",
              "size": 10,
              "solidity": 0.2
             }
            },
            "type": "bar"
           }
          ],
          "barpolar": [
           {
            "marker": {
             "line": {
              "color": "#E5ECF6",
              "width": 0.5
             },
             "pattern": {
              "fillmode": "overlay",
              "size": 10,
              "solidity": 0.2
             }
            },
            "type": "barpolar"
           }
          ],
          "carpet": [
           {
            "aaxis": {
             "endlinecolor": "#2a3f5f",
             "gridcolor": "white",
             "linecolor": "white",
             "minorgridcolor": "white",
             "startlinecolor": "#2a3f5f"
            },
            "baxis": {
             "endlinecolor": "#2a3f5f",
             "gridcolor": "white",
             "linecolor": "white",
             "minorgridcolor": "white",
             "startlinecolor": "#2a3f5f"
            },
            "type": "carpet"
           }
          ],
          "choropleth": [
           {
            "colorbar": {
             "outlinewidth": 0,
             "ticks": ""
            },
            "type": "choropleth"
           }
          ],
          "contour": [
           {
            "colorbar": {
             "outlinewidth": 0,
             "ticks": ""
            },
            "colorscale": [
             [
              0,
              "#0d0887"
             ],
             [
              0.1111111111111111,
              "#46039f"
             ],
             [
              0.2222222222222222,
              "#7201a8"
             ],
             [
              0.3333333333333333,
              "#9c179e"
             ],
             [
              0.4444444444444444,
              "#bd3786"
             ],
             [
              0.5555555555555556,
              "#d8576b"
             ],
             [
              0.6666666666666666,
              "#ed7953"
             ],
             [
              0.7777777777777778,
              "#fb9f3a"
             ],
             [
              0.8888888888888888,
              "#fdca26"
             ],
             [
              1,
              "#f0f921"
             ]
            ],
            "type": "contour"
           }
          ],
          "contourcarpet": [
           {
            "colorbar": {
             "outlinewidth": 0,
             "ticks": ""
            },
            "type": "contourcarpet"
           }
          ],
          "heatmap": [
           {
            "colorbar": {
             "outlinewidth": 0,
             "ticks": ""
            },
            "colorscale": [
             [
              0,
              "#0d0887"
             ],
             [
              0.1111111111111111,
              "#46039f"
             ],
             [
              0.2222222222222222,
              "#7201a8"
             ],
             [
              0.3333333333333333,
              "#9c179e"
             ],
             [
              0.4444444444444444,
              "#bd3786"
             ],
             [
              0.5555555555555556,
              "#d8576b"
             ],
             [
              0.6666666666666666,
              "#ed7953"
             ],
             [
              0.7777777777777778,
              "#fb9f3a"
             ],
             [
              0.8888888888888888,
              "#fdca26"
             ],
             [
              1,
              "#f0f921"
             ]
            ],
            "type": "heatmap"
           }
          ],
          "histogram": [
           {
            "marker": {
             "pattern": {
              "fillmode": "overlay",
              "size": 10,
              "solidity": 0.2
             }
            },
            "type": "histogram"
           }
          ],
          "histogram2d": [
           {
            "colorbar": {
             "outlinewidth": 0,
             "ticks": ""
            },
            "colorscale": [
             [
              0,
              "#0d0887"
             ],
             [
              0.1111111111111111,
              "#46039f"
             ],
             [
              0.2222222222222222,
              "#7201a8"
             ],
             [
              0.3333333333333333,
              "#9c179e"
             ],
             [
              0.4444444444444444,
              "#bd3786"
             ],
             [
              0.5555555555555556,
              "#d8576b"
             ],
             [
              0.6666666666666666,
              "#ed7953"
             ],
             [
              0.7777777777777778,
              "#fb9f3a"
             ],
             [
              0.8888888888888888,
              "#fdca26"
             ],
             [
              1,
              "#f0f921"
             ]
            ],
            "type": "histogram2d"
           }
          ],
          "histogram2dcontour": [
           {
            "colorbar": {
             "outlinewidth": 0,
             "ticks": ""
            },
            "colorscale": [
             [
              0,
              "#0d0887"
             ],
             [
              0.1111111111111111,
              "#46039f"
             ],
             [
              0.2222222222222222,
              "#7201a8"
             ],
             [
              0.3333333333333333,
              "#9c179e"
             ],
             [
              0.4444444444444444,
              "#bd3786"
             ],
             [
              0.5555555555555556,
              "#d8576b"
             ],
             [
              0.6666666666666666,
              "#ed7953"
             ],
             [
              0.7777777777777778,
              "#fb9f3a"
             ],
             [
              0.8888888888888888,
              "#fdca26"
             ],
             [
              1,
              "#f0f921"
             ]
            ],
            "type": "histogram2dcontour"
           }
          ],
          "mesh3d": [
           {
            "colorbar": {
             "outlinewidth": 0,
             "ticks": ""
            },
            "type": "mesh3d"
           }
          ],
          "parcoords": [
           {
            "line": {
             "colorbar": {
              "outlinewidth": 0,
              "ticks": ""
             }
            },
            "type": "parcoords"
           }
          ],
          "pie": [
           {
            "automargin": true,
            "type": "pie"
           }
          ],
          "scatter": [
           {
            "fillpattern": {
             "fillmode": "overlay",
             "size": 10,
             "solidity": 0.2
            },
            "type": "scatter"
           }
          ],
          "scatter3d": [
           {
            "line": {
             "colorbar": {
              "outlinewidth": 0,
              "ticks": ""
             }
            },
            "marker": {
             "colorbar": {
              "outlinewidth": 0,
              "ticks": ""
             }
            },
            "type": "scatter3d"
           }
          ],
          "scattercarpet": [
           {
            "marker": {
             "colorbar": {
              "outlinewidth": 0,
              "ticks": ""
             }
            },
            "type": "scattercarpet"
           }
          ],
          "scattergeo": [
           {
            "marker": {
             "colorbar": {
              "outlinewidth": 0,
              "ticks": ""
             }
            },
            "type": "scattergeo"
           }
          ],
          "scattergl": [
           {
            "marker": {
             "colorbar": {
              "outlinewidth": 0,
              "ticks": ""
             }
            },
            "type": "scattergl"
           }
          ],
          "scattermap": [
           {
            "marker": {
             "colorbar": {
              "outlinewidth": 0,
              "ticks": ""
             }
            },
            "type": "scattermap"
           }
          ],
          "scattermapbox": [
           {
            "marker": {
             "colorbar": {
              "outlinewidth": 0,
              "ticks": ""
             }
            },
            "type": "scattermapbox"
           }
          ],
          "scatterpolar": [
           {
            "marker": {
             "colorbar": {
              "outlinewidth": 0,
              "ticks": ""
             }
            },
            "type": "scatterpolar"
           }
          ],
          "scatterpolargl": [
           {
            "marker": {
             "colorbar": {
              "outlinewidth": 0,
              "ticks": ""
             }
            },
            "type": "scatterpolargl"
           }
          ],
          "scatterternary": [
           {
            "marker": {
             "colorbar": {
              "outlinewidth": 0,
              "ticks": ""
             }
            },
            "type": "scatterternary"
           }
          ],
          "surface": [
           {
            "colorbar": {
             "outlinewidth": 0,
             "ticks": ""
            },
            "colorscale": [
             [
              0,
              "#0d0887"
             ],
             [
              0.1111111111111111,
              "#46039f"
             ],
             [
              0.2222222222222222,
              "#7201a8"
             ],
             [
              0.3333333333333333,
              "#9c179e"
             ],
             [
              0.4444444444444444,
              "#bd3786"
             ],
             [
              0.5555555555555556,
              "#d8576b"
             ],
             [
              0.6666666666666666,
              "#ed7953"
             ],
             [
              0.7777777777777778,
              "#fb9f3a"
             ],
             [
              0.8888888888888888,
              "#fdca26"
             ],
             [
              1,
              "#f0f921"
             ]
            ],
            "type": "surface"
           }
          ],
          "table": [
           {
            "cells": {
             "fill": {
              "color": "#EBF0F8"
             },
             "line": {
              "color": "white"
             }
            },
            "header": {
             "fill": {
              "color": "#C8D4E3"
             },
             "line": {
              "color": "white"
             }
            },
            "type": "table"
           }
          ]
         },
         "layout": {
          "annotationdefaults": {
           "arrowcolor": "#2a3f5f",
           "arrowhead": 0,
           "arrowwidth": 1
          },
          "autotypenumbers": "strict",
          "coloraxis": {
           "colorbar": {
            "outlinewidth": 0,
            "ticks": ""
           }
          },
          "colorscale": {
           "diverging": [
            [
             0,
             "#8e0152"
            ],
            [
             0.1,
             "#c51b7d"
            ],
            [
             0.2,
             "#de77ae"
            ],
            [
             0.3,
             "#f1b6da"
            ],
            [
             0.4,
             "#fde0ef"
            ],
            [
             0.5,
             "#f7f7f7"
            ],
            [
             0.6,
             "#e6f5d0"
            ],
            [
             0.7,
             "#b8e186"
            ],
            [
             0.8,
             "#7fbc41"
            ],
            [
             0.9,
             "#4d9221"
            ],
            [
             1,
             "#276419"
            ]
           ],
           "sequential": [
            [
             0,
             "#0d0887"
            ],
            [
             0.1111111111111111,
             "#46039f"
            ],
            [
             0.2222222222222222,
             "#7201a8"
            ],
            [
             0.3333333333333333,
             "#9c179e"
            ],
            [
             0.4444444444444444,
             "#bd3786"
            ],
            [
             0.5555555555555556,
             "#d8576b"
            ],
            [
             0.6666666666666666,
             "#ed7953"
            ],
            [
             0.7777777777777778,
             "#fb9f3a"
            ],
            [
             0.8888888888888888,
             "#fdca26"
            ],
            [
             1,
             "#f0f921"
            ]
           ],
           "sequentialminus": [
            [
             0,
             "#0d0887"
            ],
            [
             0.1111111111111111,
             "#46039f"
            ],
            [
             0.2222222222222222,
             "#7201a8"
            ],
            [
             0.3333333333333333,
             "#9c179e"
            ],
            [
             0.4444444444444444,
             "#bd3786"
            ],
            [
             0.5555555555555556,
             "#d8576b"
            ],
            [
             0.6666666666666666,
             "#ed7953"
            ],
            [
             0.7777777777777778,
             "#fb9f3a"
            ],
            [
             0.8888888888888888,
             "#fdca26"
            ],
            [
             1,
             "#f0f921"
            ]
           ]
          },
          "colorway": [
           "#636efa",
           "#EF553B",
           "#00cc96",
           "#ab63fa",
           "#FFA15A",
           "#19d3f3",
           "#FF6692",
           "#B6E880",
           "#FF97FF",
           "#FECB52"
          ],
          "font": {
           "color": "#2a3f5f"
          },
          "geo": {
           "bgcolor": "white",
           "lakecolor": "white",
           "landcolor": "#E5ECF6",
           "showlakes": true,
           "showland": true,
           "subunitcolor": "white"
          },
          "hoverlabel": {
           "align": "left"
          },
          "hovermode": "closest",
          "mapbox": {
           "style": "light"
          },
          "paper_bgcolor": "white",
          "plot_bgcolor": "#E5ECF6",
          "polar": {
           "angularaxis": {
            "gridcolor": "white",
            "linecolor": "white",
            "ticks": ""
           },
           "bgcolor": "#E5ECF6",
           "radialaxis": {
            "gridcolor": "white",
            "linecolor": "white",
            "ticks": ""
           }
          },
          "scene": {
           "xaxis": {
            "backgroundcolor": "#E5ECF6",
            "gridcolor": "white",
            "gridwidth": 2,
            "linecolor": "white",
            "showbackground": true,
            "ticks": "",
            "zerolinecolor": "white"
           },
           "yaxis": {
            "backgroundcolor": "#E5ECF6",
            "gridcolor": "white",
            "gridwidth": 2,
            "linecolor": "white",
            "showbackground": true,
            "ticks": "",
            "zerolinecolor": "white"
           },
           "zaxis": {
            "backgroundcolor": "#E5ECF6",
            "gridcolor": "white",
            "gridwidth": 2,
            "linecolor": "white",
            "showbackground": true,
            "ticks": "",
            "zerolinecolor": "white"
           }
          },
          "shapedefaults": {
           "line": {
            "color": "#2a3f5f"
           }
          },
          "ternary": {
           "aaxis": {
            "gridcolor": "white",
            "linecolor": "white",
            "ticks": ""
           },
           "baxis": {
            "gridcolor": "white",
            "linecolor": "white",
            "ticks": ""
           },
           "bgcolor": "#E5ECF6",
           "caxis": {
            "gridcolor": "white",
            "linecolor": "white",
            "ticks": ""
           }
          },
          "title": {
           "x": 0.05
          },
          "xaxis": {
           "automargin": true,
           "gridcolor": "white",
           "linecolor": "white",
           "ticks": "",
           "title": {
            "standoff": 15
           },
           "zerolinecolor": "white",
           "zerolinewidth": 2
          },
          "yaxis": {
           "automargin": true,
           "gridcolor": "white",
           "linecolor": "white",
           "ticks": "",
           "title": {
            "standoff": 15
           },
           "zerolinecolor": "white",
           "zerolinewidth": 2
          }
         }
        },
        "title": {
         "text": "Top and Bottom 5 Countries by Average Happiness Score (2015-2019)"
        },
        "updatemenus": [
         {
          "buttons": [
           {
            "args": [
             null,
             {
              "frame": {
               "duration": 500,
               "redraw": true
              },
              "fromcurrent": true,
              "mode": "immediate",
              "transition": {
               "duration": 500,
               "easing": "linear"
              }
             }
            ],
            "label": "&#9654;",
            "method": "animate"
           },
           {
            "args": [
             [
              null
             ],
             {
              "frame": {
               "duration": 0,
               "redraw": true
              },
              "fromcurrent": true,
              "mode": "immediate",
              "transition": {
               "duration": 0,
               "easing": "linear"
              }
             }
            ],
            "label": "&#9724;",
            "method": "animate"
           }
          ],
          "direction": "left",
          "pad": {
           "r": 10,
           "t": 70
          },
          "showactive": false,
          "type": "buttons",
          "x": 0.1,
          "xanchor": "right",
          "y": 0,
          "yanchor": "top"
         }
        ],
        "width": 1200,
        "xaxis": {
         "anchor": "y",
         "domain": [
          0,
          1
         ],
         "title": {
          "text": "Average Happiness Score"
         }
        },
        "yaxis": {
         "anchor": "x",
         "autorange": "reversed",
         "domain": [
          0,
          1
         ],
         "title": {
          "text": "Country"
         }
        }
       }
      }
     },
     "metadata": {},
     "output_type": "display_data"
    }
   ],
   "source": [
    "average_happiness_per_country_year = data.groupby(['Country', 'Year'])['Happiness_Score'].mean().reset_index()# Calculating the average happiness score for each country and year\n",
    "\n",
    "average_happiness_per_country_year = average_happiness_per_country_year.sort_values(by=['Year', 'Happiness_Score'], ascending=[True, False])# Sorting countries \n",
    "\n",
    "top_bottom_countries = pd.concat([\n",
    "    average_happiness_per_country_year.groupby('Year').head(5),\n",
    "    average_happiness_per_country_year.groupby('Year').tail(5)\n",
    "])# Filtering top 5 and bottom 5 countries for each year\n",
    "\n",
    "fig = px.bar(top_bottom_countries, x='Happiness_Score', y='Country', animation_frame='Year',\n",
    "             title='Top and Bottom 5 Countries by Average Happiness Score (2015-2019)',\n",
    "             labels={'Happiness_Score': 'Average Happiness Score', 'Country': 'Country'},\n",
    "             color='Happiness_Score',\n",
    "             color_continuous_scale='RdBu',  \n",
    "             orientation='h')# Creating a dynamic bar chart \n",
    "\n",
    "fig.update_layout(width=1200, height=600, yaxis=dict(autorange=\"reversed\"))  # adjusting width and height\n",
    "\n",
    "fig.show()\n",
    "\n"
   ]
  },
  {
   "cell_type": "markdown",
   "metadata": {},
   "source": [
    "* Throughout the period from 2015 to 2019, several European countries, particularly those in the Nordics (Switzerland, Iceland, Denmark, and Norway), consistently ranked among the top 5 countries by average Happiness Score.Finland joined them from 2016 to 2018, while the Netherlands replaced Finland in 2019. This stability at the top reflects these countries' enduring high levels of happiness and well-being, underscoring regional dominance in global happiness rankings."
   ]
  },
  {
   "cell_type": "markdown",
   "metadata": {},
   "source": [
    "* Several nations routinely scored among the lowest by average Happiness Score between 2015 and 2019, including Rwanda, Benin, Syria, Burundi, Togo, Afghanistan, Tanzania, Central African Republic, and South Sudan.This persistence highlights ongoing challenges in these nations over the observed period. Despite variations in specific rankings year to year, these countries face enduring socio-economic and political difficulties that impact their overall happiness scores compared to global averages.\n"
   ]
  },
  {
   "cell_type": "markdown",
   "metadata": {},
   "source": [
    "# <b>Visualization 4: What are the Factors Affecting Happiness Scores Across Regions?</b>\n"
   ]
  },
  {
   "cell_type": "code",
   "execution_count": 18,
   "metadata": {},
   "outputs": [
    {
     "data": {
      "image/png": "[encoded data removed]",
      "text/plain": [
       "<Figure size 1000x600 with 1 Axes>"
      ]
     },
     "metadata": {},
     "output_type": "display_data"
    }
   ],
   "source": [
    "numeric_columns = ['Economy_GDP_per_Capita', 'Family', 'Health_Life_Expectancy', 'Freedom', 'Trust_Government_Corruption']\n",
    "data[numeric_columns] = data[numeric_columns].apply(pd.to_numeric, errors='coerce')# Converting necessary columns to numeric \n",
    "\n",
    "\n",
    "average_factors_by_region = data.groupby('Region')[numeric_columns].mean().reset_index()# Calculating average factors by region\n",
    "\n",
    "\n",
    "plt.figure(figsize=(10, 6))\n",
    "\n",
    "sns.set_color_codes(\"deep\")\n",
    "\n",
    "# Plotting each factor as a horizontal bar\n",
    "sns.barplot(x='Economy_GDP_per_Capita', y='Region', data=average_factors_by_region, color='g', label='Economy')\n",
    "sns.barplot(x='Family', y='Region', data=average_factors_by_region, color='b', label='Family')\n",
    "sns.barplot(x='Health_Life_Expectancy', y='Region', data=average_factors_by_region, color='c', label='Health')\n",
    "sns.barplot(x='Freedom', y='Region', data=average_factors_by_region, color='y', label='Freedom')\n",
    "sns.barplot(x='Trust_Government_Corruption', y='Region', data=average_factors_by_region, color='r', label='Trust')\n",
    "\n",
    "plt.xlabel('Percentage of Region')\n",
    "plt.ylabel('Region')\n",
    "plt.title('Factors Affecting Happiness Score by Region')# Customizing labels and title\n",
    "\n",
    "plt.legend(loc='lower right', frameon=True)\n",
    "\n",
    "plt.show()\n"
   ]
  },
  {
   "cell_type": "markdown",
   "metadata": {},
   "source": [
    "* The graph presents a comparative analysis of various factors contributing to happiness across different global regions. The factors include Economy, Family, Health, Freedom, and Trust. Each region is represented by a horizontal stacked bar chart, indicating the proportional contribution of each factor to the overall happiness score.\n",
    "\n",
    "   Key observations from the graph include:\n",
    "\n",
    "   1. **Economy**:\n",
    "      - Contributes significantly to happiness scores in North America and Western Europe.\n",
    "      - Has a moderate impact in the Middle East and Northern Africa, and Eastern Asia.\n",
    "\n",
    "   2. **Family**:\n",
    "      - Plays a substantial role in happiness across most regions, especially in Latin America and the Caribbean, and Eastern Asia.\n",
    "      - Lesser emphasis in Southeastern Asia and Sub-Saharan Africa.\n",
    "\n",
    "   3. **Health**:\n",
    "      - A major contributor in all regions, with North America, Western Europe, and Eastern Asia showing notable emphasis.\n",
    "      - Relatively lower impact in Southern Asia and Sub-Saharan Africa.\n",
    "\n",
    "   4. **Freedom**:\n",
    "      - Significant in regions such as Australia and New Zealand, and Latin America and the Caribbean.\n",
    "      - Lower impact in Eastern Asia and Central and Eastern Europe.\n",
    "\n",
    "   5. **Trust**:\n",
    "      - Generally, the least contributing factor across all regions.\n",
    "      - Notably higher in Western Europe and Central and Eastern Europe compared to other regions."
   ]
  },
  {
   "cell_type": "markdown",
   "metadata": {},
   "source": [
    "# <b>Visualization 5: How do average happiness scores vary across regions over the years?</b>"
   ]
  },
  {
   "cell_type": "code",
   "execution_count": 19,
   "metadata": {},
   "outputs": [
    {
     "data": {
      "image/png": "[encoded data removed]",
      "text/plain": [
       "<Figure size 1200x800 with 1 Axes>"
      ]
     },
     "metadata": {},
     "output_type": "display_data"
    }
   ],
   "source": [
    "average_happiness_by_region_year = data.groupby(['Region', 'Year'])['Happiness_Score'].mean().reset_index()# Calculating average happiness score by Region \n",
    "\n",
    "plt.figure(figsize=(12, 8))\n",
    "\n",
    "sns.lineplot(x='Year', y='Happiness_Score', hue='Region', data=average_happiness_by_region_year, marker='o')# Plotting each region's happiness score over the years\n",
    "\n",
    "plt.xlabel('Year')\n",
    "plt.ylabel('Average Happiness Score')\n",
    "plt.title('Average Happiness Score Across Regions Over the Years')# Customizing labels and title\n",
    "\n",
    "plt.legend(bbox_to_anchor=(1.05, 1), loc='upper left')# Adjusting legend position\n",
    "\n",
    "plt.show()\n"
   ]
  },
  {
   "cell_type": "markdown",
   "metadata": {},
   "source": [
    "* In the initial visualization, we examined how happiness scores change over the years, whereas this plot provides a deeper understanding of the happiness scores across world regions."
   ]
  },
  {
   "cell_type": "markdown",
   "metadata": {},
   "source": [
    "The graph is a line chart showing the average happiness scores across different regions over the years from 2015 to 2019. The x-axis represents the years, while the y-axis represents the average happiness scores. Each line represents a different region, with a legend indicating which color corresponds to which region.\n",
    "\n",
    "* Western Europe and Australia and New Zealand are the happiest regions, maintaining high scores throughout the years.\n",
    "* Eastern Asia shows a noticeable improvement in happiness scores.\n",
    "* Latin America and Caribbean, North America, and Middle East and Northern Africa exhibit slight downward trends.\n",
    "* Sub-Saharan Africa consistently has the lowest happiness scores.\n",
    "\n",
    "Overall, there are minor fluctuations and slight upward or downward trends in different regions, but no drastic changes over the five-year period.\n",
    "\n",
    "\n",
    "\n",
    "\n",
    "\n",
    "\n"
   ]
  },
  {
   "cell_type": "markdown",
   "metadata": {},
   "source": [
    "# <b>Visualization 6: How do different factors correlate with happiness scores globally?</b>"
   ]
  },
  {
   "cell_type": "code",
   "execution_count": 20,
   "metadata": {},
   "outputs": [
    {
     "data": {
      "image/png": "[encoded data removed]",
      "text/plain": [
       "<Figure size 1000x800 with 2 Axes>"
      ]
     },
     "metadata": {},
     "output_type": "display_data"
    }
   ],
   "source": [
    "numerical_columns = ['Happiness_Score', 'Economy_GDP_per_Capita', 'Family', 'Health_Life_Expectancy', 'Freedom', 'Trust_Government_Corruption', 'Generosity']\n",
    "\n",
    "numerical_data = data[numerical_columns]# Subset the data to include only numerical columns\n",
    "\n",
    "correlation_matrix = numerical_data.corr()# Calculating the correlation matrix\n",
    "\n",
    "plt.figure(figsize=(10, 8))# Plotting the correlation matrix as a heatmap\n",
    "sns.heatmap(correlation_matrix, annot=True, cmap='coolwarm', fmt='.2f', linewidths=.5)\n",
    "plt.title('Correlation Matrix of Happiness Factors')\n",
    "plt.show()\n"
   ]
  },
  {
   "cell_type": "markdown",
   "metadata": {},
   "source": [
    "So far, we have explored various aspects of global happiness through visualizations such as tracking changes over time, comparing country averages, identifying extremes, and examining regional variations. These analyses have provided insights into the dynamics of happiness across different contexts and periods. Now, we delve into the correlation matrix of happiness factors because it illuminates the underlying relationships between key metrics. The graph is a heatmap displaying the correlation matrix of various happiness factors. "
   ]
  },
  {
   "cell_type": "markdown",
   "metadata": {},
   "source": [
    "# Happiness Score:\n",
    "\n",
    "* Strongly correlated with Economy (GDP per Capita) (0.79), Health (Life Expectancy) (0.74), and Family (0.65).\n",
    "* Moderately correlated with Freedom (0.55).\n",
    "* Weakly correlated with Trust (Government Corruption) (0.40) and Generosity (0.14).\n",
    "\n",
    "# Economy (GDP per Capita):\n",
    "\n",
    "* Strongly correlated with Health (Life Expectancy) (0.78) and Happiness Score (0.79).\n",
    "* Moderately correlated with Family (0.59).\n",
    "* Weakly correlated with Freedom (0.34) and Trust (Government Corruption) (0.31).\n",
    "* Negatively correlated with Generosity (-0.01).\n",
    "\n",
    "# Family:\n",
    "\n",
    "* Moderately correlated with Happiness Score (0.65), Economy (GDP per Capita) (0.59), and Health (Life Expectancy) (0.57).\n",
    "* Weakly correlated with Freedom (0.42) and Trust (Government Corruption) (0.13).\n",
    "* Negatively correlated with Generosity (-0.04).\n",
    "\n",
    "# Health (Life Expectancy):\n",
    "\n",
    "* Strongly correlated with Economy (GDP per Capita) (0.78) and Happiness Score (0.74).\n",
    "* Moderately correlated with Family (0.57).\n",
    "* Weakly correlated with Freedom (0.34) and Trust (Government Corruption) (0.25).\n",
    "* Very weakly correlated with Generosity (0.01).\n",
    "\n",
    "# Freedom:\n",
    "\n",
    "* Moderately correlated with Happiness Score (0.55) and Family (0.42).\n",
    "* Weakly correlated with Trust (Government Corruption) (0.46) and Generosity (0.29).\n",
    "* Weakest correlation with Economy (GDP per Capita) (0.34) and Health (Life Expectancy) (0.34).\n",
    "\n",
    "# Trust (Government Corruption):\n",
    "\n",
    "* Weakly correlated with all factors, with the highest correlation with Freedom (0.46).\n",
    "* Correlation with Happiness Score (0.40) and Health (Life Expectancy) (0.25).\n",
    "* Very weakly correlated with Family (0.13) and Economy (GDP per Capita) (0.31).\n",
    "* Weakly correlated with Generosity (0.32).\n",
    "\n",
    "# Generosity:\n",
    "\n",
    "* Weakest correlation with Happiness Score (0.14), Economy (GDP per Capita) (-0.01), Family (-0.04), and Health (Life Expectancy) (0.01).\n",
    "* Moderately correlated with Freedom (0.29) and Trust (Government Corruption) (0.32).\n",
    "\n",
    "Overall, the heatmap indicates that the Happiness Score is most strongly influenced by the Economy (GDP per Capita), Health (Life Expectancy), and Family, while Trust (Government Corruption) and Generosity have the weakest correlations."
   ]
  },
  {
   "cell_type": "markdown",
   "metadata": {},
   "source": [
    "# <b>Visualization 7: Comparing Happiness Scores Over Time: Azerbaijan vs. Germany</b>"
   ]
  },
  {
   "cell_type": "code",
   "execution_count": 21,
   "metadata": {},
   "outputs": [
    {
     "data": {
      "image/png": "[encoded data removed]",
      "text/plain": [
       "<Figure size 1000x600 with 1 Axes>"
      ]
     },
     "metadata": {},
     "output_type": "display_data"
    }
   ],
   "source": [
    "countries = ['Azerbaijan', 'Germany']\n",
    "data_subset = data[data['Country'].isin(countries)]# Subset data for Azerbaijan and Germany\n",
    "\n",
    "plt.figure(figsize=(10, 6))\n",
    "sns.barplot(x='Happiness_Score', y='Country', hue='Year', data=data_subset, palette='viridis')\n",
    "plt.xlabel('Happiness Score')\n",
    "plt.ylabel('Country')\n",
    "plt.title('Changes in Happiness Scores for Azerbaijan and Germany Over the Years')\n",
    "plt.legend(title='Year', loc='center left', bbox_to_anchor=(1, 0.5))\n",
    "plt.show()\n"
   ]
  },
  {
   "cell_type": "markdown",
   "metadata": {},
   "source": [
    "* I find it particularly intriguing to observe the variations in happiness scores between Azerbaijan, my home country, and Germany, my current country of residence. The differences between them are quite fascinating to me."
   ]
  },
  {
   "cell_type": "markdown",
   "metadata": {},
   "source": [
    "The graph illustrates the happiness scores of Azerbaijan and Germany from 2015 to 2019. Each year is represented by a different color, and the scores are plotted on a horizontal bar chart for each country.\n",
    "\n",
    "Key observations include:\n",
    "\n",
    "# Azerbaijan:\n",
    "\n",
    "* In 2015, the happiness score was around 5.1.\n",
    "* The score slightly increased in 2016 to approximately 5.2.\n",
    "* There was a consistent upward trend from 2017 to 2019, with scores around 5.3, 5.4, and 5.5 respectively.\n",
    "* Overall, Azerbaijan's happiness score showed a gradual increase over the five years.\n",
    "\n",
    "# Germany:\n",
    "\n",
    "* In 2015, the happiness score was about 6.9.\n",
    "* The score remained relatively stable in 2016, slightly below 7.\n",
    "* From 2017 to 2019, the score continued to hover around the 7 mark, with minor fluctuations.\n",
    "* Germany's happiness score remained consistently high and stable over the five-year period.\n",
    "\n",
    "Overall, the graph highlights that while Azerbaijan experienced a steady increase in happiness scores from 2015 to 2019, Germany maintained a consistently high level of happiness throughout the same period."
   ]
  },
  {
   "cell_type": "markdown",
   "metadata": {},
   "source": [
    "# <b>Conclusion</b>\n",
    "\n",
    "In summary, the analysis of the World Happiness Report data spanning 2015-2019 has provided valuable insights into global happiness trends. Through detailed examination of happiness scores, it is evident that economic stability, social support, health, freedom, and perceptions of corruption play pivotal roles in shaping happiness levels across nations. Over the years studied, we observed both stable trends and notable fluctuations in happiness scores, influenced by geopolitical changes and socio-economic factors. This study underscores the complex interplay of these variables and highlights the importance of addressing diverse factors to enhance global well-being. Moving forward, understanding these dynamics will be crucial for informing policies and i"
   ]
  }
 ],
 "metadata": {
  "kernelspec": {
   "display_name": "env",
   "language": "python",
   "name": "python3"
  },
  "language_info": {
   "codemirror_mode": {
    "name": "ipython",
    "version": 3
   },
   "file_extension": ".py",
   "mimetype": "text/x-python",
   "name": "python",
   "nbconvert_exporter": "python",
   "pygments_lexer": "ipython3",
   "version": "3.13.2"
  }
 },
 "nbformat": 4,
 "nbformat_minor": 2
}
