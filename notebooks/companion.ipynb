{
 "cells": [
  {
   "cell_type": "markdown",
   "metadata": {},
   "source": [
    "# <b>World Happiness Report Analysis: Companion Notebook</b>\n",
    "\n",
    "## <b>Introduction</b>\n",
    "\n",
    "### Brief Overview of the Project Goals\n",
    "In this project, I will analyze and visualize trends in global happiness using the World Happiness Report data from 2015 to 2019 (or the most recent data available). My analysis will examine how happiness scores have changed over time, identify the top and bottom countries in terms of happiness, explore regional variations, and investigate the factors that correlate with happiness levels. By doing so, I hope to gain a deeper understanding of the determinants of happiness across different countries and regions.\n"
   ]
  },
  {
   "cell_type": "markdown",
   "metadata": {},
   "source": [
    "# <b>About the Dataset</b>\n",
    "\n",
    "\n",
    "### Data Sources\n",
    "I obtained the dataset for this project from the World Happiness Report, available on Kaggle. This dataset encompasses annual reports from 2015 to 2019, providing comprehensive country-level data on factors influencing happiness. You can find the datasets containing World Happiness Scores for the years 2015-2019 on Kaggle at: https://www.kaggle.com/datasets/unsdsn/world-happiness\n",
    "\n",
    "For the original survey and more detailed information, please refer to the World Happiness Report website: https://worldhappiness.report/ed/2024/#appendices-and-data\n",
    "\n",
    "### Data Combination\n",
    "Data Combination\n",
    "Initially, the data for each year existed as separate datasets. To facilitate a comprehensive analysis for the entire period from 2015 to 2019, I combined these datasets into a single, unified dataset. This consolidation allows for consistent analysis and comparison of happiness scores and factors across different years.\n"
   ]
  },
  {
   "cell_type": "markdown",
   "metadata": {},
   "source": [
    "# Import necessary libraries\n"
   ]
  },
  {
   "cell_type": "code",
   "execution_count": 261,
   "metadata": {},
   "outputs": [],
   "source": [
    "import pandas as pd\n"
   ]
  },
  {
   "cell_type": "markdown",
   "metadata": {},
   "source": [
    "# Load datasets\n"
   ]
  },
  {
   "cell_type": "code",
   "execution_count": 262,
   "metadata": {},
   "outputs": [],
   "source": [
    "happiness_2015 = pd.read_csv('../data/2015.csv')\n",
    "happiness_2016 = pd.read_csv('../data/2016.csv')\n",
    "happiness_2017 = pd.read_csv('../data/2017.csv')\n",
    "happiness_2018 = pd.read_csv('../data/2018.csv')\n",
    "happiness_2019 = pd.read_csv('../data/2019.csv')"
   ]
  },
  {
   "cell_type": "markdown",
   "metadata": {},
   "source": [
    "Before merging the datasets for analysis across the years, I need to check the columns of each dataset. This will ensure compatibility and avoid issues during the analysis."
   ]
  },
  {
   "cell_type": "code",
   "execution_count": 263,
   "metadata": {},
   "outputs": [
    {
     "data": {
      "text/plain": [
       "Index(['Country', 'Region', 'Happiness Rank', 'Happiness Score',\n",
       "       'Standard Error', 'Economy (GDP per Capita)', 'Family',\n",
       "       'Health (Life Expectancy)', 'Freedom', 'Trust (Government Corruption)',\n",
       "       'Generosity', 'Dystopia Residual'],\n",
       "      dtype='object')"
      ]
     },
     "execution_count": 263,
     "metadata": {},
     "output_type": "execute_result"
    }
   ],
   "source": [
    "happiness_2015.columns"
   ]
  },
  {
   "cell_type": "code",
   "execution_count": 264,
   "metadata": {},
   "outputs": [
    {
     "data": {
      "text/plain": [
       "Index(['Country', 'Region', 'Happiness Rank', 'Happiness Score',\n",
       "       'Lower Confidence Interval', 'Upper Confidence Interval',\n",
       "       'Economy (GDP per Capita)', 'Family', 'Health (Life Expectancy)',\n",
       "       'Freedom', 'Trust (Government Corruption)', 'Generosity',\n",
       "       'Dystopia Residual'],\n",
       "      dtype='object')"
      ]
     },
     "execution_count": 264,
     "metadata": {},
     "output_type": "execute_result"
    }
   ],
   "source": [
    "happiness_2016.columns"
   ]
  },
  {
   "cell_type": "code",
   "execution_count": 265,
   "metadata": {},
   "outputs": [
    {
     "data": {
      "text/plain": [
       "Index(['Country', 'Happiness.Rank', 'Happiness.Score', 'Whisker.high',\n",
       "       'Whisker.low', 'Economy..GDP.per.Capita.', 'Family',\n",
       "       'Health..Life.Expectancy.', 'Freedom', 'Generosity',\n",
       "       'Trust..Government.Corruption.', 'Dystopia.Residual'],\n",
       "      dtype='object')"
      ]
     },
     "execution_count": 265,
     "metadata": {},
     "output_type": "execute_result"
    }
   ],
   "source": [
    "happiness_2017.columns"
   ]
  },
  {
   "cell_type": "code",
   "execution_count": 266,
   "metadata": {},
   "outputs": [
    {
     "data": {
      "text/plain": [
       "Index(['Overall rank', 'Country or region', 'Score', 'GDP per capita',\n",
       "       'Social support', 'Healthy life expectancy',\n",
       "       'Freedom to make life choices', 'Generosity',\n",
       "       'Perceptions of corruption'],\n",
       "      dtype='object')"
      ]
     },
     "execution_count": 266,
     "metadata": {},
     "output_type": "execute_result"
    }
   ],
   "source": [
    "happiness_2018.columns"
   ]
  },
  {
   "cell_type": "code",
   "execution_count": 267,
   "metadata": {},
   "outputs": [
    {
     "data": {
      "text/plain": [
       "Index(['Overall rank', 'Country or region', 'Score', 'GDP per capita',\n",
       "       'Social support', 'Healthy life expectancy',\n",
       "       'Freedom to make life choices', 'Generosity',\n",
       "       'Perceptions of corruption'],\n",
       "      dtype='object')"
      ]
     },
     "execution_count": 267,
     "metadata": {},
     "output_type": "execute_result"
    }
   ],
   "source": [
    "happiness_2019.columns"
   ]
  },
  {
   "cell_type": "markdown",
   "metadata": {},
   "source": [
    "# Observations: \n",
    "* Not all columns are the same across each dataset. Some datasets contain additional columns, which can cause issues during the merge operation. Additionally, some column names are not appropriately labeled. To address this, I need to drop unnecessary columns from some datasets and rename certain columns.\n",
    "\n",
    "* The happiness_2015 and happiness_2016 datasets include a region column, while others do not. Therefore, I will extract the country and region columns from one of these datasets. After the merge operation, I will add the region column to our merged data, as the regions that countries belong to remain consistent over the years.\n",
    "\n",
    "* First, I will extract the countries and regions columns, then adjust each dataset individually.\n"
   ]
  },
  {
   "cell_type": "markdown",
   "metadata": {},
   "source": [
    "## Extracting the country and region columns from the happiness_2015 dataset."
   ]
  },
  {
   "cell_type": "code",
   "execution_count": 268,
   "metadata": {},
   "outputs": [
    {
     "data": {
      "text/html": [
       "<div>\n",
       "<style scoped>\n",
       "    .dataframe tbody tr th:only-of-type {\n",
       "        vertical-align: middle;\n",
       "    }\n",
       "\n",
       "    .dataframe tbody tr th {\n",
       "        vertical-align: top;\n",
       "    }\n",
       "\n",
       "    .dataframe thead th {\n",
       "        text-align: right;\n",
       "    }\n",
       "</style>\n",
       "<table border=\"1\" class=\"dataframe\">\n",
       "  <thead>\n",
       "    <tr style=\"text-align: right;\">\n",
       "      <th></th>\n",
       "      <th>Country</th>\n",
       "      <th>Region</th>\n",
       "    </tr>\n",
       "  </thead>\n",
       "  <tbody>\n",
       "    <tr>\n",
       "      <th>0</th>\n",
       "      <td>Switzerland</td>\n",
       "      <td>Western Europe</td>\n",
       "    </tr>\n",
       "    <tr>\n",
       "      <th>1</th>\n",
       "      <td>Iceland</td>\n",
       "      <td>Western Europe</td>\n",
       "    </tr>\n",
       "    <tr>\n",
       "      <th>2</th>\n",
       "      <td>Denmark</td>\n",
       "      <td>Western Europe</td>\n",
       "    </tr>\n",
       "    <tr>\n",
       "      <th>3</th>\n",
       "      <td>Norway</td>\n",
       "      <td>Western Europe</td>\n",
       "    </tr>\n",
       "    <tr>\n",
       "      <th>4</th>\n",
       "      <td>Canada</td>\n",
       "      <td>North America</td>\n",
       "    </tr>\n",
       "    <tr>\n",
       "      <th>...</th>\n",
       "      <td>...</td>\n",
       "      <td>...</td>\n",
       "    </tr>\n",
       "    <tr>\n",
       "      <th>153</th>\n",
       "      <td>Rwanda</td>\n",
       "      <td>Sub-Saharan Africa</td>\n",
       "    </tr>\n",
       "    <tr>\n",
       "      <th>154</th>\n",
       "      <td>Benin</td>\n",
       "      <td>Sub-Saharan Africa</td>\n",
       "    </tr>\n",
       "    <tr>\n",
       "      <th>155</th>\n",
       "      <td>Syria</td>\n",
       "      <td>Middle East and Northern Africa</td>\n",
       "    </tr>\n",
       "    <tr>\n",
       "      <th>156</th>\n",
       "      <td>Burundi</td>\n",
       "      <td>Sub-Saharan Africa</td>\n",
       "    </tr>\n",
       "    <tr>\n",
       "      <th>157</th>\n",
       "      <td>Togo</td>\n",
       "      <td>Sub-Saharan Africa</td>\n",
       "    </tr>\n",
       "  </tbody>\n",
       "</table>\n",
       "<p>158 rows × 2 columns</p>\n",
       "</div>"
      ],
      "text/plain": [
       "         Country                           Region\n",
       "0    Switzerland                   Western Europe\n",
       "1        Iceland                   Western Europe\n",
       "2        Denmark                   Western Europe\n",
       "3         Norway                   Western Europe\n",
       "4         Canada                    North America\n",
       "..           ...                              ...\n",
       "153       Rwanda               Sub-Saharan Africa\n",
       "154        Benin               Sub-Saharan Africa\n",
       "155        Syria  Middle East and Northern Africa\n",
       "156      Burundi               Sub-Saharan Africa\n",
       "157         Togo               Sub-Saharan Africa\n",
       "\n",
       "[158 rows x 2 columns]"
      ]
     },
     "execution_count": 268,
     "metadata": {},
     "output_type": "execute_result"
    }
   ],
   "source": [
    "country_and_regions = happiness_2015[['Country', 'Region']]\n",
    "country_and_regions"
   ]
  },
  {
   "cell_type": "markdown",
   "metadata": {},
   "source": [
    "# Actions for happiness_2015 Dataset:\n",
    "\n",
    "* I'm cleaning up the dataset by removing the \"Region\" and \"Standard Error\" columns. Additionally, I'll be renaming some columns for consistency with other datasets. These include \"Happiness Rank,\" \"Happiness Score,\" \"Economy (GDP per Capita),\" \"Health (Life Expectancy),\" \"Trust (Government Corruption),\" and \"Dystopia Residual.\" The current names contain spaces and special characters, which I'd like to avoid."
   ]
  },
  {
   "cell_type": "code",
   "execution_count": 269,
   "metadata": {},
   "outputs": [
    {
     "name": "stdout",
     "output_type": "stream",
     "text": [
      "Before cleaning:\n",
      "Index(['Country', 'Region', 'Happiness Rank', 'Happiness Score',\n",
      "       'Standard Error', 'Economy (GDP per Capita)', 'Family',\n",
      "       'Health (Life Expectancy)', 'Freedom', 'Trust (Government Corruption)',\n",
      "       'Generosity', 'Dystopia Residual'],\n",
      "      dtype='object')\n",
      "\n",
      "After cleaning:\n",
      "Index(['Country', 'Happiness_Rank', 'Happiness_Score',\n",
      "       'Economy_GDP_per_Capita', 'Family', 'Health_Life_Expectancy', 'Freedom',\n",
      "       'Trust_Government_Corruption', 'Generosity', 'Dystopia_Residual'],\n",
      "      dtype='object')\n"
     ]
    }
   ],
   "source": [
    "print(\"Before cleaning:\")\n",
    "print(happiness_2015.columns) # current column names \n",
    "\n",
    "\n",
    "happiness_2015.drop(['Region', 'Standard Error'], axis=1, inplace=True) # 1. Droppig irrelevant columns\n",
    "\n",
    "happiness_2015.rename(columns={\n",
    "    'Happiness Rank': 'Happiness_Rank',\n",
    "    'Happiness Score': 'Happiness_Score',\n",
    "    'Economy (GDP per Capita)': 'Economy_GDP_per_Capita',\n",
    "    'Health (Life Expectancy)': 'Health_Life_Expectancy',\n",
    "    'Trust (Government Corruption)': 'Trust_Government_Corruption',\n",
    "    'Dystopia Residual': 'Dystopia_Residual'\n",
    "}, inplace=True)# 2. Renaming columns for consistency\n",
    "\n",
    "\n",
    "print(\"\\nAfter cleaning:\")\n",
    "print(happiness_2015.columns)# updated column names\n",
    "\n"
   ]
  },
  {
   "cell_type": "markdown",
   "metadata": {},
   "source": [
    "# Actions for happiness_2016 Dataset:\n",
    "* In order to ensure consistency with other datasets, I'm refining the data. This involves removing the \"Region,\" \"Lower Confidence Interval,\" and \"Upper Confidence Interval\" columns. Additionally, I'll be renaming some columns for clarity. These include \"Happiness Rank,\" \"Happiness Score,\" \"Economic (GDP per Capita),\" \"Health (Life Expectancy),\" \"Government Trust,\" and \"Dystopia Residual.\" The current names have spaces and special characters, which I'm removing for a cleaner format."
   ]
  },
  {
   "cell_type": "code",
   "execution_count": 270,
   "metadata": {},
   "outputs": [
    {
     "name": "stdout",
     "output_type": "stream",
     "text": [
      "Before cleaning:\n",
      "Index(['Country', 'Region', 'Happiness Rank', 'Happiness Score',\n",
      "       'Lower Confidence Interval', 'Upper Confidence Interval',\n",
      "       'Economy (GDP per Capita)', 'Family', 'Health (Life Expectancy)',\n",
      "       'Freedom', 'Trust (Government Corruption)', 'Generosity',\n",
      "       'Dystopia Residual'],\n",
      "      dtype='object')\n",
      "\n",
      "After cleaning:\n",
      "Index(['Country', 'Happiness_Rank', 'Happiness_Score',\n",
      "       'Economy_GDP_per_Capita', 'Family', 'Health_Life_Expectancy', 'Freedom',\n",
      "       'Trust_Government_Corruption', 'Generosity', 'Dystopia_Residual'],\n",
      "      dtype='object')\n"
     ]
    }
   ],
   "source": [
    "print(\"Before cleaning:\")\n",
    "print(happiness_2016.columns) # current column names \n",
    "\n",
    "happiness_2016.drop(['Region', 'Lower Confidence Interval', 'Upper Confidence Interval'], axis=1, inplace=True) # 1. Droppig irrelevant columns\n",
    "\n",
    "happiness_2016.rename(columns={\n",
    "    'Happiness Rank': 'Happiness_Rank',\n",
    "    'Happiness Score': 'Happiness_Score',\n",
    "    'Economy (GDP per Capita)': 'Economy_GDP_per_Capita',\n",
    "    'Health (Life Expectancy)': 'Health_Life_Expectancy',\n",
    "    'Trust (Government Corruption)': 'Trust_Government_Corruption',\n",
    "    'Dystopia Residual': 'Dystopia_Residual'\n",
    "}, inplace=True) # 2. Renaming columns for consistency\n",
    "\n",
    "\n",
    "print(\"\\nAfter cleaning:\")\n",
    "print(happiness_2016.columns) # updated column names\n",
    "\n"
   ]
  },
  {
   "cell_type": "markdown",
   "metadata": {},
   "source": [
    "# Actions for happiness_2017 Dataset:\n",
    "* I'll be following the same procedures here to preserve consistency with the methodology applied to earlier datasets. The \"Whisker.high\" and \"Whisker.low\" columns must be eliminated in order to do this. For uniformity and clarity, I'll also be renaming the following columns: \"Dystopia Residual,\" \"Government Trust,\" \"Health (Life Expectancy),\" \"Economy (GDP per Capita),\" and \"Happiness.Rank.\" The gaps, special characters, and repetition in the current names are all addressed by these adjustments."
   ]
  },
  {
   "cell_type": "code",
   "execution_count": 271,
   "metadata": {},
   "outputs": [
    {
     "name": "stdout",
     "output_type": "stream",
     "text": [
      "Before cleaning:\n",
      "Index(['Country', 'Happiness.Rank', 'Happiness.Score', 'Whisker.high',\n",
      "       'Whisker.low', 'Economy..GDP.per.Capita.', 'Family',\n",
      "       'Health..Life.Expectancy.', 'Freedom', 'Generosity',\n",
      "       'Trust..Government.Corruption.', 'Dystopia.Residual'],\n",
      "      dtype='object')\n",
      "\n",
      "After cleaning:\n",
      "Index(['Country', 'Happiness_Rank', 'Happiness_Score',\n",
      "       'Economy_GDP_per_Capita', 'Family', 'Health_Life_Expectancy', 'Freedom',\n",
      "       'Generosity', 'Trust_Government_Corruption', 'Dystopia_Residual'],\n",
      "      dtype='object')\n"
     ]
    }
   ],
   "source": [
    "\n",
    "print(\"Before cleaning:\")\n",
    "print(happiness_2017.columns) # current column names \n",
    "\n",
    "happiness_2017.drop(['Whisker.high', 'Whisker.low'], axis=1, inplace=True)# 1. Droppig irrelevant columns\n",
    "\n",
    "happiness_2017.rename(columns={\n",
    "    'Happiness.Rank': 'Happiness_Rank',\n",
    "    'Happiness.Score': 'Happiness_Score',\n",
    "    'Economy..GDP.per.Capita.': 'Economy_GDP_per_Capita',\n",
    "    'Health..Life.Expectancy.': 'Health_Life_Expectancy',\n",
    "    'Trust..Government.Corruption.': 'Trust_Government_Corruption',\n",
    "    'Dystopia.Residual': 'Dystopia_Residual'\n",
    "}, inplace=True)# 2. Renaming columns for consistency\n",
    "\n",
    "print(\"\\nAfter cleaning:\")\n",
    "print(happiness_2017.columns)# updated column names\n"
   ]
  },
  {
   "cell_type": "markdown",
   "metadata": {},
   "source": [
    "# Actions for happiness_2018 Dataset:\n",
    "* Unlike previous datasets, this one doesn't require any column removal. However, some renaming is needed to improve consistency: \"Overall Rank\" will be changed to \"Overall.Rank,\" \"Country or region\" to \"Country.Region,\" and so on for \"Score,\" \"GDP per capita,\" \"Social support,\" \"Healthy life expectancy,\" \"Freedom to make life choices,\" \"Generosity,\" and \"Perceptions of corruption.\" This ensures consistent formatting and removes any spaces or special characters."
   ]
  },
  {
   "cell_type": "code",
   "execution_count": 272,
   "metadata": {},
   "outputs": [
    {
     "name": "stdout",
     "output_type": "stream",
     "text": [
      "Before cleaning:\n",
      "Index(['Overall rank', 'Country or region', 'Score', 'GDP per capita',\n",
      "       'Social support', 'Healthy life expectancy',\n",
      "       'Freedom to make life choices', 'Generosity',\n",
      "       'Perceptions of corruption'],\n",
      "      dtype='object')\n",
      "\n",
      "After cleaning:\n",
      "Index(['Happiness_Rank', 'Country', 'Happiness_Score',\n",
      "       'Economy_GDP_per_Capita', 'Family', 'Health_Life_Expectancy', 'Freedom',\n",
      "       'Generosity', 'Trust_Government_Corruption'],\n",
      "      dtype='object')\n"
     ]
    }
   ],
   "source": [
    "print(\"Before cleaning:\")\n",
    "print(happiness_2018.columns) # current column names \n",
    "\n",
    "happiness_2018.rename(columns={\n",
    "    'Overall rank': 'Happiness_Rank',\n",
    "    'Country or region': 'Country',\n",
    "    'Score': 'Happiness_Score',\n",
    "    'GDP per capita': 'Economy_GDP_per_Capita',\n",
    "    'Social support': 'Family',\n",
    "    'Healthy life expectancy': 'Health_Life_Expectancy',\n",
    "    'Freedom to make life choices': 'Freedom',\n",
    "    'Generosity': 'Generosity',\n",
    "    'Perceptions of corruption': 'Trust_Government_Corruption'\n",
    "}, inplace=True)# Renaming columns for consistency\n",
    "\n",
    "print(\"\\nAfter cleaning:\")\n",
    "print(happiness_2018.columns)# updated column names\n",
    "\n",
    "\n"
   ]
  },
  {
   "cell_type": "markdown",
   "metadata": {},
   "source": [
    "# Actions for happiness_2019 Dataset:\n",
    "\n",
    "* This dataset is good to go without any column removal. However, for better clarity and consistency, let's rename some columns. These include \"Overall rank\" to \"Overall.Rank,\" \"Country or region\" to \"Country.Region,\" and so on for \"Score,\" \"GDP per capita,\" \"Social support,\" \"Healthy life expectancy,\" \"Freedom to make life choices,\" \"Generosity,\" and \"Perceptions of corruption.\" This will make the column names more consistent and easier to work with."
   ]
  },
  {
   "cell_type": "code",
   "execution_count": 273,
   "metadata": {},
   "outputs": [
    {
     "name": "stdout",
     "output_type": "stream",
     "text": [
      "Before cleaning:\n",
      "Index(['Overall rank', 'Country or region', 'Score', 'GDP per capita',\n",
      "       'Social support', 'Healthy life expectancy',\n",
      "       'Freedom to make life choices', 'Generosity',\n",
      "       'Perceptions of corruption'],\n",
      "      dtype='object')\n",
      "\n",
      "After cleaning:\n",
      "Index(['Happiness_Rank', 'Country', 'Happiness_Score',\n",
      "       'Economy_GDP_per_Capita', 'Family', 'Health_Life_Expectancy', 'Freedom',\n",
      "       'Generosity', 'Trust_Government_Corruption'],\n",
      "      dtype='object')\n"
     ]
    }
   ],
   "source": [
    "print(\"Before cleaning:\")\n",
    "print(happiness_2019.columns)# current column names \n",
    "\n",
    "\n",
    "happiness_2019.rename(columns={\n",
    "    'Overall rank': 'Happiness_Rank',\n",
    "    'Country or region': 'Country',\n",
    "    'Score': 'Happiness_Score',\n",
    "    'GDP per capita': 'Economy_GDP_per_Capita',\n",
    "    'Social support': 'Family',\n",
    "    'Healthy life expectancy': 'Health_Life_Expectancy',\n",
    "    'Freedom to make life choices': 'Freedom',\n",
    "    'Generosity': 'Generosity',\n",
    "    'Perceptions of corruption': 'Trust_Government_Corruption'\n",
    "}, inplace=True)# Renaming columns for consistency\n",
    "\n",
    "print(\"\\nAfter cleaning:\")\n",
    "print(happiness_2019.columns)# updated column names\n",
    "\n"
   ]
  },
  {
   "cell_type": "markdown",
   "metadata": {},
   "source": [
    "Adding a \"year\" column to each dataset in order to distinguish them during the merge operation."
   ]
  },
  {
   "cell_type": "code",
   "execution_count": 274,
   "metadata": {},
   "outputs": [],
   "source": [
    "happiness_2015['Year'] = 2015\n",
    "happiness_2016['Year'] = 2016\n",
    "happiness_2017['Year'] = 2017\n",
    "happiness_2018['Year'] = 2018\n",
    "happiness_2019['Year'] = 2019"
   ]
  },
  {
   "cell_type": "markdown",
   "metadata": {},
   "source": [
    "So far, I have adjusted all our datasets. Now, I can combine them to create a single dataset. Additionally, I will add the region column to our merged data."
   ]
  },
  {
   "cell_type": "code",
   "execution_count": 275,
   "metadata": {},
   "outputs": [
    {
     "data": {
      "text/html": [
       "<div>\n",
       "<style scoped>\n",
       "    .dataframe tbody tr th:only-of-type {\n",
       "        vertical-align: middle;\n",
       "    }\n",
       "\n",
       "    .dataframe tbody tr th {\n",
       "        vertical-align: top;\n",
       "    }\n",
       "\n",
       "    .dataframe thead th {\n",
       "        text-align: right;\n",
       "    }\n",
       "</style>\n",
       "<table border=\"1\" class=\"dataframe\">\n",
       "  <thead>\n",
       "    <tr style=\"text-align: right;\">\n",
       "      <th></th>\n",
       "      <th>Country</th>\n",
       "      <th>Region</th>\n",
       "      <th>Year</th>\n",
       "      <th>Happiness_Rank</th>\n",
       "      <th>Happiness_Score</th>\n",
       "      <th>Economy_GDP_per_Capita</th>\n",
       "      <th>Family</th>\n",
       "      <th>Health_Life_Expectancy</th>\n",
       "      <th>Freedom</th>\n",
       "      <th>Trust_Government_Corruption</th>\n",
       "      <th>Generosity</th>\n",
       "      <th>Dystopia_Residual</th>\n",
       "    </tr>\n",
       "  </thead>\n",
       "  <tbody>\n",
       "    <tr>\n",
       "      <th>0</th>\n",
       "      <td>Afghanistan</td>\n",
       "      <td>Southern Asia</td>\n",
       "      <td>2015</td>\n",
       "      <td>153</td>\n",
       "      <td>3.575</td>\n",
       "      <td>0.319820</td>\n",
       "      <td>0.302850</td>\n",
       "      <td>0.303350</td>\n",
       "      <td>0.23414</td>\n",
       "      <td>0.097190</td>\n",
       "      <td>0.365100</td>\n",
       "      <td>1.952100</td>\n",
       "    </tr>\n",
       "    <tr>\n",
       "      <th>1</th>\n",
       "      <td>Afghanistan</td>\n",
       "      <td>Southern Asia</td>\n",
       "      <td>2016</td>\n",
       "      <td>154</td>\n",
       "      <td>3.360</td>\n",
       "      <td>0.382270</td>\n",
       "      <td>0.110370</td>\n",
       "      <td>0.173440</td>\n",
       "      <td>0.16430</td>\n",
       "      <td>0.071120</td>\n",
       "      <td>0.312680</td>\n",
       "      <td>2.145580</td>\n",
       "    </tr>\n",
       "    <tr>\n",
       "      <th>2</th>\n",
       "      <td>Afghanistan</td>\n",
       "      <td>Southern Asia</td>\n",
       "      <td>2017</td>\n",
       "      <td>141</td>\n",
       "      <td>3.794</td>\n",
       "      <td>0.401477</td>\n",
       "      <td>0.581543</td>\n",
       "      <td>0.180747</td>\n",
       "      <td>0.10618</td>\n",
       "      <td>0.061158</td>\n",
       "      <td>0.311871</td>\n",
       "      <td>2.150801</td>\n",
       "    </tr>\n",
       "    <tr>\n",
       "      <th>3</th>\n",
       "      <td>Afghanistan</td>\n",
       "      <td>Southern Asia</td>\n",
       "      <td>2018</td>\n",
       "      <td>145</td>\n",
       "      <td>3.632</td>\n",
       "      <td>0.332000</td>\n",
       "      <td>0.537000</td>\n",
       "      <td>0.255000</td>\n",
       "      <td>0.08500</td>\n",
       "      <td>0.036000</td>\n",
       "      <td>0.191000</td>\n",
       "      <td>NaN</td>\n",
       "    </tr>\n",
       "    <tr>\n",
       "      <th>4</th>\n",
       "      <td>Afghanistan</td>\n",
       "      <td>Southern Asia</td>\n",
       "      <td>2019</td>\n",
       "      <td>154</td>\n",
       "      <td>3.203</td>\n",
       "      <td>0.350000</td>\n",
       "      <td>0.517000</td>\n",
       "      <td>0.361000</td>\n",
       "      <td>0.00000</td>\n",
       "      <td>0.025000</td>\n",
       "      <td>0.158000</td>\n",
       "      <td>NaN</td>\n",
       "    </tr>\n",
       "  </tbody>\n",
       "</table>\n",
       "</div>"
      ],
      "text/plain": [
       "       Country         Region  Year  Happiness_Rank  Happiness_Score  \\\n",
       "0  Afghanistan  Southern Asia  2015             153            3.575   \n",
       "1  Afghanistan  Southern Asia  2016             154            3.360   \n",
       "2  Afghanistan  Southern Asia  2017             141            3.794   \n",
       "3  Afghanistan  Southern Asia  2018             145            3.632   \n",
       "4  Afghanistan  Southern Asia  2019             154            3.203   \n",
       "\n",
       "   Economy_GDP_per_Capita    Family  Health_Life_Expectancy  Freedom  \\\n",
       "0                0.319820  0.302850                0.303350  0.23414   \n",
       "1                0.382270  0.110370                0.173440  0.16430   \n",
       "2                0.401477  0.581543                0.180747  0.10618   \n",
       "3                0.332000  0.537000                0.255000  0.08500   \n",
       "4                0.350000  0.517000                0.361000  0.00000   \n",
       "\n",
       "   Trust_Government_Corruption  Generosity  Dystopia_Residual  \n",
       "0                     0.097190    0.365100           1.952100  \n",
       "1                     0.071120    0.312680           2.145580  \n",
       "2                     0.061158    0.311871           2.150801  \n",
       "3                     0.036000    0.191000                NaN  \n",
       "4                     0.025000    0.158000                NaN  "
      ]
     },
     "execution_count": 275,
     "metadata": {},
     "output_type": "execute_result"
    }
   ],
   "source": [
    "happiness_datasets = [happiness_2015, happiness_2016, happiness_2017, happiness_2018, happiness_2019] # List of all happiness datasets\n",
    "\n",
    "all_happiness_data = pd.concat(happiness_datasets, ignore_index=True)# Concatenating datasets row-wise\n",
    "\n",
    "all_happiness_data = all_happiness_data.sort_values(by=['Country', 'Year']).reset_index(drop=True)# Sorting by Country and Year\n",
    "\n",
    "all_happiness_data = pd.merge(all_happiness_data, country_and_regions, on='Country', how='left')# Merging with country and regions data\n",
    "\n",
    "desired_columns = [\n",
    "    'Country', 'Region', 'Year', 'Happiness_Rank', 'Happiness_Score',\n",
    "    'Economy_GDP_per_Capita', 'Family', 'Health_Life_Expectancy',\n",
    "    'Freedom', 'Trust_Government_Corruption', 'Generosity',\n",
    "    'Dystopia_Residual'\n",
    "]# List of columns in the desired order\n",
    "\n",
    "all_happiness_data = all_happiness_data[desired_columns]# Reindexing columns in all_happiness_data DataFrame\n",
    "\n",
    "all_happiness_data.head()\n",
    "\n"
   ]
  },
  {
   "cell_type": "markdown",
   "metadata": {},
   "source": [
    "Now my dataset is ready for Exploratory Data Analysis (EDA). Afterward, I can use our dataset for visualizations."
   ]
  },
  {
   "cell_type": "markdown",
   "metadata": {},
   "source": [
    "# <b>Exploratory Data Analysis (EDA)</b>\n"
   ]
  },
  {
   "cell_type": "code",
   "execution_count": 276,
   "metadata": {},
   "outputs": [
    {
     "data": {
      "text/html": [
       "<div>\n",
       "<style scoped>\n",
       "    .dataframe tbody tr th:only-of-type {\n",
       "        vertical-align: middle;\n",
       "    }\n",
       "\n",
       "    .dataframe tbody tr th {\n",
       "        vertical-align: top;\n",
       "    }\n",
       "\n",
       "    .dataframe thead th {\n",
       "        text-align: right;\n",
       "    }\n",
       "</style>\n",
       "<table border=\"1\" class=\"dataframe\">\n",
       "  <thead>\n",
       "    <tr style=\"text-align: right;\">\n",
       "      <th></th>\n",
       "      <th>Country</th>\n",
       "      <th>Region</th>\n",
       "      <th>Year</th>\n",
       "      <th>Happiness_Rank</th>\n",
       "      <th>Happiness_Score</th>\n",
       "      <th>Economy_GDP_per_Capita</th>\n",
       "      <th>Family</th>\n",
       "      <th>Health_Life_Expectancy</th>\n",
       "      <th>Freedom</th>\n",
       "      <th>Trust_Government_Corruption</th>\n",
       "      <th>Generosity</th>\n",
       "      <th>Dystopia_Residual</th>\n",
       "    </tr>\n",
       "  </thead>\n",
       "  <tbody>\n",
       "    <tr>\n",
       "      <th>0</th>\n",
       "      <td>Afghanistan</td>\n",
       "      <td>Southern Asia</td>\n",
       "      <td>2015</td>\n",
       "      <td>153</td>\n",
       "      <td>3.575</td>\n",
       "      <td>0.319820</td>\n",
       "      <td>0.302850</td>\n",
       "      <td>0.303350</td>\n",
       "      <td>0.23414</td>\n",
       "      <td>0.097190</td>\n",
       "      <td>0.365100</td>\n",
       "      <td>1.952100</td>\n",
       "    </tr>\n",
       "    <tr>\n",
       "      <th>1</th>\n",
       "      <td>Afghanistan</td>\n",
       "      <td>Southern Asia</td>\n",
       "      <td>2016</td>\n",
       "      <td>154</td>\n",
       "      <td>3.360</td>\n",
       "      <td>0.382270</td>\n",
       "      <td>0.110370</td>\n",
       "      <td>0.173440</td>\n",
       "      <td>0.16430</td>\n",
       "      <td>0.071120</td>\n",
       "      <td>0.312680</td>\n",
       "      <td>2.145580</td>\n",
       "    </tr>\n",
       "    <tr>\n",
       "      <th>2</th>\n",
       "      <td>Afghanistan</td>\n",
       "      <td>Southern Asia</td>\n",
       "      <td>2017</td>\n",
       "      <td>141</td>\n",
       "      <td>3.794</td>\n",
       "      <td>0.401477</td>\n",
       "      <td>0.581543</td>\n",
       "      <td>0.180747</td>\n",
       "      <td>0.10618</td>\n",
       "      <td>0.061158</td>\n",
       "      <td>0.311871</td>\n",
       "      <td>2.150801</td>\n",
       "    </tr>\n",
       "    <tr>\n",
       "      <th>3</th>\n",
       "      <td>Afghanistan</td>\n",
       "      <td>Southern Asia</td>\n",
       "      <td>2018</td>\n",
       "      <td>145</td>\n",
       "      <td>3.632</td>\n",
       "      <td>0.332000</td>\n",
       "      <td>0.537000</td>\n",
       "      <td>0.255000</td>\n",
       "      <td>0.08500</td>\n",
       "      <td>0.036000</td>\n",
       "      <td>0.191000</td>\n",
       "      <td>NaN</td>\n",
       "    </tr>\n",
       "    <tr>\n",
       "      <th>4</th>\n",
       "      <td>Afghanistan</td>\n",
       "      <td>Southern Asia</td>\n",
       "      <td>2019</td>\n",
       "      <td>154</td>\n",
       "      <td>3.203</td>\n",
       "      <td>0.350000</td>\n",
       "      <td>0.517000</td>\n",
       "      <td>0.361000</td>\n",
       "      <td>0.00000</td>\n",
       "      <td>0.025000</td>\n",
       "      <td>0.158000</td>\n",
       "      <td>NaN</td>\n",
       "    </tr>\n",
       "  </tbody>\n",
       "</table>\n",
       "</div>"
      ],
      "text/plain": [
       "       Country         Region  Year  Happiness_Rank  Happiness_Score  \\\n",
       "0  Afghanistan  Southern Asia  2015             153            3.575   \n",
       "1  Afghanistan  Southern Asia  2016             154            3.360   \n",
       "2  Afghanistan  Southern Asia  2017             141            3.794   \n",
       "3  Afghanistan  Southern Asia  2018             145            3.632   \n",
       "4  Afghanistan  Southern Asia  2019             154            3.203   \n",
       "\n",
       "   Economy_GDP_per_Capita    Family  Health_Life_Expectancy  Freedom  \\\n",
       "0                0.319820  0.302850                0.303350  0.23414   \n",
       "1                0.382270  0.110370                0.173440  0.16430   \n",
       "2                0.401477  0.581543                0.180747  0.10618   \n",
       "3                0.332000  0.537000                0.255000  0.08500   \n",
       "4                0.350000  0.517000                0.361000  0.00000   \n",
       "\n",
       "   Trust_Government_Corruption  Generosity  Dystopia_Residual  \n",
       "0                     0.097190    0.365100           1.952100  \n",
       "1                     0.071120    0.312680           2.145580  \n",
       "2                     0.061158    0.311871           2.150801  \n",
       "3                     0.036000    0.191000                NaN  \n",
       "4                     0.025000    0.158000                NaN  "
      ]
     },
     "execution_count": 276,
     "metadata": {},
     "output_type": "execute_result"
    }
   ],
   "source": [
    "all_happiness_data.head()"
   ]
  },
  {
   "cell_type": "markdown",
   "metadata": {},
   "source": [
    "# Let's check the shape of the dataframe:\n"
   ]
  },
  {
   "cell_type": "code",
   "execution_count": 277,
   "metadata": {},
   "outputs": [
    {
     "data": {
      "text/plain": [
       "(782, 12)"
      ]
     },
     "execution_count": 277,
     "metadata": {},
     "output_type": "execute_result"
    }
   ],
   "source": [
    "all_happiness_data.shape"
   ]
  },
  {
   "cell_type": "markdown",
   "metadata": {},
   "source": [
    "The dataset has 782 rows and 12 Columns"
   ]
  },
  {
   "cell_type": "code",
   "execution_count": 278,
   "metadata": {},
   "outputs": [
    {
     "name": "stdout",
     "output_type": "stream",
     "text": [
      "<class 'pandas.core.frame.DataFrame'>\n",
      "RangeIndex: 782 entries, 0 to 781\n",
      "Data columns (total 12 columns):\n",
      " #   Column                       Non-Null Count  Dtype  \n",
      "---  ------                       --------------  -----  \n",
      " 0   Country                      782 non-null    object \n",
      " 1   Region                       757 non-null    object \n",
      " 2   Year                         782 non-null    int64  \n",
      " 3   Happiness_Rank               782 non-null    int64  \n",
      " 4   Happiness_Score              782 non-null    float64\n",
      " 5   Economy_GDP_per_Capita       782 non-null    float64\n",
      " 6   Family                       782 non-null    float64\n",
      " 7   Health_Life_Expectancy       782 non-null    float64\n",
      " 8   Freedom                      782 non-null    float64\n",
      " 9   Trust_Government_Corruption  781 non-null    float64\n",
      " 10  Generosity                   782 non-null    float64\n",
      " 11  Dystopia_Residual            470 non-null    float64\n",
      "dtypes: float64(8), int64(2), object(2)\n",
      "memory usage: 73.4+ KB\n"
     ]
    }
   ],
   "source": [
    "all_happiness_data.info()"
   ]
  },
  {
   "cell_type": "markdown",
   "metadata": {},
   "source": [
    "# Let's count the number of unique values in each column"
   ]
  },
  {
   "cell_type": "code",
   "execution_count": 279,
   "metadata": {},
   "outputs": [
    {
     "data": {
      "text/plain": [
       "Country                        170\n",
       "Region                          10\n",
       "Year                             5\n",
       "Happiness_Rank                 158\n",
       "Happiness_Score                716\n",
       "Economy_GDP_per_Capita         742\n",
       "Family                         732\n",
       "Health_Life_Expectancy         705\n",
       "Freedom                        697\n",
       "Trust_Government_Corruption    635\n",
       "Generosity                     664\n",
       "Dystopia_Residual              470\n",
       "dtype: int64"
      ]
     },
     "execution_count": 279,
     "metadata": {},
     "output_type": "execute_result"
    }
   ],
   "source": [
    "all_happiness_data.nunique()\n"
   ]
  },
  {
   "cell_type": "markdown",
   "metadata": {},
   "source": [
    "# Count duplicated rows in the dataset"
   ]
  },
  {
   "cell_type": "code",
   "execution_count": 280,
   "metadata": {},
   "outputs": [
    {
     "data": {
      "text/plain": [
       "np.int64(0)"
      ]
     },
     "execution_count": 280,
     "metadata": {},
     "output_type": "execute_result"
    }
   ],
   "source": [
    "all_happiness_data.duplicated().sum()\n"
   ]
  },
  {
   "cell_type": "markdown",
   "metadata": {},
   "source": [
    "# Count missing values in each column:\n"
   ]
  },
  {
   "cell_type": "code",
   "execution_count": 281,
   "metadata": {},
   "outputs": [
    {
     "data": {
      "text/plain": [
       "Country                          0\n",
       "Region                          25\n",
       "Year                             0\n",
       "Happiness_Rank                   0\n",
       "Happiness_Score                  0\n",
       "Economy_GDP_per_Capita           0\n",
       "Family                           0\n",
       "Health_Life_Expectancy           0\n",
       "Freedom                          0\n",
       "Trust_Government_Corruption      1\n",
       "Generosity                       0\n",
       "Dystopia_Residual              312\n",
       "dtype: int64"
      ]
     },
     "execution_count": 281,
     "metadata": {},
     "output_type": "execute_result"
    }
   ],
   "source": [
    "all_happiness_data.isnull().sum()\n"
   ]
  },
  {
   "cell_type": "markdown",
   "metadata": {},
   "source": [
    "As I can observe, the 'Dystopia_Residual' column contains numerous NaN values. Therefore, I have decided to remove this column from my project since it is not critical to the analysis and its presence might affect the overall data quality."
   ]
  },
  {
   "cell_type": "code",
   "execution_count": 282,
   "metadata": {},
   "outputs": [],
   "source": [
    "all_happiness_data = all_happiness_data.drop(columns=['Dystopia_Residual'])\n"
   ]
  },
  {
   "cell_type": "code",
   "execution_count": 283,
   "metadata": {},
   "outputs": [
    {
     "data": {
      "text/plain": [
       "Index(['Country', 'Region', 'Year', 'Happiness_Rank', 'Happiness_Score',\n",
       "       'Economy_GDP_per_Capita', 'Family', 'Health_Life_Expectancy', 'Freedom',\n",
       "       'Trust_Government_Corruption', 'Generosity'],\n",
       "      dtype='object')"
      ]
     },
     "execution_count": 283,
     "metadata": {},
     "output_type": "execute_result"
    }
   ],
   "source": [
    "all_happiness_data.columns"
   ]
  },
  {
   "cell_type": "markdown",
   "metadata": {},
   "source": [
    "Additionally, I  observe that the 'Region' column contains some NaN values. Let's take a closer look at them."
   ]
  },
  {
   "cell_type": "code",
   "execution_count": 284,
   "metadata": {},
   "outputs": [
    {
     "data": {
      "text/html": [
       "<div>\n",
       "<style scoped>\n",
       "    .dataframe tbody tr th:only-of-type {\n",
       "        vertical-align: middle;\n",
       "    }\n",
       "\n",
       "    .dataframe tbody tr th {\n",
       "        vertical-align: top;\n",
       "    }\n",
       "\n",
       "    .dataframe thead th {\n",
       "        text-align: right;\n",
       "    }\n",
       "</style>\n",
       "<table border=\"1\" class=\"dataframe\">\n",
       "  <thead>\n",
       "    <tr style=\"text-align: right;\">\n",
       "      <th></th>\n",
       "      <th>Country</th>\n",
       "      <th>Region</th>\n",
       "      <th>Year</th>\n",
       "    </tr>\n",
       "  </thead>\n",
       "  <tbody>\n",
       "    <tr>\n",
       "      <th>64</th>\n",
       "      <td>Belize</td>\n",
       "      <td>NaN</td>\n",
       "      <td>2016</td>\n",
       "    </tr>\n",
       "    <tr>\n",
       "      <th>65</th>\n",
       "      <td>Belize</td>\n",
       "      <td>NaN</td>\n",
       "      <td>2017</td>\n",
       "    </tr>\n",
       "    <tr>\n",
       "      <th>66</th>\n",
       "      <td>Belize</td>\n",
       "      <td>NaN</td>\n",
       "      <td>2018</td>\n",
       "    </tr>\n",
       "    <tr>\n",
       "      <th>235</th>\n",
       "      <td>Gambia</td>\n",
       "      <td>NaN</td>\n",
       "      <td>2019</td>\n",
       "    </tr>\n",
       "    <tr>\n",
       "      <th>280</th>\n",
       "      <td>Hong Kong S.A.R., China</td>\n",
       "      <td>NaN</td>\n",
       "      <td>2017</td>\n",
       "    </tr>\n",
       "    <tr>\n",
       "      <th>482</th>\n",
       "      <td>Namibia</td>\n",
       "      <td>NaN</td>\n",
       "      <td>2016</td>\n",
       "    </tr>\n",
       "    <tr>\n",
       "      <th>483</th>\n",
       "      <td>Namibia</td>\n",
       "      <td>NaN</td>\n",
       "      <td>2017</td>\n",
       "    </tr>\n",
       "    <tr>\n",
       "      <th>484</th>\n",
       "      <td>Namibia</td>\n",
       "      <td>NaN</td>\n",
       "      <td>2018</td>\n",
       "    </tr>\n",
       "    <tr>\n",
       "      <th>485</th>\n",
       "      <td>Namibia</td>\n",
       "      <td>NaN</td>\n",
       "      <td>2019</td>\n",
       "    </tr>\n",
       "    <tr>\n",
       "      <th>519</th>\n",
       "      <td>North Macedonia</td>\n",
       "      <td>NaN</td>\n",
       "      <td>2019</td>\n",
       "    </tr>\n",
       "    <tr>\n",
       "      <th>520</th>\n",
       "      <td>Northern Cyprus</td>\n",
       "      <td>NaN</td>\n",
       "      <td>2018</td>\n",
       "    </tr>\n",
       "    <tr>\n",
       "      <th>521</th>\n",
       "      <td>Northern Cyprus</td>\n",
       "      <td>NaN</td>\n",
       "      <td>2019</td>\n",
       "    </tr>\n",
       "    <tr>\n",
       "      <th>568</th>\n",
       "      <td>Puerto Rico</td>\n",
       "      <td>NaN</td>\n",
       "      <td>2016</td>\n",
       "    </tr>\n",
       "    <tr>\n",
       "      <th>624</th>\n",
       "      <td>Somalia</td>\n",
       "      <td>NaN</td>\n",
       "      <td>2016</td>\n",
       "    </tr>\n",
       "    <tr>\n",
       "      <th>625</th>\n",
       "      <td>Somalia</td>\n",
       "      <td>NaN</td>\n",
       "      <td>2017</td>\n",
       "    </tr>\n",
       "    <tr>\n",
       "      <th>626</th>\n",
       "      <td>Somalia</td>\n",
       "      <td>NaN</td>\n",
       "      <td>2018</td>\n",
       "    </tr>\n",
       "    <tr>\n",
       "      <th>627</th>\n",
       "      <td>Somalia</td>\n",
       "      <td>NaN</td>\n",
       "      <td>2019</td>\n",
       "    </tr>\n",
       "    <tr>\n",
       "      <th>628</th>\n",
       "      <td>Somaliland Region</td>\n",
       "      <td>NaN</td>\n",
       "      <td>2016</td>\n",
       "    </tr>\n",
       "    <tr>\n",
       "      <th>640</th>\n",
       "      <td>South Sudan</td>\n",
       "      <td>NaN</td>\n",
       "      <td>2016</td>\n",
       "    </tr>\n",
       "    <tr>\n",
       "      <th>641</th>\n",
       "      <td>South Sudan</td>\n",
       "      <td>NaN</td>\n",
       "      <td>2017</td>\n",
       "    </tr>\n",
       "    <tr>\n",
       "      <th>642</th>\n",
       "      <td>South Sudan</td>\n",
       "      <td>NaN</td>\n",
       "      <td>2018</td>\n",
       "    </tr>\n",
       "    <tr>\n",
       "      <th>643</th>\n",
       "      <td>South Sudan</td>\n",
       "      <td>NaN</td>\n",
       "      <td>2019</td>\n",
       "    </tr>\n",
       "    <tr>\n",
       "      <th>681</th>\n",
       "      <td>Taiwan Province of China</td>\n",
       "      <td>NaN</td>\n",
       "      <td>2017</td>\n",
       "    </tr>\n",
       "    <tr>\n",
       "      <th>702</th>\n",
       "      <td>Trinidad &amp; Tobago</td>\n",
       "      <td>NaN</td>\n",
       "      <td>2018</td>\n",
       "    </tr>\n",
       "    <tr>\n",
       "      <th>703</th>\n",
       "      <td>Trinidad &amp; Tobago</td>\n",
       "      <td>NaN</td>\n",
       "      <td>2019</td>\n",
       "    </tr>\n",
       "  </tbody>\n",
       "</table>\n",
       "</div>"
      ],
      "text/plain": [
       "                      Country Region  Year\n",
       "64                     Belize    NaN  2016\n",
       "65                     Belize    NaN  2017\n",
       "66                     Belize    NaN  2018\n",
       "235                    Gambia    NaN  2019\n",
       "280   Hong Kong S.A.R., China    NaN  2017\n",
       "482                   Namibia    NaN  2016\n",
       "483                   Namibia    NaN  2017\n",
       "484                   Namibia    NaN  2018\n",
       "485                   Namibia    NaN  2019\n",
       "519           North Macedonia    NaN  2019\n",
       "520           Northern Cyprus    NaN  2018\n",
       "521           Northern Cyprus    NaN  2019\n",
       "568               Puerto Rico    NaN  2016\n",
       "624                   Somalia    NaN  2016\n",
       "625                   Somalia    NaN  2017\n",
       "626                   Somalia    NaN  2018\n",
       "627                   Somalia    NaN  2019\n",
       "628         Somaliland Region    NaN  2016\n",
       "640               South Sudan    NaN  2016\n",
       "641               South Sudan    NaN  2017\n",
       "642               South Sudan    NaN  2018\n",
       "643               South Sudan    NaN  2019\n",
       "681  Taiwan Province of China    NaN  2017\n",
       "702         Trinidad & Tobago    NaN  2018\n",
       "703         Trinidad & Tobago    NaN  2019"
      ]
     },
     "execution_count": 284,
     "metadata": {},
     "output_type": "execute_result"
    }
   ],
   "source": [
    "all_happiness_data[all_happiness_data['Region'].isna()][['Country', 'Region','Year']]\n",
    "\n"
   ]
  },
  {
   "cell_type": "markdown",
   "metadata": {},
   "source": [
    "We can see that only the following countries have NaN values in the Region column: Belize, Gambia, Hong Kong S.A.R., China, Namibia, North Macedonia, Northern Cyprus, Puerto Rico, Somalia, Somaliland Region, South Sudan, Taiwan Province of China, and Trinidad & Tobago. I checked their actual regions from this Wikipedia link \"https://en.wikipedia.org/wiki/List_of_countries_and_territories_by_the_United_Nations_geoscheme\", and the countries correspond to these regions:"
   ]
  },
  {
   "cell_type": "markdown",
   "metadata": {},
   "source": [
    "- Belize: Latin America and the Caribbean\n",
    "- Gambia: Sub-Saharan Africa\n",
    "- Hong Kong S.A.R., China: Eastern Asia\n",
    "- Namibia: Sub-Saharan Africa\n",
    "- North Macedonia: Southern Europe\n",
    "- Northern Cyprus: Western Asia\n",
    "- Puerto Rico: Latin America and the Caribbean\n",
    "- Somalia: Sub-Saharan Africa\n",
    "- Somaliland Region: Eastern Africa\n",
    "- South Sudan: Sub-Saharan Africa\n",
    "- Taiwan Province of China: Eastern Asia\n",
    "-Trinidad & Tobago: Latin America and the Caribbean"
   ]
  },
  {
   "cell_type": "markdown",
   "metadata": {},
   "source": [
    "Let's check how many countries there are in each region."
   ]
  },
  {
   "cell_type": "code",
   "execution_count": 285,
   "metadata": {},
   "outputs": [
    {
     "data": {
      "text/html": [
       "<div>\n",
       "<style scoped>\n",
       "    .dataframe tbody tr th:only-of-type {\n",
       "        vertical-align: middle;\n",
       "    }\n",
       "\n",
       "    .dataframe tbody tr th {\n",
       "        vertical-align: top;\n",
       "    }\n",
       "\n",
       "    .dataframe thead th {\n",
       "        text-align: right;\n",
       "    }\n",
       "</style>\n",
       "<table border=\"1\" class=\"dataframe\">\n",
       "  <thead>\n",
       "    <tr style=\"text-align: right;\">\n",
       "      <th></th>\n",
       "      <th>number_of_countries</th>\n",
       "    </tr>\n",
       "    <tr>\n",
       "      <th>Region</th>\n",
       "      <th></th>\n",
       "    </tr>\n",
       "  </thead>\n",
       "  <tbody>\n",
       "    <tr>\n",
       "      <th>Australia and New Zealand</th>\n",
       "      <td>2</td>\n",
       "    </tr>\n",
       "    <tr>\n",
       "      <th>Central and Eastern Europe</th>\n",
       "      <td>29</td>\n",
       "    </tr>\n",
       "    <tr>\n",
       "      <th>Eastern Asia</th>\n",
       "      <td>6</td>\n",
       "    </tr>\n",
       "    <tr>\n",
       "      <th>Latin America and Caribbean</th>\n",
       "      <td>22</td>\n",
       "    </tr>\n",
       "    <tr>\n",
       "      <th>Middle East and Northern Africa</th>\n",
       "      <td>20</td>\n",
       "    </tr>\n",
       "    <tr>\n",
       "      <th>North America</th>\n",
       "      <td>2</td>\n",
       "    </tr>\n",
       "    <tr>\n",
       "      <th>Southeastern Asia</th>\n",
       "      <td>9</td>\n",
       "    </tr>\n",
       "    <tr>\n",
       "      <th>Southern Asia</th>\n",
       "      <td>7</td>\n",
       "    </tr>\n",
       "    <tr>\n",
       "      <th>Sub-Saharan Africa</th>\n",
       "      <td>40</td>\n",
       "    </tr>\n",
       "    <tr>\n",
       "      <th>Western Europe</th>\n",
       "      <td>21</td>\n",
       "    </tr>\n",
       "  </tbody>\n",
       "</table>\n",
       "</div>"
      ],
      "text/plain": [
       "                                 number_of_countries\n",
       "Region                                              \n",
       "Australia and New Zealand                          2\n",
       "Central and Eastern Europe                        29\n",
       "Eastern Asia                                       6\n",
       "Latin America and Caribbean                       22\n",
       "Middle East and Northern Africa                   20\n",
       "North America                                      2\n",
       "Southeastern Asia                                  9\n",
       "Southern Asia                                      7\n",
       "Sub-Saharan Africa                                40\n",
       "Western Europe                                    21"
      ]
     },
     "execution_count": 285,
     "metadata": {},
     "output_type": "execute_result"
    }
   ],
   "source": [
    "region_country_counts = all_happiness_data.groupby('Region')['Country'].nunique().to_frame(name='number_of_countries')\n",
    "\n",
    "region_country_counts"
   ]
  },
  {
   "cell_type": "markdown",
   "metadata": {},
   "source": [
    "Upon reviewing the dataset, I noticed that if I manually add these regions to my dataset, the majority of countries will be assigned to 'Sub-Saharan Africa', 'Latin America and the Caribbean', and 'Eastern Asia', where I have sufficient representation from these regions. Therefore, the NaN values will not significantly affect our analysis. Consequently, I decided to keep them as null rather than manually filling in these values from Wikipedia, even though the information is consistent across sources. For this project, I believe everything should be handled automatically."
   ]
  },
  {
   "cell_type": "markdown",
   "metadata": {},
   "source": [
    "Displaying the data type of each column"
   ]
  },
  {
   "cell_type": "code",
   "execution_count": 286,
   "metadata": {},
   "outputs": [
    {
     "data": {
      "text/plain": [
       "Country                         object\n",
       "Region                          object\n",
       "Year                             int64\n",
       "Happiness_Rank                   int64\n",
       "Happiness_Score                float64\n",
       "Economy_GDP_per_Capita         float64\n",
       "Family                         float64\n",
       "Health_Life_Expectancy         float64\n",
       "Freedom                        float64\n",
       "Trust_Government_Corruption    float64\n",
       "Generosity                     float64\n",
       "dtype: object"
      ]
     },
     "execution_count": 286,
     "metadata": {},
     "output_type": "execute_result"
    }
   ],
   "source": [
    "all_happiness_data.dtypes"
   ]
  },
  {
   "cell_type": "markdown",
   "metadata": {},
   "source": [
    "Summary statistics for numeric columns"
   ]
  },
  {
   "cell_type": "code",
   "execution_count": 287,
   "metadata": {},
   "outputs": [
    {
     "data": {
      "text/html": [
       "<div>\n",
       "<style scoped>\n",
       "    .dataframe tbody tr th:only-of-type {\n",
       "        vertical-align: middle;\n",
       "    }\n",
       "\n",
       "    .dataframe tbody tr th {\n",
       "        vertical-align: top;\n",
       "    }\n",
       "\n",
       "    .dataframe thead th {\n",
       "        text-align: right;\n",
       "    }\n",
       "</style>\n",
       "<table border=\"1\" class=\"dataframe\">\n",
       "  <thead>\n",
       "    <tr style=\"text-align: right;\">\n",
       "      <th></th>\n",
       "      <th>count</th>\n",
       "      <th>mean</th>\n",
       "      <th>std</th>\n",
       "      <th>min</th>\n",
       "      <th>25%</th>\n",
       "      <th>50%</th>\n",
       "      <th>75%</th>\n",
       "      <th>max</th>\n",
       "    </tr>\n",
       "  </thead>\n",
       "  <tbody>\n",
       "    <tr>\n",
       "      <th>Year</th>\n",
       "      <td>782.0</td>\n",
       "      <td>2016.993606</td>\n",
       "      <td>1.417364</td>\n",
       "      <td>2015.000</td>\n",
       "      <td>2016.000000</td>\n",
       "      <td>2017.000000</td>\n",
       "      <td>2018.000000</td>\n",
       "      <td>2019.000000</td>\n",
       "    </tr>\n",
       "    <tr>\n",
       "      <th>Happiness_Rank</th>\n",
       "      <td>782.0</td>\n",
       "      <td>78.698210</td>\n",
       "      <td>45.182384</td>\n",
       "      <td>1.000</td>\n",
       "      <td>40.000000</td>\n",
       "      <td>79.000000</td>\n",
       "      <td>118.000000</td>\n",
       "      <td>158.000000</td>\n",
       "    </tr>\n",
       "    <tr>\n",
       "      <th>Happiness_Score</th>\n",
       "      <td>782.0</td>\n",
       "      <td>5.379018</td>\n",
       "      <td>1.127456</td>\n",
       "      <td>2.693</td>\n",
       "      <td>4.509750</td>\n",
       "      <td>5.322000</td>\n",
       "      <td>6.189500</td>\n",
       "      <td>7.769000</td>\n",
       "    </tr>\n",
       "    <tr>\n",
       "      <th>Economy_GDP_per_Capita</th>\n",
       "      <td>782.0</td>\n",
       "      <td>0.916047</td>\n",
       "      <td>0.407340</td>\n",
       "      <td>0.000</td>\n",
       "      <td>0.606500</td>\n",
       "      <td>0.982205</td>\n",
       "      <td>1.236187</td>\n",
       "      <td>2.096000</td>\n",
       "    </tr>\n",
       "    <tr>\n",
       "      <th>Family</th>\n",
       "      <td>782.0</td>\n",
       "      <td>1.078392</td>\n",
       "      <td>0.329548</td>\n",
       "      <td>0.000</td>\n",
       "      <td>0.869363</td>\n",
       "      <td>1.124735</td>\n",
       "      <td>1.327250</td>\n",
       "      <td>1.644000</td>\n",
       "    </tr>\n",
       "    <tr>\n",
       "      <th>Health_Life_Expectancy</th>\n",
       "      <td>782.0</td>\n",
       "      <td>0.612416</td>\n",
       "      <td>0.248309</td>\n",
       "      <td>0.000</td>\n",
       "      <td>0.440183</td>\n",
       "      <td>0.647310</td>\n",
       "      <td>0.808000</td>\n",
       "      <td>1.141000</td>\n",
       "    </tr>\n",
       "    <tr>\n",
       "      <th>Freedom</th>\n",
       "      <td>782.0</td>\n",
       "      <td>0.411091</td>\n",
       "      <td>0.152880</td>\n",
       "      <td>0.000</td>\n",
       "      <td>0.309768</td>\n",
       "      <td>0.431000</td>\n",
       "      <td>0.531000</td>\n",
       "      <td>0.724000</td>\n",
       "    </tr>\n",
       "    <tr>\n",
       "      <th>Trust_Government_Corruption</th>\n",
       "      <td>781.0</td>\n",
       "      <td>0.125436</td>\n",
       "      <td>0.105816</td>\n",
       "      <td>0.000</td>\n",
       "      <td>0.054000</td>\n",
       "      <td>0.091000</td>\n",
       "      <td>0.156030</td>\n",
       "      <td>0.551910</td>\n",
       "    </tr>\n",
       "    <tr>\n",
       "      <th>Generosity</th>\n",
       "      <td>782.0</td>\n",
       "      <td>0.218576</td>\n",
       "      <td>0.122321</td>\n",
       "      <td>0.000</td>\n",
       "      <td>0.130000</td>\n",
       "      <td>0.201982</td>\n",
       "      <td>0.278832</td>\n",
       "      <td>0.838075</td>\n",
       "    </tr>\n",
       "  </tbody>\n",
       "</table>\n",
       "</div>"
      ],
      "text/plain": [
       "                             count         mean        std       min  \\\n",
       "Year                         782.0  2016.993606   1.417364  2015.000   \n",
       "Happiness_Rank               782.0    78.698210  45.182384     1.000   \n",
       "Happiness_Score              782.0     5.379018   1.127456     2.693   \n",
       "Economy_GDP_per_Capita       782.0     0.916047   0.407340     0.000   \n",
       "Family                       782.0     1.078392   0.329548     0.000   \n",
       "Health_Life_Expectancy       782.0     0.612416   0.248309     0.000   \n",
       "Freedom                      782.0     0.411091   0.152880     0.000   \n",
       "Trust_Government_Corruption  781.0     0.125436   0.105816     0.000   \n",
       "Generosity                   782.0     0.218576   0.122321     0.000   \n",
       "\n",
       "                                     25%          50%          75%  \\\n",
       "Year                         2016.000000  2017.000000  2018.000000   \n",
       "Happiness_Rank                 40.000000    79.000000   118.000000   \n",
       "Happiness_Score                 4.509750     5.322000     6.189500   \n",
       "Economy_GDP_per_Capita          0.606500     0.982205     1.236187   \n",
       "Family                          0.869363     1.124735     1.327250   \n",
       "Health_Life_Expectancy          0.440183     0.647310     0.808000   \n",
       "Freedom                         0.309768     0.431000     0.531000   \n",
       "Trust_Government_Corruption     0.054000     0.091000     0.156030   \n",
       "Generosity                      0.130000     0.201982     0.278832   \n",
       "\n",
       "                                     max  \n",
       "Year                         2019.000000  \n",
       "Happiness_Rank                158.000000  \n",
       "Happiness_Score                 7.769000  \n",
       "Economy_GDP_per_Capita          2.096000  \n",
       "Family                          1.644000  \n",
       "Health_Life_Expectancy          1.141000  \n",
       "Freedom                         0.724000  \n",
       "Trust_Government_Corruption     0.551910  \n",
       "Generosity                      0.838075  "
      ]
     },
     "execution_count": 287,
     "metadata": {},
     "output_type": "execute_result"
    }
   ],
   "source": [
    "all_happiness_data.describe().transpose()"
   ]
  },
  {
   "cell_type": "markdown",
   "metadata": {},
   "source": [
    "In order to incorporate this dataset into my storytelling Jupyter notebook, I am saving it locally and will subsequently read from it for analysis."
   ]
  },
  {
   "cell_type": "code",
   "execution_count": 288,
   "metadata": {},
   "outputs": [],
   "source": [
    "all_happiness_data.to_csv('../data/all_happiness_data.csv', index=False)\n"
   ]
  }
 ],
 "metadata": {
  "kernelspec": {
   "display_name": "env",
   "language": "python",
   "name": "python3"
  },
  "language_info": {
   "codemirror_mode": {
    "name": "ipython",
    "version": 3
   },
   "file_extension": ".py",
   "mimetype": "text/x-python",
   "name": "python",
   "nbconvert_exporter": "python",
   "pygments_lexer": "ipython3",
   "version": "3.13.2"
  }
 },
 "nbformat": 4,
 "nbformat_minor": 2
}
